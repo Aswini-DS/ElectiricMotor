{
 "cells": [
  {
   "cell_type": "code",
   "execution_count": 1,
   "metadata": {},
   "outputs": [],
   "source": [
    "import numpy as np\n",
    "import pandas as pd\n",
    "import matplotlib.pyplot as plt\n",
    "%matplotlib inline"
   ]
  },
  {
   "cell_type": "code",
   "execution_count": 2,
   "metadata": {},
   "outputs": [],
   "source": [
    "pmsm = pd.read_csv(\"C:\\\\Users\\\\DBA\\\\Downloads\\\\Data\\\\pmsm_temperature_data.csv\")"
   ]
  },
  {
   "cell_type": "code",
   "execution_count": 4,
   "metadata": {},
   "outputs": [
    {
     "data": {
      "text/html": [
       "<div>\n",
       "<style scoped>\n",
       "    .dataframe tbody tr th:only-of-type {\n",
       "        vertical-align: middle;\n",
       "    }\n",
       "\n",
       "    .dataframe tbody tr th {\n",
       "        vertical-align: top;\n",
       "    }\n",
       "\n",
       "    .dataframe thead th {\n",
       "        text-align: right;\n",
       "    }\n",
       "</style>\n",
       "<table border=\"1\" class=\"dataframe\">\n",
       "  <thead>\n",
       "    <tr style=\"text-align: right;\">\n",
       "      <th></th>\n",
       "      <th>ambient</th>\n",
       "      <th>coolant</th>\n",
       "      <th>u_d</th>\n",
       "      <th>u_q</th>\n",
       "      <th>motor_speed</th>\n",
       "      <th>torque</th>\n",
       "      <th>i_d</th>\n",
       "      <th>i_q</th>\n",
       "      <th>pm</th>\n",
       "      <th>stator_yoke</th>\n",
       "      <th>stator_tooth</th>\n",
       "      <th>stator_winding</th>\n",
       "      <th>profile_id</th>\n",
       "    </tr>\n",
       "  </thead>\n",
       "  <tbody>\n",
       "    <tr>\n",
       "      <td>0</td>\n",
       "      <td>-0.752143</td>\n",
       "      <td>-1.118446</td>\n",
       "      <td>0.327935</td>\n",
       "      <td>-1.297858</td>\n",
       "      <td>-1.222428</td>\n",
       "      <td>-0.250182</td>\n",
       "      <td>1.029572</td>\n",
       "      <td>-0.245860</td>\n",
       "      <td>-2.522071</td>\n",
       "      <td>-1.831422</td>\n",
       "      <td>-2.066143</td>\n",
       "      <td>-2.018033</td>\n",
       "      <td>4</td>\n",
       "    </tr>\n",
       "    <tr>\n",
       "      <td>1</td>\n",
       "      <td>-0.771263</td>\n",
       "      <td>-1.117021</td>\n",
       "      <td>0.329665</td>\n",
       "      <td>-1.297686</td>\n",
       "      <td>-1.222429</td>\n",
       "      <td>-0.249133</td>\n",
       "      <td>1.029509</td>\n",
       "      <td>-0.245832</td>\n",
       "      <td>-2.522418</td>\n",
       "      <td>-1.830969</td>\n",
       "      <td>-2.064859</td>\n",
       "      <td>-2.017631</td>\n",
       "      <td>4</td>\n",
       "    </tr>\n",
       "    <tr>\n",
       "      <td>2</td>\n",
       "      <td>-0.782892</td>\n",
       "      <td>-1.116681</td>\n",
       "      <td>0.332771</td>\n",
       "      <td>-1.301822</td>\n",
       "      <td>-1.222428</td>\n",
       "      <td>-0.249431</td>\n",
       "      <td>1.029448</td>\n",
       "      <td>-0.245818</td>\n",
       "      <td>-2.522673</td>\n",
       "      <td>-1.830400</td>\n",
       "      <td>-2.064073</td>\n",
       "      <td>-2.017343</td>\n",
       "      <td>4</td>\n",
       "    </tr>\n",
       "    <tr>\n",
       "      <td>3</td>\n",
       "      <td>-0.780935</td>\n",
       "      <td>-1.116764</td>\n",
       "      <td>0.333700</td>\n",
       "      <td>-1.301852</td>\n",
       "      <td>-1.222430</td>\n",
       "      <td>-0.248636</td>\n",
       "      <td>1.032845</td>\n",
       "      <td>-0.246955</td>\n",
       "      <td>-2.521639</td>\n",
       "      <td>-1.830333</td>\n",
       "      <td>-2.063137</td>\n",
       "      <td>-2.017632</td>\n",
       "      <td>4</td>\n",
       "    </tr>\n",
       "    <tr>\n",
       "      <td>4</td>\n",
       "      <td>-0.774043</td>\n",
       "      <td>-1.116775</td>\n",
       "      <td>0.335206</td>\n",
       "      <td>-1.303118</td>\n",
       "      <td>-1.222429</td>\n",
       "      <td>-0.248701</td>\n",
       "      <td>1.031807</td>\n",
       "      <td>-0.246610</td>\n",
       "      <td>-2.521900</td>\n",
       "      <td>-1.830498</td>\n",
       "      <td>-2.062795</td>\n",
       "      <td>-2.018145</td>\n",
       "      <td>4</td>\n",
       "    </tr>\n",
       "  </tbody>\n",
       "</table>\n",
       "</div>"
      ],
      "text/plain": [
       "    ambient   coolant       u_d       u_q  motor_speed    torque       i_d  \\\n",
       "0 -0.752143 -1.118446  0.327935 -1.297858    -1.222428 -0.250182  1.029572   \n",
       "1 -0.771263 -1.117021  0.329665 -1.297686    -1.222429 -0.249133  1.029509   \n",
       "2 -0.782892 -1.116681  0.332771 -1.301822    -1.222428 -0.249431  1.029448   \n",
       "3 -0.780935 -1.116764  0.333700 -1.301852    -1.222430 -0.248636  1.032845   \n",
       "4 -0.774043 -1.116775  0.335206 -1.303118    -1.222429 -0.248701  1.031807   \n",
       "\n",
       "        i_q        pm  stator_yoke  stator_tooth  stator_winding  profile_id  \n",
       "0 -0.245860 -2.522071    -1.831422     -2.066143       -2.018033           4  \n",
       "1 -0.245832 -2.522418    -1.830969     -2.064859       -2.017631           4  \n",
       "2 -0.245818 -2.522673    -1.830400     -2.064073       -2.017343           4  \n",
       "3 -0.246955 -2.521639    -1.830333     -2.063137       -2.017632           4  \n",
       "4 -0.246610 -2.521900    -1.830498     -2.062795       -2.018145           4  "
      ]
     },
     "execution_count": 4,
     "metadata": {},
     "output_type": "execute_result"
    }
   ],
   "source": [
    "pmsm.head()"
   ]
  },
  {
   "cell_type": "markdown",
   "metadata": {},
   "source": [
    "# EDA"
   ]
  },
  {
   "cell_type": "code",
   "execution_count": 5,
   "metadata": {},
   "outputs": [
    {
     "data": {
      "text/plain": [
       "(998070, 13)"
      ]
     },
     "execution_count": 5,
     "metadata": {},
     "output_type": "execute_result"
    }
   ],
   "source": [
    "pmsm.shape"
   ]
  },
  {
   "cell_type": "code",
   "execution_count": 6,
   "metadata": {},
   "outputs": [
    {
     "data": {
      "text/html": [
       "<div>\n",
       "<style scoped>\n",
       "    .dataframe tbody tr th:only-of-type {\n",
       "        vertical-align: middle;\n",
       "    }\n",
       "\n",
       "    .dataframe tbody tr th {\n",
       "        vertical-align: top;\n",
       "    }\n",
       "\n",
       "    .dataframe thead th {\n",
       "        text-align: right;\n",
       "    }\n",
       "</style>\n",
       "<table border=\"1\" class=\"dataframe\">\n",
       "  <thead>\n",
       "    <tr style=\"text-align: right;\">\n",
       "      <th></th>\n",
       "      <th>ambient</th>\n",
       "      <th>coolant</th>\n",
       "      <th>u_d</th>\n",
       "      <th>u_q</th>\n",
       "      <th>motor_speed</th>\n",
       "      <th>torque</th>\n",
       "      <th>i_d</th>\n",
       "      <th>i_q</th>\n",
       "      <th>pm</th>\n",
       "      <th>stator_yoke</th>\n",
       "      <th>stator_tooth</th>\n",
       "      <th>stator_winding</th>\n",
       "      <th>profile_id</th>\n",
       "    </tr>\n",
       "  </thead>\n",
       "  <tbody>\n",
       "    <tr>\n",
       "      <td>count</td>\n",
       "      <td>998070.000000</td>\n",
       "      <td>998070.000000</td>\n",
       "      <td>998070.000000</td>\n",
       "      <td>998070.000000</td>\n",
       "      <td>998070.000000</td>\n",
       "      <td>998070.000000</td>\n",
       "      <td>998070.000000</td>\n",
       "      <td>998070.000000</td>\n",
       "      <td>998070.000000</td>\n",
       "      <td>998070.000000</td>\n",
       "      <td>998070.000000</td>\n",
       "      <td>998070.000000</td>\n",
       "      <td>998070.000000</td>\n",
       "    </tr>\n",
       "    <tr>\n",
       "      <td>mean</td>\n",
       "      <td>-0.003905</td>\n",
       "      <td>0.004723</td>\n",
       "      <td>0.004780</td>\n",
       "      <td>-0.005690</td>\n",
       "      <td>-0.006336</td>\n",
       "      <td>-0.003333</td>\n",
       "      <td>0.006043</td>\n",
       "      <td>-0.003194</td>\n",
       "      <td>-0.004396</td>\n",
       "      <td>0.000609</td>\n",
       "      <td>-0.002208</td>\n",
       "      <td>-0.003935</td>\n",
       "      <td>50.732001</td>\n",
       "    </tr>\n",
       "    <tr>\n",
       "      <td>std</td>\n",
       "      <td>0.993127</td>\n",
       "      <td>1.002423</td>\n",
       "      <td>0.997878</td>\n",
       "      <td>1.002330</td>\n",
       "      <td>1.001229</td>\n",
       "      <td>0.997907</td>\n",
       "      <td>0.998994</td>\n",
       "      <td>0.997912</td>\n",
       "      <td>0.995686</td>\n",
       "      <td>1.001049</td>\n",
       "      <td>0.999597</td>\n",
       "      <td>0.998343</td>\n",
       "      <td>22.073125</td>\n",
       "    </tr>\n",
       "    <tr>\n",
       "      <td>min</td>\n",
       "      <td>-8.573954</td>\n",
       "      <td>-1.429349</td>\n",
       "      <td>-1.655373</td>\n",
       "      <td>-1.861463</td>\n",
       "      <td>-1.371529</td>\n",
       "      <td>-3.345953</td>\n",
       "      <td>-3.245874</td>\n",
       "      <td>-3.341639</td>\n",
       "      <td>-2.631991</td>\n",
       "      <td>-1.834688</td>\n",
       "      <td>-2.066143</td>\n",
       "      <td>-2.019973</td>\n",
       "      <td>4.000000</td>\n",
       "    </tr>\n",
       "    <tr>\n",
       "      <td>25%</td>\n",
       "      <td>-0.599385</td>\n",
       "      <td>-1.037925</td>\n",
       "      <td>-0.826359</td>\n",
       "      <td>-0.927390</td>\n",
       "      <td>-0.951892</td>\n",
       "      <td>-0.266917</td>\n",
       "      <td>-0.756296</td>\n",
       "      <td>-0.257269</td>\n",
       "      <td>-0.672308</td>\n",
       "      <td>-0.747265</td>\n",
       "      <td>-0.761951</td>\n",
       "      <td>-0.725622</td>\n",
       "      <td>32.000000</td>\n",
       "    </tr>\n",
       "    <tr>\n",
       "      <td>50%</td>\n",
       "      <td>0.266157</td>\n",
       "      <td>-0.177187</td>\n",
       "      <td>0.267542</td>\n",
       "      <td>-0.099818</td>\n",
       "      <td>-0.140246</td>\n",
       "      <td>-0.187246</td>\n",
       "      <td>0.213935</td>\n",
       "      <td>-0.190076</td>\n",
       "      <td>0.094367</td>\n",
       "      <td>-0.057226</td>\n",
       "      <td>0.005085</td>\n",
       "      <td>0.006536</td>\n",
       "      <td>56.000000</td>\n",
       "    </tr>\n",
       "    <tr>\n",
       "      <td>75%</td>\n",
       "      <td>0.686675</td>\n",
       "      <td>0.650709</td>\n",
       "      <td>0.358491</td>\n",
       "      <td>0.852625</td>\n",
       "      <td>0.853584</td>\n",
       "      <td>0.547171</td>\n",
       "      <td>1.013975</td>\n",
       "      <td>0.499260</td>\n",
       "      <td>0.680691</td>\n",
       "      <td>0.697344</td>\n",
       "      <td>0.772239</td>\n",
       "      <td>0.725660</td>\n",
       "      <td>68.000000</td>\n",
       "    </tr>\n",
       "    <tr>\n",
       "      <td>max</td>\n",
       "      <td>2.967117</td>\n",
       "      <td>2.649032</td>\n",
       "      <td>2.274734</td>\n",
       "      <td>1.793498</td>\n",
       "      <td>2.024164</td>\n",
       "      <td>3.016971</td>\n",
       "      <td>1.060937</td>\n",
       "      <td>2.914185</td>\n",
       "      <td>2.917456</td>\n",
       "      <td>2.449158</td>\n",
       "      <td>2.326668</td>\n",
       "      <td>2.653781</td>\n",
       "      <td>81.000000</td>\n",
       "    </tr>\n",
       "  </tbody>\n",
       "</table>\n",
       "</div>"
      ],
      "text/plain": [
       "             ambient        coolant            u_d            u_q  \\\n",
       "count  998070.000000  998070.000000  998070.000000  998070.000000   \n",
       "mean       -0.003905       0.004723       0.004780      -0.005690   \n",
       "std         0.993127       1.002423       0.997878       1.002330   \n",
       "min        -8.573954      -1.429349      -1.655373      -1.861463   \n",
       "25%        -0.599385      -1.037925      -0.826359      -0.927390   \n",
       "50%         0.266157      -0.177187       0.267542      -0.099818   \n",
       "75%         0.686675       0.650709       0.358491       0.852625   \n",
       "max         2.967117       2.649032       2.274734       1.793498   \n",
       "\n",
       "         motor_speed         torque            i_d            i_q  \\\n",
       "count  998070.000000  998070.000000  998070.000000  998070.000000   \n",
       "mean       -0.006336      -0.003333       0.006043      -0.003194   \n",
       "std         1.001229       0.997907       0.998994       0.997912   \n",
       "min        -1.371529      -3.345953      -3.245874      -3.341639   \n",
       "25%        -0.951892      -0.266917      -0.756296      -0.257269   \n",
       "50%        -0.140246      -0.187246       0.213935      -0.190076   \n",
       "75%         0.853584       0.547171       1.013975       0.499260   \n",
       "max         2.024164       3.016971       1.060937       2.914185   \n",
       "\n",
       "                  pm    stator_yoke   stator_tooth  stator_winding  \\\n",
       "count  998070.000000  998070.000000  998070.000000   998070.000000   \n",
       "mean       -0.004396       0.000609      -0.002208       -0.003935   \n",
       "std         0.995686       1.001049       0.999597        0.998343   \n",
       "min        -2.631991      -1.834688      -2.066143       -2.019973   \n",
       "25%        -0.672308      -0.747265      -0.761951       -0.725622   \n",
       "50%         0.094367      -0.057226       0.005085        0.006536   \n",
       "75%         0.680691       0.697344       0.772239        0.725660   \n",
       "max         2.917456       2.449158       2.326668        2.653781   \n",
       "\n",
       "          profile_id  \n",
       "count  998070.000000  \n",
       "mean       50.732001  \n",
       "std        22.073125  \n",
       "min         4.000000  \n",
       "25%        32.000000  \n",
       "50%        56.000000  \n",
       "75%        68.000000  \n",
       "max        81.000000  "
      ]
     },
     "execution_count": 6,
     "metadata": {},
     "output_type": "execute_result"
    }
   ],
   "source": [
    "pmsm.describe()"
   ]
  },
  {
   "cell_type": "code",
   "execution_count": 7,
   "metadata": {},
   "outputs": [
    {
     "data": {
      "text/plain": [
       "ambient           0\n",
       "coolant           0\n",
       "u_d               0\n",
       "u_q               0\n",
       "motor_speed       0\n",
       "torque            0\n",
       "i_d               0\n",
       "i_q               0\n",
       "pm                0\n",
       "stator_yoke       0\n",
       "stator_tooth      0\n",
       "stator_winding    0\n",
       "profile_id        0\n",
       "dtype: int64"
      ]
     },
     "execution_count": 7,
     "metadata": {},
     "output_type": "execute_result"
    }
   ],
   "source": [
    "pmsm.isnull().sum()"
   ]
  },
  {
   "cell_type": "code",
   "execution_count": 8,
   "metadata": {},
   "outputs": [
    {
     "name": "stdout",
     "output_type": "stream",
     "text": [
      "<class 'pandas.core.frame.DataFrame'>\n",
      "RangeIndex: 998070 entries, 0 to 998069\n",
      "Data columns (total 13 columns):\n",
      "ambient           998070 non-null float64\n",
      "coolant           998070 non-null float64\n",
      "u_d               998070 non-null float64\n",
      "u_q               998070 non-null float64\n",
      "motor_speed       998070 non-null float64\n",
      "torque            998070 non-null float64\n",
      "i_d               998070 non-null float64\n",
      "i_q               998070 non-null float64\n",
      "pm                998070 non-null float64\n",
      "stator_yoke       998070 non-null float64\n",
      "stator_tooth      998070 non-null float64\n",
      "stator_winding    998070 non-null float64\n",
      "profile_id        998070 non-null int64\n",
      "dtypes: float64(12), int64(1)\n",
      "memory usage: 99.0 MB\n"
     ]
    }
   ],
   "source": [
    "pmsm.info()"
   ]
  },
  {
   "cell_type": "code",
   "execution_count": 9,
   "metadata": {},
   "outputs": [
    {
     "data": {
      "text/plain": [
       "20    43970\n",
       "6     40387\n",
       "65    40093\n",
       "66    36475\n",
       "27    35360\n",
       "4     33423\n",
       "58    33381\n",
       "56    33122\n",
       "53    32441\n",
       "79    31153\n",
       "44    26340\n",
       "70    25676\n",
       "62    25599\n",
       "30    23862\n",
       "80    23823\n",
       "74    23760\n",
       "68    23330\n",
       "36    22608\n",
       "76    22187\n",
       "48    21982\n",
       "29    21357\n",
       "32    20959\n",
       "81    17671\n",
       "45    17141\n",
       "42    16919\n",
       "73    16785\n",
       "41    16699\n",
       "63    16667\n",
       "31    15586\n",
       "69    15349\n",
       "72    15300\n",
       "10    15255\n",
       "71    14655\n",
       "77    14621\n",
       "60    14542\n",
       "61    14515\n",
       "57    14402\n",
       "75    13471\n",
       "67    11134\n",
       "49    10815\n",
       "50    10809\n",
       "55    10806\n",
       "54    10806\n",
       "78     8444\n",
       "43     8442\n",
       "11     7886\n",
       "59     7474\n",
       "51     6260\n",
       "64     6249\n",
       "52     3725\n",
       "46     2179\n",
       "47     2175\n",
       "Name: profile_id, dtype: int64"
      ]
     },
     "execution_count": 9,
     "metadata": {},
     "output_type": "execute_result"
    }
   ],
   "source": [
    "pmsm['profile_id'].value_counts()"
   ]
  },
  {
   "cell_type": "markdown",
   "metadata": {},
   "source": [
    "### Univariante Analysis"
   ]
  },
  {
   "cell_type": "code",
   "execution_count": 10,
   "metadata": {},
   "outputs": [
    {
     "data": {
      "text/plain": [
       "array([[<matplotlib.axes._subplots.AxesSubplot object at 0x00000291A17F6348>,\n",
       "        <matplotlib.axes._subplots.AxesSubplot object at 0x00000291A4776FC8>,\n",
       "        <matplotlib.axes._subplots.AxesSubplot object at 0x00000291A47B4908>,\n",
       "        <matplotlib.axes._subplots.AxesSubplot object at 0x00000291A47ECA08>],\n",
       "       [<matplotlib.axes._subplots.AxesSubplot object at 0x00000291A4824AC8>,\n",
       "        <matplotlib.axes._subplots.AxesSubplot object at 0x00000291A485BC08>,\n",
       "        <matplotlib.axes._subplots.AxesSubplot object at 0x00000291A4893D08>,\n",
       "        <matplotlib.axes._subplots.AxesSubplot object at 0x00000291A48CBE08>],\n",
       "       [<matplotlib.axes._subplots.AxesSubplot object at 0x00000291A48D6A08>,\n",
       "        <matplotlib.axes._subplots.AxesSubplot object at 0x00000291A4912C08>,\n",
       "        <matplotlib.axes._subplots.AxesSubplot object at 0x00000291A497A108>,\n",
       "        <matplotlib.axes._subplots.AxesSubplot object at 0x00000291A49B2208>],\n",
       "       [<matplotlib.axes._subplots.AxesSubplot object at 0x00000291A49EB348>,\n",
       "        <matplotlib.axes._subplots.AxesSubplot object at 0x00000291A4A21448>,\n",
       "        <matplotlib.axes._subplots.AxesSubplot object at 0x00000291A4A59608>,\n",
       "        <matplotlib.axes._subplots.AxesSubplot object at 0x00000291A4A92708>]],\n",
       "      dtype=object)"
      ]
     },
     "execution_count": 10,
     "metadata": {},
     "output_type": "execute_result"
    },
    {
     "data": {
      "image/png": "[encoded data removed]",
      "text/plain": [
       "<Figure size 1152x1440 with 16 Axes>"
      ]
     },
     "metadata": {
      "needs_background": "light"
     },
     "output_type": "display_data"
    }
   ],
   "source": [
    "pmsm.hist(figsize=(16, 20))"
   ]
  },
  {
   "cell_type": "code",
   "execution_count": 5,
   "metadata": {},
   "outputs": [],
   "source": [
    "from sklearn.preprocessing import scale\n",
    "pmsm_standarlize = pd.DataFrame(scale(pmsm))"
   ]
  },
  {
   "cell_type": "code",
   "execution_count": 6,
   "metadata": {},
   "outputs": [
    {
     "data": {
      "text/plain": [
       "(998070, 13)"
      ]
     },
     "execution_count": 6,
     "metadata": {},
     "output_type": "execute_result"
    }
   ],
   "source": [
    "pmsm_standarlize.columns=pmsm.columns\n",
    "pmsm_standarlize.shape"
   ]
  },
  {
   "cell_type": "code",
   "execution_count": 14,
   "metadata": {},
   "outputs": [
    {
     "data": {
      "image/png": "[encoded data removed]",
      "text/plain": [
       "<Figure size 1152x432 with 1 Axes>"
      ]
     },
     "metadata": {
      "needs_background": "light"
     },
     "output_type": "display_data"
    }
   ],
   "source": [
    "import seaborn as sns\n",
    "plt.figure(figsize=(16, 6))\n",
    "sns.boxplot(data=pmsm_standarlize);"
   ]
  },
  {
   "cell_type": "code",
   "execution_count": 15,
   "metadata": {},
   "outputs": [
    {
     "data": {
      "text/html": [
       "<div>\n",
       "<style scoped>\n",
       "    .dataframe tbody tr th:only-of-type {\n",
       "        vertical-align: middle;\n",
       "    }\n",
       "\n",
       "    .dataframe tbody tr th {\n",
       "        vertical-align: top;\n",
       "    }\n",
       "\n",
       "    .dataframe thead th {\n",
       "        text-align: right;\n",
       "    }\n",
       "</style>\n",
       "<table border=\"1\" class=\"dataframe\">\n",
       "  <thead>\n",
       "    <tr style=\"text-align: right;\">\n",
       "      <th></th>\n",
       "      <th>ambient</th>\n",
       "      <th>coolant</th>\n",
       "      <th>u_d</th>\n",
       "      <th>u_q</th>\n",
       "      <th>motor_speed</th>\n",
       "      <th>torque</th>\n",
       "      <th>i_d</th>\n",
       "      <th>i_q</th>\n",
       "      <th>pm</th>\n",
       "      <th>stator_yoke</th>\n",
       "      <th>stator_tooth</th>\n",
       "      <th>stator_winding</th>\n",
       "      <th>profile_id</th>\n",
       "    </tr>\n",
       "  </thead>\n",
       "  <tbody>\n",
       "    <tr>\n",
       "      <td>0</td>\n",
       "      <td>-0.753416</td>\n",
       "      <td>-1.120454</td>\n",
       "      <td>0.323842</td>\n",
       "      <td>-1.289164</td>\n",
       "      <td>-1.214600</td>\n",
       "      <td>-0.247367</td>\n",
       "      <td>1.024560</td>\n",
       "      <td>-0.243174</td>\n",
       "      <td>-2.528584</td>\n",
       "      <td>-1.830112</td>\n",
       "      <td>-2.064767</td>\n",
       "      <td>-2.017442</td>\n",
       "      <td>-2.117146</td>\n",
       "    </tr>\n",
       "    <tr>\n",
       "      <td>1</td>\n",
       "      <td>-0.772669</td>\n",
       "      <td>-1.119032</td>\n",
       "      <td>0.325575</td>\n",
       "      <td>-1.288994</td>\n",
       "      <td>-1.214601</td>\n",
       "      <td>-0.246316</td>\n",
       "      <td>1.024497</td>\n",
       "      <td>-0.243146</td>\n",
       "      <td>-2.528932</td>\n",
       "      <td>-1.829659</td>\n",
       "      <td>-2.063483</td>\n",
       "      <td>-2.017040</td>\n",
       "      <td>-2.117146</td>\n",
       "    </tr>\n",
       "    <tr>\n",
       "      <td>2</td>\n",
       "      <td>-0.784378</td>\n",
       "      <td>-1.118693</td>\n",
       "      <td>0.328689</td>\n",
       "      <td>-1.293119</td>\n",
       "      <td>-1.214600</td>\n",
       "      <td>-0.246615</td>\n",
       "      <td>1.024435</td>\n",
       "      <td>-0.243132</td>\n",
       "      <td>-2.529189</td>\n",
       "      <td>-1.829091</td>\n",
       "      <td>-2.062697</td>\n",
       "      <td>-2.016752</td>\n",
       "      <td>-2.117146</td>\n",
       "    </tr>\n",
       "    <tr>\n",
       "      <td>3</td>\n",
       "      <td>-0.782408</td>\n",
       "      <td>-1.118776</td>\n",
       "      <td>0.329619</td>\n",
       "      <td>-1.293150</td>\n",
       "      <td>-1.214602</td>\n",
       "      <td>-0.245818</td>\n",
       "      <td>1.027836</td>\n",
       "      <td>-0.244271</td>\n",
       "      <td>-2.528150</td>\n",
       "      <td>-1.829024</td>\n",
       "      <td>-2.061760</td>\n",
       "      <td>-2.017041</td>\n",
       "      <td>-2.117146</td>\n",
       "    </tr>\n",
       "    <tr>\n",
       "      <td>4</td>\n",
       "      <td>-0.775467</td>\n",
       "      <td>-1.118787</td>\n",
       "      <td>0.331128</td>\n",
       "      <td>-1.294413</td>\n",
       "      <td>-1.214601</td>\n",
       "      <td>-0.245883</td>\n",
       "      <td>1.026797</td>\n",
       "      <td>-0.243925</td>\n",
       "      <td>-2.528413</td>\n",
       "      <td>-1.829189</td>\n",
       "      <td>-2.061418</td>\n",
       "      <td>-2.017555</td>\n",
       "      <td>-2.117146</td>\n",
       "    </tr>\n",
       "  </tbody>\n",
       "</table>\n",
       "</div>"
      ],
      "text/plain": [
       "    ambient   coolant       u_d       u_q  motor_speed    torque       i_d  \\\n",
       "0 -0.753416 -1.120454  0.323842 -1.289164    -1.214600 -0.247367  1.024560   \n",
       "1 -0.772669 -1.119032  0.325575 -1.288994    -1.214601 -0.246316  1.024497   \n",
       "2 -0.784378 -1.118693  0.328689 -1.293119    -1.214600 -0.246615  1.024435   \n",
       "3 -0.782408 -1.118776  0.329619 -1.293150    -1.214602 -0.245818  1.027836   \n",
       "4 -0.775467 -1.118787  0.331128 -1.294413    -1.214601 -0.245883  1.026797   \n",
       "\n",
       "        i_q        pm  stator_yoke  stator_tooth  stator_winding  profile_id  \n",
       "0 -0.243174 -2.528584    -1.830112     -2.064767       -2.017442   -2.117146  \n",
       "1 -0.243146 -2.528932    -1.829659     -2.063483       -2.017040   -2.117146  \n",
       "2 -0.243132 -2.529189    -1.829091     -2.062697       -2.016752   -2.117146  \n",
       "3 -0.244271 -2.528150    -1.829024     -2.061760       -2.017041   -2.117146  \n",
       "4 -0.243925 -2.528413    -1.829189     -2.061418       -2.017555   -2.117146  "
      ]
     },
     "execution_count": 15,
     "metadata": {},
     "output_type": "execute_result"
    }
   ],
   "source": [
    "pmsm_standarlize.head()"
   ]
  },
  {
   "cell_type": "code",
   "execution_count": 16,
   "metadata": {},
   "outputs": [
    {
     "data": {
      "text/html": [
       "<div>\n",
       "<style scoped>\n",
       "    .dataframe tbody tr th:only-of-type {\n",
       "        vertical-align: middle;\n",
       "    }\n",
       "\n",
       "    .dataframe tbody tr th {\n",
       "        vertical-align: top;\n",
       "    }\n",
       "\n",
       "    .dataframe thead th {\n",
       "        text-align: right;\n",
       "    }\n",
       "</style>\n",
       "<table border=\"1\" class=\"dataframe\">\n",
       "  <thead>\n",
       "    <tr style=\"text-align: right;\">\n",
       "      <th></th>\n",
       "      <th>ambient</th>\n",
       "      <th>coolant</th>\n",
       "      <th>u_d</th>\n",
       "      <th>u_q</th>\n",
       "      <th>motor_speed</th>\n",
       "      <th>torque</th>\n",
       "      <th>i_d</th>\n",
       "      <th>i_q</th>\n",
       "      <th>pm</th>\n",
       "      <th>stator_yoke</th>\n",
       "      <th>stator_tooth</th>\n",
       "      <th>stator_winding</th>\n",
       "      <th>profile_id</th>\n",
       "    </tr>\n",
       "  </thead>\n",
       "  <tbody>\n",
       "    <tr>\n",
       "      <td>count</td>\n",
       "      <td>9.980700e+05</td>\n",
       "      <td>9.980700e+05</td>\n",
       "      <td>9.980700e+05</td>\n",
       "      <td>9.980700e+05</td>\n",
       "      <td>9.980700e+05</td>\n",
       "      <td>9.980700e+05</td>\n",
       "      <td>9.980700e+05</td>\n",
       "      <td>9.980700e+05</td>\n",
       "      <td>9.980700e+05</td>\n",
       "      <td>9.980700e+05</td>\n",
       "      <td>9.980700e+05</td>\n",
       "      <td>9.980700e+05</td>\n",
       "      <td>9.980700e+05</td>\n",
       "    </tr>\n",
       "    <tr>\n",
       "      <td>mean</td>\n",
       "      <td>-8.710865e-14</td>\n",
       "      <td>3.307122e-14</td>\n",
       "      <td>-5.432324e-15</td>\n",
       "      <td>3.209995e-16</td>\n",
       "      <td>3.741591e-15</td>\n",
       "      <td>-5.696427e-13</td>\n",
       "      <td>2.613256e-15</td>\n",
       "      <td>9.691522e-16</td>\n",
       "      <td>-1.484235e-15</td>\n",
       "      <td>-1.530093e-14</td>\n",
       "      <td>1.157004e-15</td>\n",
       "      <td>-6.732676e-15</td>\n",
       "      <td>-9.930510e-13</td>\n",
       "    </tr>\n",
       "    <tr>\n",
       "      <td>std</td>\n",
       "      <td>1.000001e+00</td>\n",
       "      <td>1.000001e+00</td>\n",
       "      <td>1.000001e+00</td>\n",
       "      <td>1.000001e+00</td>\n",
       "      <td>1.000001e+00</td>\n",
       "      <td>1.000001e+00</td>\n",
       "      <td>1.000001e+00</td>\n",
       "      <td>1.000001e+00</td>\n",
       "      <td>1.000001e+00</td>\n",
       "      <td>1.000001e+00</td>\n",
       "      <td>1.000001e+00</td>\n",
       "      <td>1.000001e+00</td>\n",
       "      <td>1.000001e+00</td>\n",
       "    </tr>\n",
       "    <tr>\n",
       "      <td>min</td>\n",
       "      <td>-8.629364e+00</td>\n",
       "      <td>-1.430606e+00</td>\n",
       "      <td>-1.663685e+00</td>\n",
       "      <td>-1.851460e+00</td>\n",
       "      <td>-1.363518e+00</td>\n",
       "      <td>-3.349634e+00</td>\n",
       "      <td>-3.255192e+00</td>\n",
       "      <td>-3.345431e+00</td>\n",
       "      <td>-2.638981e+00</td>\n",
       "      <td>-1.833374e+00</td>\n",
       "      <td>-2.064767e+00</td>\n",
       "      <td>-2.019386e+00</td>\n",
       "      <td>-2.117146e+00</td>\n",
       "    </tr>\n",
       "    <tr>\n",
       "      <td>25%</td>\n",
       "      <td>-5.996013e-01</td>\n",
       "      <td>-1.040127e+00</td>\n",
       "      <td>-8.329068e-01</td>\n",
       "      <td>-9.195578e-01</td>\n",
       "      <td>-9.443957e-01</td>\n",
       "      <td>-2.641375e-01</td>\n",
       "      <td>-7.631070e-01</td>\n",
       "      <td>-2.546066e-01</td>\n",
       "      <td>-6.708058e-01</td>\n",
       "      <td>-7.470911e-01</td>\n",
       "      <td>-7.600494e-01</td>\n",
       "      <td>-7.228854e-01</td>\n",
       "      <td>-8.486342e-01</td>\n",
       "    </tr>\n",
       "    <tr>\n",
       "      <td>50%</td>\n",
       "      <td>2.719319e-01</td>\n",
       "      <td>-1.814697e-01</td>\n",
       "      <td>2.633206e-01</td>\n",
       "      <td>-9.390939e-02</td>\n",
       "      <td>-1.337459e-01</td>\n",
       "      <td>-1.842995e-01</td>\n",
       "      <td>2.081015e-01</td>\n",
       "      <td>-1.872727e-01</td>\n",
       "      <td>9.919089e-02</td>\n",
       "      <td>-5.777424e-02</td>\n",
       "      <td>7.295650e-03</td>\n",
       "      <td>1.048858e-02</td>\n",
       "      <td>2.386613e-01</td>\n",
       "    </tr>\n",
       "    <tr>\n",
       "      <td>75%</td>\n",
       "      <td>6.953605e-01</td>\n",
       "      <td>6.444250e-01</td>\n",
       "      <td>3.544629e-01</td>\n",
       "      <td>8.563201e-01</td>\n",
       "      <td>8.588639e-01</td>\n",
       "      <td>5.516585e-01</td>\n",
       "      <td>1.008947e+00</td>\n",
       "      <td>5.035055e-01</td>\n",
       "      <td>6.880556e-01</td>\n",
       "      <td>6.960052e-01</td>\n",
       "      <td>7.747592e-01</td>\n",
       "      <td>7.308067e-01</td>\n",
       "      <td>7.823091e-01</td>\n",
       "    </tr>\n",
       "    <tr>\n",
       "      <td>max</td>\n",
       "      <td>2.991585e+00</td>\n",
       "      <td>2.637919e+00</td>\n",
       "      <td>2.274782e+00</td>\n",
       "      <td>1.795006e+00</td>\n",
       "      <td>2.028007e+00</td>\n",
       "      <td>3.026641e+00</td>\n",
       "      <td>1.055957e+00</td>\n",
       "      <td>2.923484e+00</td>\n",
       "      <td>2.934512e+00</td>\n",
       "      <td>2.445984e+00</td>\n",
       "      <td>2.329815e+00</td>\n",
       "      <td>2.662129e+00</td>\n",
       "      <td>1.371261e+00</td>\n",
       "    </tr>\n",
       "  </tbody>\n",
       "</table>\n",
       "</div>"
      ],
      "text/plain": [
       "            ambient       coolant           u_d           u_q   motor_speed  \\\n",
       "count  9.980700e+05  9.980700e+05  9.980700e+05  9.980700e+05  9.980700e+05   \n",
       "mean  -8.710865e-14  3.307122e-14 -5.432324e-15  3.209995e-16  3.741591e-15   \n",
       "std    1.000001e+00  1.000001e+00  1.000001e+00  1.000001e+00  1.000001e+00   \n",
       "min   -8.629364e+00 -1.430606e+00 -1.663685e+00 -1.851460e+00 -1.363518e+00   \n",
       "25%   -5.996013e-01 -1.040127e+00 -8.329068e-01 -9.195578e-01 -9.443957e-01   \n",
       "50%    2.719319e-01 -1.814697e-01  2.633206e-01 -9.390939e-02 -1.337459e-01   \n",
       "75%    6.953605e-01  6.444250e-01  3.544629e-01  8.563201e-01  8.588639e-01   \n",
       "max    2.991585e+00  2.637919e+00  2.274782e+00  1.795006e+00  2.028007e+00   \n",
       "\n",
       "             torque           i_d           i_q            pm   stator_yoke  \\\n",
       "count  9.980700e+05  9.980700e+05  9.980700e+05  9.980700e+05  9.980700e+05   \n",
       "mean  -5.696427e-13  2.613256e-15  9.691522e-16 -1.484235e-15 -1.530093e-14   \n",
       "std    1.000001e+00  1.000001e+00  1.000001e+00  1.000001e+00  1.000001e+00   \n",
       "min   -3.349634e+00 -3.255192e+00 -3.345431e+00 -2.638981e+00 -1.833374e+00   \n",
       "25%   -2.641375e-01 -7.631070e-01 -2.546066e-01 -6.708058e-01 -7.470911e-01   \n",
       "50%   -1.842995e-01  2.081015e-01 -1.872727e-01  9.919089e-02 -5.777424e-02   \n",
       "75%    5.516585e-01  1.008947e+00  5.035055e-01  6.880556e-01  6.960052e-01   \n",
       "max    3.026641e+00  1.055957e+00  2.923484e+00  2.934512e+00  2.445984e+00   \n",
       "\n",
       "       stator_tooth  stator_winding    profile_id  \n",
       "count  9.980700e+05    9.980700e+05  9.980700e+05  \n",
       "mean   1.157004e-15   -6.732676e-15 -9.930510e-13  \n",
       "std    1.000001e+00    1.000001e+00  1.000001e+00  \n",
       "min   -2.064767e+00   -2.019386e+00 -2.117146e+00  \n",
       "25%   -7.600494e-01   -7.228854e-01 -8.486342e-01  \n",
       "50%    7.295650e-03    1.048858e-02  2.386613e-01  \n",
       "75%    7.747592e-01    7.308067e-01  7.823091e-01  \n",
       "max    2.329815e+00    2.662129e+00  1.371261e+00  "
      ]
     },
     "execution_count": 16,
     "metadata": {},
     "output_type": "execute_result"
    }
   ],
   "source": [
    "pmsm_standarlize.describe()"
   ]
  },
  {
   "cell_type": "code",
   "execution_count": 17,
   "metadata": {},
   "outputs": [
    {
     "name": "stdout",
     "output_type": "stream",
     "text": [
      "ambient           1.294962\n",
      "coolant           1.684552\n",
      "u_d               1.187370\n",
      "u_q               1.775878\n",
      "motor_speed       1.803260\n",
      "torque            0.815796\n",
      "i_d               1.772054\n",
      "i_q               0.758112\n",
      "pm                1.358861\n",
      "stator_yoke       1.443096\n",
      "stator_tooth      1.534809\n",
      "stator_winding    1.453692\n",
      "profile_id        1.630943\n",
      "dtype: float64\n"
     ]
    }
   ],
   "source": [
    "Q1 = pmsm_standarlize.quantile(0.25)\n",
    "Q3 = pmsm_standarlize.quantile(0.75)\n",
    "IQR = Q3 - Q1\n",
    "print(IQR)"
   ]
  },
  {
   "cell_type": "code",
   "execution_count": 18,
   "metadata": {},
   "outputs": [],
   "source": [
    "outliers = pd.DataFrame(pmsm_standarlize[(pmsm_standarlize < (Q1 - 1.5 * IQR)) | (pmsm_standarlize > (Q3 + 1.5 * IQR))])\n",
    "outliers.dropna(how='all',inplace=True)"
   ]
  },
  {
   "cell_type": "code",
   "execution_count": 19,
   "metadata": {},
   "outputs": [
    {
     "data": {
      "text/plain": [
       "ambient            38492\n",
       "coolant                0\n",
       "u_d                18050\n",
       "u_q                    0\n",
       "motor_speed            0\n",
       "torque            127303\n",
       "i_d                    0\n",
       "i_q               148535\n",
       "pm                  1501\n",
       "stator_yoke            0\n",
       "stator_tooth           0\n",
       "stator_winding         0\n",
       "profile_id             0\n",
       "dtype: int64"
      ]
     },
     "execution_count": 19,
     "metadata": {},
     "output_type": "execute_result"
    }
   ],
   "source": [
    "outliers.count()"
   ]
  },
  {
   "cell_type": "code",
   "execution_count": 20,
   "metadata": {},
   "outputs": [],
   "source": [
    "outliers_extreme = pd.DataFrame(pmsm_standarlize[(pmsm_standarlize < (Q1 - 3 * IQR)) | (pmsm_standarlize > (Q3 + 3 * IQR))])\n",
    "outliers_extreme.dropna(how='all',inplace=True)"
   ]
  },
  {
   "cell_type": "code",
   "execution_count": 21,
   "metadata": {},
   "outputs": [
    {
     "data": {
      "text/plain": [
       "ambient              14\n",
       "coolant               0\n",
       "u_d                   0\n",
       "u_q                   0\n",
       "motor_speed           0\n",
       "torque            10002\n",
       "i_d                   0\n",
       "i_q               19437\n",
       "pm                    0\n",
       "stator_yoke           0\n",
       "stator_tooth          0\n",
       "stator_winding        0\n",
       "profile_id            0\n",
       "dtype: int64"
      ]
     },
     "execution_count": 21,
     "metadata": {},
     "output_type": "execute_result"
    }
   ],
   "source": [
    "outliers_extreme.count()"
   ]
  },
  {
   "cell_type": "code",
   "execution_count": 22,
   "metadata": {},
   "outputs": [],
   "source": [
    "# Getting only outliers to other dataframe\n",
    "torqueout = pd.DataFrame(outliers_extreme['torque'])\n",
    "ambientout = pd.DataFrame(outliers_extreme['ambient'])\n",
    "i_qout = pd.DataFrame(outliers_extreme['i_q'])"
   ]
  },
  {
   "cell_type": "code",
   "execution_count": 23,
   "metadata": {},
   "outputs": [],
   "source": [
    "torqueout.dropna(inplace=True)\n",
    "ambientout.dropna(inplace=True)\n",
    "i_qout.dropna(inplace=True)"
   ]
  },
  {
   "cell_type": "code",
   "execution_count": 24,
   "metadata": {},
   "outputs": [
    {
     "name": "stdout",
     "output_type": "stream",
     "text": [
      "         ambient\n",
      "295169 -5.091920\n",
      "347392 -5.999902\n",
      "347393 -8.019560\n",
      "347394 -8.629364\n",
      "347395 -6.222656\n",
      "347396 -4.496200\n",
      "413852 -4.486499\n",
      "567610 -5.123720\n",
      "687773 -4.654516\n",
      "748064 -5.811809\n",
      "771640 -5.176120\n",
      "835431 -4.760563\n",
      "947781 -4.633754\n",
      "989729 -5.272207\n"
     ]
    }
   ],
   "source": [
    "#Printing the orginal values for the outliers of ambient column\n",
    "print((ambientout*np.std(pmsm_standarlize['ambient']))+np.mean(pmsm_standarlize['ambient']))"
   ]
  },
  {
   "cell_type": "code",
   "execution_count": 25,
   "metadata": {},
   "outputs": [
    {
     "data": {
      "text/html": [
       "<div>\n",
       "<style scoped>\n",
       "    .dataframe tbody tr th:only-of-type {\n",
       "        vertical-align: middle;\n",
       "    }\n",
       "\n",
       "    .dataframe tbody tr th {\n",
       "        vertical-align: top;\n",
       "    }\n",
       "\n",
       "    .dataframe thead th {\n",
       "        text-align: right;\n",
       "    }\n",
       "</style>\n",
       "<table border=\"1\" class=\"dataframe\">\n",
       "  <thead>\n",
       "    <tr style=\"text-align: right;\">\n",
       "      <th></th>\n",
       "      <th>torque</th>\n",
       "    </tr>\n",
       "  </thead>\n",
       "  <tbody>\n",
       "    <tr>\n",
       "      <td>count</td>\n",
       "      <td>10002.000000</td>\n",
       "    </tr>\n",
       "    <tr>\n",
       "      <td>mean</td>\n",
       "      <td>-1.280988</td>\n",
       "    </tr>\n",
       "    <tr>\n",
       "      <td>std</td>\n",
       "      <td>2.668711</td>\n",
       "    </tr>\n",
       "    <tr>\n",
       "      <td>min</td>\n",
       "      <td>-3.349634</td>\n",
       "    </tr>\n",
       "    <tr>\n",
       "      <td>25%</td>\n",
       "      <td>-2.990778</td>\n",
       "    </tr>\n",
       "    <tr>\n",
       "      <td>50%</td>\n",
       "      <td>-2.812213</td>\n",
       "    </tr>\n",
       "    <tr>\n",
       "      <td>75%</td>\n",
       "      <td>3.001439</td>\n",
       "    </tr>\n",
       "    <tr>\n",
       "      <td>max</td>\n",
       "      <td>3.026641</td>\n",
       "    </tr>\n",
       "  </tbody>\n",
       "</table>\n",
       "</div>"
      ],
      "text/plain": [
       "             torque\n",
       "count  10002.000000\n",
       "mean      -1.280988\n",
       "std        2.668711\n",
       "min       -3.349634\n",
       "25%       -2.990778\n",
       "50%       -2.812213\n",
       "75%        3.001439\n",
       "max        3.026641"
      ]
     },
     "execution_count": 25,
     "metadata": {},
     "output_type": "execute_result"
    }
   ],
   "source": [
    "#Printing the orginal values for the outliers of torque column\n",
    "((torqueout*np.std(pmsm_standarlize['torque']))+np.mean(pmsm_standarlize['torque'])).describe()"
   ]
  },
  {
   "cell_type": "code",
   "execution_count": 26,
   "metadata": {},
   "outputs": [
    {
     "data": {
      "text/html": [
       "<div>\n",
       "<style scoped>\n",
       "    .dataframe tbody tr th:only-of-type {\n",
       "        vertical-align: middle;\n",
       "    }\n",
       "\n",
       "    .dataframe tbody tr th {\n",
       "        vertical-align: top;\n",
       "    }\n",
       "\n",
       "    .dataframe thead th {\n",
       "        text-align: right;\n",
       "    }\n",
       "</style>\n",
       "<table border=\"1\" class=\"dataframe\">\n",
       "  <thead>\n",
       "    <tr style=\"text-align: right;\">\n",
       "      <th></th>\n",
       "      <th>i_q</th>\n",
       "    </tr>\n",
       "  </thead>\n",
       "  <tbody>\n",
       "    <tr>\n",
       "      <td>count</td>\n",
       "      <td>19437.000000</td>\n",
       "    </tr>\n",
       "    <tr>\n",
       "      <td>mean</td>\n",
       "      <td>-1.111383</td>\n",
       "    </tr>\n",
       "    <tr>\n",
       "      <td>std</td>\n",
       "      <td>2.610558</td>\n",
       "    </tr>\n",
       "    <tr>\n",
       "      <td>min</td>\n",
       "      <td>-3.345431</td>\n",
       "    </tr>\n",
       "    <tr>\n",
       "      <td>25%</td>\n",
       "      <td>-2.843239</td>\n",
       "    </tr>\n",
       "    <tr>\n",
       "      <td>50%</td>\n",
       "      <td>-2.640742</td>\n",
       "    </tr>\n",
       "    <tr>\n",
       "      <td>75%</td>\n",
       "      <td>2.923421</td>\n",
       "    </tr>\n",
       "    <tr>\n",
       "      <td>max</td>\n",
       "      <td>2.923484</td>\n",
       "    </tr>\n",
       "  </tbody>\n",
       "</table>\n",
       "</div>"
      ],
      "text/plain": [
       "                i_q\n",
       "count  19437.000000\n",
       "mean      -1.111383\n",
       "std        2.610558\n",
       "min       -3.345431\n",
       "25%       -2.843239\n",
       "50%       -2.640742\n",
       "75%        2.923421\n",
       "max        2.923484"
      ]
     },
     "execution_count": 26,
     "metadata": {},
     "output_type": "execute_result"
    }
   ],
   "source": [
    "#Printing the orginal values for the outliers of i_q column\n",
    "((i_qout*np.std(pmsm_standarlize['i_q']))+np.mean(pmsm_standarlize['i_q'])).describe()"
   ]
  },
  {
   "cell_type": "code",
   "execution_count": null,
   "metadata": {},
   "outputs": [],
   "source": [
    "#pmsm_standarlize_update = pmsm_standarlize[~((pmsm_standarlize < (Q1 - 3 * IQR)) |(pmsm_standarlize > (Q3 + 3 * IQR))).any(axis=1)]"
   ]
  },
  {
   "cell_type": "code",
   "execution_count": null,
   "metadata": {},
   "outputs": [],
   "source": [
    "#from scipy import stats\n",
    "#transformedy,fitted_lambda = stats.boxcox(pmsm_standarlize_update['motor_speed']*pmsm_standarlize_update['motor_speed'])\n",
    "#fitted_lambda"
   ]
  },
  {
   "cell_type": "markdown",
   "metadata": {},
   "source": [
    "### Bivariante Analysis"
   ]
  },
  {
   "cell_type": "code",
   "execution_count": 27,
   "metadata": {},
   "outputs": [
    {
     "data": {
      "text/plain": [
       "<matplotlib.axes._subplots.AxesSubplot at 0x291a7e87b48>"
      ]
     },
     "execution_count": 27,
     "metadata": {},
     "output_type": "execute_result"
    },
    {
     "data": {
      "image/png": "[encoded data removed]",
      "text/plain": [
       "<Figure size 432x288 with 1 Axes>"
      ]
     },
     "metadata": {
      "needs_background": "light"
     },
     "output_type": "display_data"
    }
   ],
   "source": [
    "sns.regplot(x=\"ambient\",y=\"motor_speed\",data=pmsm_standarlize)"
   ]
  },
  {
   "cell_type": "code",
   "execution_count": 28,
   "metadata": {},
   "outputs": [
    {
     "data": {
      "text/plain": [
       "<matplotlib.axes._subplots.AxesSubplot at 0x291af10a748>"
      ]
     },
     "execution_count": 28,
     "metadata": {},
     "output_type": "execute_result"
    },
    {
     "data": {
      "image/png": "[encoded data removed]",
      "text/plain": [
       "<Figure size 432x288 with 1 Axes>"
      ]
     },
     "metadata": {
      "needs_background": "light"
     },
     "output_type": "display_data"
    }
   ],
   "source": [
    "sns.regplot(x=\"coolant\",y=\"motor_speed\",data=pmsm_standarlize)"
   ]
  },
  {
   "cell_type": "code",
   "execution_count": 29,
   "metadata": {},
   "outputs": [
    {
     "data": {
      "text/plain": [
       "<matplotlib.axes._subplots.AxesSubplot at 0x291af370608>"
      ]
     },
     "execution_count": 29,
     "metadata": {},
     "output_type": "execute_result"
    },
    {
     "data": {
      "image/png": "[encoded data removed]",
      "text/plain": [
       "<Figure size 432x288 with 1 Axes>"
      ]
     },
     "metadata": {
      "needs_background": "light"
     },
     "output_type": "display_data"
    }
   ],
   "source": [
    "sns.regplot(x=\"u_d\",y=\"motor_speed\",data=pmsm_standarlize)"
   ]
  },
  {
   "cell_type": "code",
   "execution_count": 30,
   "metadata": {},
   "outputs": [
    {
     "data": {
      "text/plain": [
       "<matplotlib.axes._subplots.AxesSubplot at 0x291af5edb08>"
      ]
     },
     "execution_count": 30,
     "metadata": {},
     "output_type": "execute_result"
    },
    {
     "data": {
      "image/png": "[encoded data removed]",
      "text/plain": [
       "<Figure size 432x288 with 1 Axes>"
      ]
     },
     "metadata": {
      "needs_background": "light"
     },
     "output_type": "display_data"
    }
   ],
   "source": [
    "sns.regplot(x=\"u_q\",y=\"motor_speed\",data=pmsm_standarlize)"
   ]
  },
  {
   "cell_type": "code",
   "execution_count": 31,
   "metadata": {},
   "outputs": [
    {
     "data": {
      "text/plain": [
       "<matplotlib.axes._subplots.AxesSubplot at 0x291af3befc8>"
      ]
     },
     "execution_count": 31,
     "metadata": {},
     "output_type": "execute_result"
    },
    {
     "data": {
      "image/png": "[encoded data removed]",
      "text/plain": [
       "<Figure size 432x288 with 1 Axes>"
      ]
     },
     "metadata": {
      "needs_background": "light"
     },
     "output_type": "display_data"
    }
   ],
   "source": [
    "sns.regplot(x=\"i_d\",y=\"motor_speed\",data=pmsm_standarlize)"
   ]
  },
  {
   "cell_type": "code",
   "execution_count": 32,
   "metadata": {},
   "outputs": [
    {
     "data": {
      "text/plain": [
       "<matplotlib.axes._subplots.AxesSubplot at 0x291b3c76488>"
      ]
     },
     "execution_count": 32,
     "metadata": {},
     "output_type": "execute_result"
    },
    {
     "data": {
      "image/png": "[encoded data removed]",
      "text/plain": [
       "<Figure size 432x288 with 1 Axes>"
      ]
     },
     "metadata": {
      "needs_background": "light"
     },
     "output_type": "display_data"
    }
   ],
   "source": [
    "sns.regplot(x=\"i_q\",y=\"motor_speed\",data=pmsm_standarlize)"
   ]
  },
  {
   "cell_type": "code",
   "execution_count": 33,
   "metadata": {},
   "outputs": [
    {
     "data": {
      "text/plain": [
       "<matplotlib.axes._subplots.AxesSubplot at 0x291af5ede48>"
      ]
     },
     "execution_count": 33,
     "metadata": {},
     "output_type": "execute_result"
    },
    {
     "data": {
      "image/png": "[encoded data removed]",
      "text/plain": [
       "<Figure size 432x288 with 1 Axes>"
      ]
     },
     "metadata": {
      "needs_background": "light"
     },
     "output_type": "display_data"
    }
   ],
   "source": [
    "sns.regplot(x=\"pm\",y=\"motor_speed\",data=pmsm_standarlize)"
   ]
  },
  {
   "cell_type": "code",
   "execution_count": 34,
   "metadata": {},
   "outputs": [
    {
     "data": {
      "text/plain": [
       "<matplotlib.axes._subplots.AxesSubplot at 0x291b0a7e7c8>"
      ]
     },
     "execution_count": 34,
     "metadata": {},
     "output_type": "execute_result"
    },
    {
     "data": {
      "image/png": "[encoded data removed]",
      "text/plain": [
       "<Figure size 432x288 with 1 Axes>"
      ]
     },
     "metadata": {
      "needs_background": "light"
     },
     "output_type": "display_data"
    }
   ],
   "source": [
    "sns.regplot(x=\"stator_yoke\",y=\"motor_speed\",data=pmsm_standarlize)"
   ]
  },
  {
   "cell_type": "code",
   "execution_count": 35,
   "metadata": {},
   "outputs": [
    {
     "data": {
      "text/plain": [
       "<matplotlib.axes._subplots.AxesSubplot at 0x291a7382808>"
      ]
     },
     "execution_count": 35,
     "metadata": {},
     "output_type": "execute_result"
    },
    {
     "data": {
      "image/png": "[encoded data removed]",
      "text/plain": [
       "<Figure size 432x288 with 1 Axes>"
      ]
     },
     "metadata": {
      "needs_background": "light"
     },
     "output_type": "display_data"
    }
   ],
   "source": [
    "sns.regplot(x=\"stator_tooth\",y=\"motor_speed\",data=pmsm_standarlize)"
   ]
  },
  {
   "cell_type": "code",
   "execution_count": 36,
   "metadata": {},
   "outputs": [
    {
     "data": {
      "text/plain": [
       "<matplotlib.axes._subplots.AxesSubplot at 0x291a73ce988>"
      ]
     },
     "execution_count": 36,
     "metadata": {},
     "output_type": "execute_result"
    },
    {
     "data": {
      "image/png": "[encoded data removed]",
      "text/plain": [
       "<Figure size 432x288 with 1 Axes>"
      ]
     },
     "metadata": {
      "needs_background": "light"
     },
     "output_type": "display_data"
    }
   ],
   "source": [
    "sns.regplot(x=\"stator_winding\",y=\"motor_speed\",data=pmsm_standarlize)"
   ]
  },
  {
   "cell_type": "markdown",
   "metadata": {},
   "source": [
    "### Correlation"
   ]
  },
  {
   "cell_type": "code",
   "execution_count": 37,
   "metadata": {},
   "outputs": [
    {
     "data": {
      "text/html": [
       "<div>\n",
       "<style scoped>\n",
       "    .dataframe tbody tr th:only-of-type {\n",
       "        vertical-align: middle;\n",
       "    }\n",
       "\n",
       "    .dataframe tbody tr th {\n",
       "        vertical-align: top;\n",
       "    }\n",
       "\n",
       "    .dataframe thead th {\n",
       "        text-align: right;\n",
       "    }\n",
       "</style>\n",
       "<table border=\"1\" class=\"dataframe\">\n",
       "  <thead>\n",
       "    <tr style=\"text-align: right;\">\n",
       "      <th></th>\n",
       "      <th>ambient</th>\n",
       "      <th>coolant</th>\n",
       "      <th>u_d</th>\n",
       "      <th>u_q</th>\n",
       "      <th>motor_speed</th>\n",
       "      <th>torque</th>\n",
       "      <th>i_d</th>\n",
       "      <th>i_q</th>\n",
       "      <th>pm</th>\n",
       "      <th>stator_yoke</th>\n",
       "      <th>stator_tooth</th>\n",
       "      <th>stator_winding</th>\n",
       "      <th>profile_id</th>\n",
       "    </tr>\n",
       "  </thead>\n",
       "  <tbody>\n",
       "    <tr>\n",
       "      <td>ambient</td>\n",
       "      <td>1.000000</td>\n",
       "      <td>0.434435</td>\n",
       "      <td>0.194754</td>\n",
       "      <td>0.087430</td>\n",
       "      <td>0.078283</td>\n",
       "      <td>-0.262264</td>\n",
       "      <td>0.005605</td>\n",
       "      <td>-0.260562</td>\n",
       "      <td>0.501496</td>\n",
       "      <td>0.451616</td>\n",
       "      <td>0.396742</td>\n",
       "      <td>0.301883</td>\n",
       "      <td>0.384565</td>\n",
       "    </tr>\n",
       "    <tr>\n",
       "      <td>coolant</td>\n",
       "      <td>0.434435</td>\n",
       "      <td>1.000000</td>\n",
       "      <td>0.178708</td>\n",
       "      <td>0.027851</td>\n",
       "      <td>-0.033332</td>\n",
       "      <td>-0.189617</td>\n",
       "      <td>0.108489</td>\n",
       "      <td>-0.186060</td>\n",
       "      <td>0.430548</td>\n",
       "      <td>0.874037</td>\n",
       "      <td>0.689003</td>\n",
       "      <td>0.509298</td>\n",
       "      <td>0.499669</td>\n",
       "    </tr>\n",
       "    <tr>\n",
       "      <td>u_d</td>\n",
       "      <td>0.194754</td>\n",
       "      <td>0.178708</td>\n",
       "      <td>1.000000</td>\n",
       "      <td>-0.027472</td>\n",
       "      <td>-0.233828</td>\n",
       "      <td>-0.821325</td>\n",
       "      <td>0.358517</td>\n",
       "      <td>-0.796586</td>\n",
       "      <td>-0.082564</td>\n",
       "      <td>0.041428</td>\n",
       "      <td>-0.066256</td>\n",
       "      <td>-0.150714</td>\n",
       "      <td>0.300771</td>\n",
       "    </tr>\n",
       "    <tr>\n",
       "      <td>u_q</td>\n",
       "      <td>0.087430</td>\n",
       "      <td>0.027851</td>\n",
       "      <td>-0.027472</td>\n",
       "      <td>1.000000</td>\n",
       "      <td>0.716897</td>\n",
       "      <td>-0.037262</td>\n",
       "      <td>-0.181855</td>\n",
       "      <td>-0.026348</td>\n",
       "      <td>0.101236</td>\n",
       "      <td>0.106186</td>\n",
       "      <td>0.149017</td>\n",
       "      <td>0.125445</td>\n",
       "      <td>-0.122260</td>\n",
       "    </tr>\n",
       "    <tr>\n",
       "      <td>motor_speed</td>\n",
       "      <td>0.078283</td>\n",
       "      <td>-0.033332</td>\n",
       "      <td>-0.233828</td>\n",
       "      <td>0.716897</td>\n",
       "      <td>1.000000</td>\n",
       "      <td>0.024517</td>\n",
       "      <td>-0.722914</td>\n",
       "      <td>0.006323</td>\n",
       "      <td>0.332419</td>\n",
       "      <td>0.182564</td>\n",
       "      <td>0.333909</td>\n",
       "      <td>0.393154</td>\n",
       "      <td>-0.166225</td>\n",
       "    </tr>\n",
       "    <tr>\n",
       "      <td>torque</td>\n",
       "      <td>-0.262264</td>\n",
       "      <td>-0.189617</td>\n",
       "      <td>-0.821325</td>\n",
       "      <td>-0.037262</td>\n",
       "      <td>0.024517</td>\n",
       "      <td>1.000000</td>\n",
       "      <td>-0.239059</td>\n",
       "      <td>0.996560</td>\n",
       "      <td>-0.072905</td>\n",
       "      <td>-0.092207</td>\n",
       "      <td>-0.011055</td>\n",
       "      <td>0.080981</td>\n",
       "      <td>-0.257446</td>\n",
       "    </tr>\n",
       "    <tr>\n",
       "      <td>i_d</td>\n",
       "      <td>0.005605</td>\n",
       "      <td>0.108489</td>\n",
       "      <td>0.358517</td>\n",
       "      <td>-0.181855</td>\n",
       "      <td>-0.722914</td>\n",
       "      <td>-0.239059</td>\n",
       "      <td>1.000000</td>\n",
       "      <td>-0.204230</td>\n",
       "      <td>-0.299227</td>\n",
       "      <td>-0.179903</td>\n",
       "      <td>-0.387712</td>\n",
       "      <td>-0.539924</td>\n",
       "      <td>0.142368</td>\n",
       "    </tr>\n",
       "    <tr>\n",
       "      <td>i_q</td>\n",
       "      <td>-0.260562</td>\n",
       "      <td>-0.186060</td>\n",
       "      <td>-0.796586</td>\n",
       "      <td>-0.026348</td>\n",
       "      <td>0.006323</td>\n",
       "      <td>0.996560</td>\n",
       "      <td>-0.204230</td>\n",
       "      <td>1.000000</td>\n",
       "      <td>-0.086486</td>\n",
       "      <td>-0.098753</td>\n",
       "      <td>-0.025191</td>\n",
       "      <td>0.060949</td>\n",
       "      <td>-0.256127</td>\n",
       "    </tr>\n",
       "    <tr>\n",
       "      <td>pm</td>\n",
       "      <td>0.501496</td>\n",
       "      <td>0.430548</td>\n",
       "      <td>-0.082564</td>\n",
       "      <td>0.101236</td>\n",
       "      <td>0.332419</td>\n",
       "      <td>-0.072905</td>\n",
       "      <td>-0.299227</td>\n",
       "      <td>-0.086486</td>\n",
       "      <td>1.000000</td>\n",
       "      <td>0.695014</td>\n",
       "      <td>0.768352</td>\n",
       "      <td>0.729561</td>\n",
       "      <td>0.156735</td>\n",
       "    </tr>\n",
       "    <tr>\n",
       "      <td>stator_yoke</td>\n",
       "      <td>0.451616</td>\n",
       "      <td>0.874037</td>\n",
       "      <td>0.041428</td>\n",
       "      <td>0.106186</td>\n",
       "      <td>0.182564</td>\n",
       "      <td>-0.092207</td>\n",
       "      <td>-0.179903</td>\n",
       "      <td>-0.098753</td>\n",
       "      <td>0.695014</td>\n",
       "      <td>1.000000</td>\n",
       "      <td>0.949898</td>\n",
       "      <td>0.845144</td>\n",
       "      <td>0.398021</td>\n",
       "    </tr>\n",
       "    <tr>\n",
       "      <td>stator_tooth</td>\n",
       "      <td>0.396742</td>\n",
       "      <td>0.689003</td>\n",
       "      <td>-0.066256</td>\n",
       "      <td>0.149017</td>\n",
       "      <td>0.333909</td>\n",
       "      <td>-0.011055</td>\n",
       "      <td>-0.387712</td>\n",
       "      <td>-0.025191</td>\n",
       "      <td>0.768352</td>\n",
       "      <td>0.949898</td>\n",
       "      <td>1.000000</td>\n",
       "      <td>0.965633</td>\n",
       "      <td>0.280994</td>\n",
       "    </tr>\n",
       "    <tr>\n",
       "      <td>stator_winding</td>\n",
       "      <td>0.301883</td>\n",
       "      <td>0.509298</td>\n",
       "      <td>-0.150714</td>\n",
       "      <td>0.125445</td>\n",
       "      <td>0.393154</td>\n",
       "      <td>0.080981</td>\n",
       "      <td>-0.539924</td>\n",
       "      <td>0.060949</td>\n",
       "      <td>0.729561</td>\n",
       "      <td>0.845144</td>\n",
       "      <td>0.965633</td>\n",
       "      <td>1.000000</td>\n",
       "      <td>0.181908</td>\n",
       "    </tr>\n",
       "    <tr>\n",
       "      <td>profile_id</td>\n",
       "      <td>0.384565</td>\n",
       "      <td>0.499669</td>\n",
       "      <td>0.300771</td>\n",
       "      <td>-0.122260</td>\n",
       "      <td>-0.166225</td>\n",
       "      <td>-0.257446</td>\n",
       "      <td>0.142368</td>\n",
       "      <td>-0.256127</td>\n",
       "      <td>0.156735</td>\n",
       "      <td>0.398021</td>\n",
       "      <td>0.280994</td>\n",
       "      <td>0.181908</td>\n",
       "      <td>1.000000</td>\n",
       "    </tr>\n",
       "  </tbody>\n",
       "</table>\n",
       "</div>"
      ],
      "text/plain": [
       "                 ambient   coolant       u_d       u_q  motor_speed    torque  \\\n",
       "ambient         1.000000  0.434435  0.194754  0.087430     0.078283 -0.262264   \n",
       "coolant         0.434435  1.000000  0.178708  0.027851    -0.033332 -0.189617   \n",
       "u_d             0.194754  0.178708  1.000000 -0.027472    -0.233828 -0.821325   \n",
       "u_q             0.087430  0.027851 -0.027472  1.000000     0.716897 -0.037262   \n",
       "motor_speed     0.078283 -0.033332 -0.233828  0.716897     1.000000  0.024517   \n",
       "torque         -0.262264 -0.189617 -0.821325 -0.037262     0.024517  1.000000   \n",
       "i_d             0.005605  0.108489  0.358517 -0.181855    -0.722914 -0.239059   \n",
       "i_q            -0.260562 -0.186060 -0.796586 -0.026348     0.006323  0.996560   \n",
       "pm              0.501496  0.430548 -0.082564  0.101236     0.332419 -0.072905   \n",
       "stator_yoke     0.451616  0.874037  0.041428  0.106186     0.182564 -0.092207   \n",
       "stator_tooth    0.396742  0.689003 -0.066256  0.149017     0.333909 -0.011055   \n",
       "stator_winding  0.301883  0.509298 -0.150714  0.125445     0.393154  0.080981   \n",
       "profile_id      0.384565  0.499669  0.300771 -0.122260    -0.166225 -0.257446   \n",
       "\n",
       "                     i_d       i_q        pm  stator_yoke  stator_tooth  \\\n",
       "ambient         0.005605 -0.260562  0.501496     0.451616      0.396742   \n",
       "coolant         0.108489 -0.186060  0.430548     0.874037      0.689003   \n",
       "u_d             0.358517 -0.796586 -0.082564     0.041428     -0.066256   \n",
       "u_q            -0.181855 -0.026348  0.101236     0.106186      0.149017   \n",
       "motor_speed    -0.722914  0.006323  0.332419     0.182564      0.333909   \n",
       "torque         -0.239059  0.996560 -0.072905    -0.092207     -0.011055   \n",
       "i_d             1.000000 -0.204230 -0.299227    -0.179903     -0.387712   \n",
       "i_q            -0.204230  1.000000 -0.086486    -0.098753     -0.025191   \n",
       "pm             -0.299227 -0.086486  1.000000     0.695014      0.768352   \n",
       "stator_yoke    -0.179903 -0.098753  0.695014     1.000000      0.949898   \n",
       "stator_tooth   -0.387712 -0.025191  0.768352     0.949898      1.000000   \n",
       "stator_winding -0.539924  0.060949  0.729561     0.845144      0.965633   \n",
       "profile_id      0.142368 -0.256127  0.156735     0.398021      0.280994   \n",
       "\n",
       "                stator_winding  profile_id  \n",
       "ambient               0.301883    0.384565  \n",
       "coolant               0.509298    0.499669  \n",
       "u_d                  -0.150714    0.300771  \n",
       "u_q                   0.125445   -0.122260  \n",
       "motor_speed           0.393154   -0.166225  \n",
       "torque                0.080981   -0.257446  \n",
       "i_d                  -0.539924    0.142368  \n",
       "i_q                   0.060949   -0.256127  \n",
       "pm                    0.729561    0.156735  \n",
       "stator_yoke           0.845144    0.398021  \n",
       "stator_tooth          0.965633    0.280994  \n",
       "stator_winding        1.000000    0.181908  \n",
       "profile_id            0.181908    1.000000  "
      ]
     },
     "execution_count": 37,
     "metadata": {},
     "output_type": "execute_result"
    }
   ],
   "source": [
    "corrmat = pmsm_standarlize.corr()\n",
    "corrmat"
   ]
  },
  {
   "cell_type": "code",
   "execution_count": 38,
   "metadata": {},
   "outputs": [
    {
     "data": {
      "text/plain": [
       "<matplotlib.axes._subplots.AxesSubplot at 0x291a7a1dcc8>"
      ]
     },
     "execution_count": 38,
     "metadata": {},
     "output_type": "execute_result"
    },
    {
     "data": {
      "image/png": "[encoded data removed]",
      "text/plain": [
       "<Figure size 432x288 with 2 Axes>"
      ]
     },
     "metadata": {
      "needs_background": "light"
     },
     "output_type": "display_data"
    }
   ],
   "source": [
    "sns.heatmap(corrmat)"
   ]
  },
  {
   "cell_type": "code",
   "execution_count": 39,
   "metadata": {},
   "outputs": [
    {
     "data": {
      "text/html": [
       "<div>\n",
       "<style scoped>\n",
       "    .dataframe tbody tr th:only-of-type {\n",
       "        vertical-align: middle;\n",
       "    }\n",
       "\n",
       "    .dataframe tbody tr th {\n",
       "        vertical-align: top;\n",
       "    }\n",
       "\n",
       "    .dataframe thead th {\n",
       "        text-align: right;\n",
       "    }\n",
       "</style>\n",
       "<table border=\"1\" class=\"dataframe\">\n",
       "  <thead>\n",
       "    <tr style=\"text-align: right;\">\n",
       "      <th></th>\n",
       "      <th>ambient</th>\n",
       "      <th>coolant</th>\n",
       "      <th>u_d</th>\n",
       "      <th>u_q</th>\n",
       "      <th>motor_speed</th>\n",
       "      <th>torque</th>\n",
       "      <th>i_d</th>\n",
       "      <th>i_q</th>\n",
       "      <th>pm</th>\n",
       "      <th>stator_yoke</th>\n",
       "      <th>stator_tooth</th>\n",
       "      <th>stator_winding</th>\n",
       "      <th>profile_id</th>\n",
       "    </tr>\n",
       "  </thead>\n",
       "  <tbody>\n",
       "    <tr>\n",
       "      <td>0</td>\n",
       "      <td>-0.753416</td>\n",
       "      <td>-1.120454</td>\n",
       "      <td>0.323842</td>\n",
       "      <td>-1.289164</td>\n",
       "      <td>-1.214600</td>\n",
       "      <td>-0.247367</td>\n",
       "      <td>1.024560</td>\n",
       "      <td>-0.243174</td>\n",
       "      <td>-2.528584</td>\n",
       "      <td>-1.830112</td>\n",
       "      <td>-2.064767</td>\n",
       "      <td>-2.017442</td>\n",
       "      <td>-2.117146</td>\n",
       "    </tr>\n",
       "    <tr>\n",
       "      <td>1</td>\n",
       "      <td>-0.772669</td>\n",
       "      <td>-1.119032</td>\n",
       "      <td>0.325575</td>\n",
       "      <td>-1.288994</td>\n",
       "      <td>-1.214601</td>\n",
       "      <td>-0.246316</td>\n",
       "      <td>1.024497</td>\n",
       "      <td>-0.243146</td>\n",
       "      <td>-2.528932</td>\n",
       "      <td>-1.829659</td>\n",
       "      <td>-2.063483</td>\n",
       "      <td>-2.017040</td>\n",
       "      <td>-2.117146</td>\n",
       "    </tr>\n",
       "    <tr>\n",
       "      <td>2</td>\n",
       "      <td>-0.784378</td>\n",
       "      <td>-1.118693</td>\n",
       "      <td>0.328689</td>\n",
       "      <td>-1.293119</td>\n",
       "      <td>-1.214600</td>\n",
       "      <td>-0.246615</td>\n",
       "      <td>1.024435</td>\n",
       "      <td>-0.243132</td>\n",
       "      <td>-2.529189</td>\n",
       "      <td>-1.829091</td>\n",
       "      <td>-2.062697</td>\n",
       "      <td>-2.016752</td>\n",
       "      <td>-2.117146</td>\n",
       "    </tr>\n",
       "    <tr>\n",
       "      <td>3</td>\n",
       "      <td>-0.782408</td>\n",
       "      <td>-1.118776</td>\n",
       "      <td>0.329619</td>\n",
       "      <td>-1.293150</td>\n",
       "      <td>-1.214602</td>\n",
       "      <td>-0.245818</td>\n",
       "      <td>1.027836</td>\n",
       "      <td>-0.244271</td>\n",
       "      <td>-2.528150</td>\n",
       "      <td>-1.829024</td>\n",
       "      <td>-2.061760</td>\n",
       "      <td>-2.017041</td>\n",
       "      <td>-2.117146</td>\n",
       "    </tr>\n",
       "    <tr>\n",
       "      <td>4</td>\n",
       "      <td>-0.775467</td>\n",
       "      <td>-1.118787</td>\n",
       "      <td>0.331128</td>\n",
       "      <td>-1.294413</td>\n",
       "      <td>-1.214601</td>\n",
       "      <td>-0.245883</td>\n",
       "      <td>1.026797</td>\n",
       "      <td>-0.243925</td>\n",
       "      <td>-2.528413</td>\n",
       "      <td>-1.829189</td>\n",
       "      <td>-2.061418</td>\n",
       "      <td>-2.017555</td>\n",
       "      <td>-2.117146</td>\n",
       "    </tr>\n",
       "  </tbody>\n",
       "</table>\n",
       "</div>"
      ],
      "text/plain": [
       "    ambient   coolant       u_d       u_q  motor_speed    torque       i_d  \\\n",
       "0 -0.753416 -1.120454  0.323842 -1.289164    -1.214600 -0.247367  1.024560   \n",
       "1 -0.772669 -1.119032  0.325575 -1.288994    -1.214601 -0.246316  1.024497   \n",
       "2 -0.784378 -1.118693  0.328689 -1.293119    -1.214600 -0.246615  1.024435   \n",
       "3 -0.782408 -1.118776  0.329619 -1.293150    -1.214602 -0.245818  1.027836   \n",
       "4 -0.775467 -1.118787  0.331128 -1.294413    -1.214601 -0.245883  1.026797   \n",
       "\n",
       "        i_q        pm  stator_yoke  stator_tooth  stator_winding  profile_id  \n",
       "0 -0.243174 -2.528584    -1.830112     -2.064767       -2.017442   -2.117146  \n",
       "1 -0.243146 -2.528932    -1.829659     -2.063483       -2.017040   -2.117146  \n",
       "2 -0.243132 -2.529189    -1.829091     -2.062697       -2.016752   -2.117146  \n",
       "3 -0.244271 -2.528150    -1.829024     -2.061760       -2.017041   -2.117146  \n",
       "4 -0.243925 -2.528413    -1.829189     -2.061418       -2.017555   -2.117146  "
      ]
     },
     "execution_count": 39,
     "metadata": {},
     "output_type": "execute_result"
    }
   ],
   "source": [
    "pmsm_standarlize.head()"
   ]
  },
  {
   "cell_type": "code",
   "execution_count": 7,
   "metadata": {},
   "outputs": [
    {
     "name": "stdout",
     "output_type": "stream",
     "text": [
      "(998070, 12)\n",
      "(998070, 1)\n"
     ]
    }
   ],
   "source": [
    "y=pd.DataFrame(pmsm_standarlize['motor_speed'])\n",
    "X = pmsm_standarlize[['ambient','coolant','u_d','u_q','torque','i_d','i_q','pm','stator_yoke','stator_tooth','stator_winding','profile_id']]\n",
    "print(X.shape)\n",
    "print(y.shape)"
   ]
  },
  {
   "cell_type": "code",
   "execution_count": 8,
   "metadata": {},
   "outputs": [],
   "source": [
    "from sklearn.model_selection import train_test_split\n",
    "X_train, X_test, y_train, y_test = train_test_split(X, y, test_size=0.33)"
   ]
  },
  {
   "cell_type": "code",
   "execution_count": 9,
   "metadata": {},
   "outputs": [
    {
     "data": {
      "text/html": [
       "<div>\n",
       "<style scoped>\n",
       "    .dataframe tbody tr th:only-of-type {\n",
       "        vertical-align: middle;\n",
       "    }\n",
       "\n",
       "    .dataframe tbody tr th {\n",
       "        vertical-align: top;\n",
       "    }\n",
       "\n",
       "    .dataframe thead th {\n",
       "        text-align: right;\n",
       "    }\n",
       "</style>\n",
       "<table border=\"1\" class=\"dataframe\">\n",
       "  <thead>\n",
       "    <tr style=\"text-align: right;\">\n",
       "      <th></th>\n",
       "      <th>motor_speed</th>\n",
       "    </tr>\n",
       "  </thead>\n",
       "  <tbody>\n",
       "    <tr>\n",
       "      <td>167744</td>\n",
       "      <td>0.568808</td>\n",
       "    </tr>\n",
       "    <tr>\n",
       "      <td>961986</td>\n",
       "      <td>-1.203949</td>\n",
       "    </tr>\n",
       "    <tr>\n",
       "      <td>373742</td>\n",
       "      <td>0.578987</td>\n",
       "    </tr>\n",
       "    <tr>\n",
       "      <td>879157</td>\n",
       "      <td>-1.214600</td>\n",
       "    </tr>\n",
       "    <tr>\n",
       "      <td>384486</td>\n",
       "      <td>-0.236021</td>\n",
       "    </tr>\n",
       "  </tbody>\n",
       "</table>\n",
       "</div>"
      ],
      "text/plain": [
       "        motor_speed\n",
       "167744     0.568808\n",
       "961986    -1.203949\n",
       "373742     0.578987\n",
       "879157    -1.214600\n",
       "384486    -0.236021"
      ]
     },
     "execution_count": 9,
     "metadata": {},
     "output_type": "execute_result"
    }
   ],
   "source": [
    "y_train.head()"
   ]
  },
  {
   "cell_type": "markdown",
   "metadata": {},
   "source": [
    "###  Multiple Linear Regression"
   ]
  },
  {
   "cell_type": "code",
   "execution_count": 43,
   "metadata": {},
   "outputs": [],
   "source": [
    "import statsmodels.api as sm\n",
    "linearmodel = sm.OLS(y_train, X_train).fit()"
   ]
  },
  {
   "cell_type": "code",
   "execution_count": 44,
   "metadata": {},
   "outputs": [
    {
     "data": {
      "text/html": [
       "<table class=\"simpletable\">\n",
       "<caption>OLS Regression Results</caption>\n",
       "<tr>\n",
       "  <th>Dep. Variable:</th>       <td>motor_speed</td>   <th>  R-squared (uncentered):</th>      <td>   0.928</td> \n",
       "</tr>\n",
       "<tr>\n",
       "  <th>Model:</th>                   <td>OLS</td>       <th>  Adj. R-squared (uncentered):</th> <td>   0.928</td> \n",
       "</tr>\n",
       "<tr>\n",
       "  <th>Method:</th>             <td>Least Squares</td>  <th>  F-statistic:       </th>          <td>7.194e+05</td>\n",
       "</tr>\n",
       "<tr>\n",
       "  <th>Date:</th>             <td>Sat, 02 Nov 2019</td> <th>  Prob (F-statistic):</th>           <td>  0.00</td>  \n",
       "</tr>\n",
       "<tr>\n",
       "  <th>Time:</th>                 <td>11:58:01</td>     <th>  Log-Likelihood:    </th>          <td> -68585.</td> \n",
       "</tr>\n",
       "<tr>\n",
       "  <th>No. Observations:</th>      <td>668706</td>      <th>  AIC:               </th>          <td>1.372e+05</td>\n",
       "</tr>\n",
       "<tr>\n",
       "  <th>Df Residuals:</th>          <td>668694</td>      <th>  BIC:               </th>          <td>1.373e+05</td>\n",
       "</tr>\n",
       "<tr>\n",
       "  <th>Df Model:</th>              <td>    12</td>      <th>                     </th>              <td> </td>    \n",
       "</tr>\n",
       "<tr>\n",
       "  <th>Covariance Type:</th>      <td>nonrobust</td>    <th>                     </th>              <td> </td>    \n",
       "</tr>\n",
       "</table>\n",
       "<table class=\"simpletable\">\n",
       "<tr>\n",
       "         <td></td>           <th>coef</th>     <th>std err</th>      <th>t</th>      <th>P>|t|</th>  <th>[0.025</th>    <th>0.975]</th>  \n",
       "</tr>\n",
       "<tr>\n",
       "  <th>ambient</th>        <td>   -0.0487</td> <td>    0.000</td> <td> -114.228</td> <td> 0.000</td> <td>   -0.050</td> <td>   -0.048</td>\n",
       "</tr>\n",
       "<tr>\n",
       "  <th>coolant</th>        <td>    0.4110</td> <td>    0.002</td> <td>  200.029</td> <td> 0.000</td> <td>    0.407</td> <td>    0.415</td>\n",
       "</tr>\n",
       "<tr>\n",
       "  <th>u_d</th>            <td>   -0.1652</td> <td>    0.001</td> <td> -230.787</td> <td> 0.000</td> <td>   -0.167</td> <td>   -0.164</td>\n",
       "</tr>\n",
       "<tr>\n",
       "  <th>u_q</th>            <td>    0.5394</td> <td>    0.000</td> <td> 1333.933</td> <td> 0.000</td> <td>    0.539</td> <td>    0.540</td>\n",
       "</tr>\n",
       "<tr>\n",
       "  <th>torque</th>         <td>   -0.3435</td> <td>    0.005</td> <td>  -64.686</td> <td> 0.000</td> <td>   -0.354</td> <td>   -0.333</td>\n",
       "</tr>\n",
       "<tr>\n",
       "  <th>i_d</th>            <td>   -0.6562</td> <td>    0.001</td> <td>-1160.808</td> <td> 0.000</td> <td>   -0.657</td> <td>   -0.655</td>\n",
       "</tr>\n",
       "<tr>\n",
       "  <th>i_q</th>            <td>    0.1376</td> <td>    0.005</td> <td>   27.552</td> <td> 0.000</td> <td>    0.128</td> <td>    0.147</td>\n",
       "</tr>\n",
       "<tr>\n",
       "  <th>pm</th>             <td>    0.1047</td> <td>    0.001</td> <td>  154.444</td> <td> 0.000</td> <td>    0.103</td> <td>    0.106</td>\n",
       "</tr>\n",
       "<tr>\n",
       "  <th>stator_yoke</th>    <td>   -1.6238</td> <td>    0.006</td> <td> -257.996</td> <td> 0.000</td> <td>   -1.636</td> <td>   -1.612</td>\n",
       "</tr>\n",
       "<tr>\n",
       "  <th>stator_tooth</th>   <td>    2.3116</td> <td>    0.008</td> <td>  278.200</td> <td> 0.000</td> <td>    2.295</td> <td>    2.328</td>\n",
       "</tr>\n",
       "<tr>\n",
       "  <th>stator_winding</th> <td>   -1.1642</td> <td>    0.004</td> <td> -283.301</td> <td> 0.000</td> <td>   -1.172</td> <td>   -1.156</td>\n",
       "</tr>\n",
       "<tr>\n",
       "  <th>profile_id</th>     <td>   -0.0049</td> <td>    0.000</td> <td>  -12.067</td> <td> 0.000</td> <td>   -0.006</td> <td>   -0.004</td>\n",
       "</tr>\n",
       "</table>\n",
       "<table class=\"simpletable\">\n",
       "<tr>\n",
       "  <th>Omnibus:</th>       <td>35792.397</td> <th>  Durbin-Watson:     </th>  <td>   2.000</td> \n",
       "</tr>\n",
       "<tr>\n",
       "  <th>Prob(Omnibus):</th>  <td> 0.000</td>   <th>  Jarque-Bera (JB):  </th> <td>135695.638</td>\n",
       "</tr>\n",
       "<tr>\n",
       "  <th>Skew:</th>           <td>-0.120</td>   <th>  Prob(JB):          </th>  <td>    0.00</td> \n",
       "</tr>\n",
       "<tr>\n",
       "  <th>Kurtosis:</th>       <td> 5.194</td>   <th>  Cond. No.          </th>  <td>    70.5</td> \n",
       "</tr>\n",
       "</table><br/><br/>Warnings:<br/>[1] Standard Errors assume that the covariance matrix of the errors is correctly specified."
      ],
      "text/plain": [
       "<class 'statsmodels.iolib.summary.Summary'>\n",
       "\"\"\"\n",
       "                                 OLS Regression Results                                \n",
       "=======================================================================================\n",
       "Dep. Variable:            motor_speed   R-squared (uncentered):                   0.928\n",
       "Model:                            OLS   Adj. R-squared (uncentered):              0.928\n",
       "Method:                 Least Squares   F-statistic:                          7.194e+05\n",
       "Date:                Sat, 02 Nov 2019   Prob (F-statistic):                        0.00\n",
       "Time:                        11:58:01   Log-Likelihood:                         -68585.\n",
       "No. Observations:              668706   AIC:                                  1.372e+05\n",
       "Df Residuals:                  668694   BIC:                                  1.373e+05\n",
       "Df Model:                          12                                                  \n",
       "Covariance Type:            nonrobust                                                  \n",
       "==================================================================================\n",
       "                     coef    std err          t      P>|t|      [0.025      0.975]\n",
       "----------------------------------------------------------------------------------\n",
       "ambient           -0.0487      0.000   -114.228      0.000      -0.050      -0.048\n",
       "coolant            0.4110      0.002    200.029      0.000       0.407       0.415\n",
       "u_d               -0.1652      0.001   -230.787      0.000      -0.167      -0.164\n",
       "u_q                0.5394      0.000   1333.933      0.000       0.539       0.540\n",
       "torque            -0.3435      0.005    -64.686      0.000      -0.354      -0.333\n",
       "i_d               -0.6562      0.001  -1160.808      0.000      -0.657      -0.655\n",
       "i_q                0.1376      0.005     27.552      0.000       0.128       0.147\n",
       "pm                 0.1047      0.001    154.444      0.000       0.103       0.106\n",
       "stator_yoke       -1.6238      0.006   -257.996      0.000      -1.636      -1.612\n",
       "stator_tooth       2.3116      0.008    278.200      0.000       2.295       2.328\n",
       "stator_winding    -1.1642      0.004   -283.301      0.000      -1.172      -1.156\n",
       "profile_id        -0.0049      0.000    -12.067      0.000      -0.006      -0.004\n",
       "==============================================================================\n",
       "Omnibus:                    35792.397   Durbin-Watson:                   2.000\n",
       "Prob(Omnibus):                  0.000   Jarque-Bera (JB):           135695.638\n",
       "Skew:                          -0.120   Prob(JB):                         0.00\n",
       "Kurtosis:                       5.194   Cond. No.                         70.5\n",
       "==============================================================================\n",
       "\n",
       "Warnings:\n",
       "[1] Standard Errors assume that the covariance matrix of the errors is correctly specified.\n",
       "\"\"\""
      ]
     },
     "execution_count": 44,
     "metadata": {},
     "output_type": "execute_result"
    }
   ],
   "source": [
    "linearmodel.summary()"
   ]
  },
  {
   "cell_type": "code",
   "execution_count": 45,
   "metadata": {},
   "outputs": [],
   "source": [
    "predictions = linearmodel.predict(X_test)"
   ]
  },
  {
   "cell_type": "code",
   "execution_count": 46,
   "metadata": {},
   "outputs": [
    {
     "data": {
      "text/plain": [
       "0.07196263391725462"
      ]
     },
     "execution_count": 46,
     "metadata": {},
     "output_type": "execute_result"
    }
   ],
   "source": [
    "from sklearn.metrics import mean_squared_error\n",
    "mean_squared_error(y_test, predictions)"
   ]
  },
  {
   "cell_type": "markdown",
   "metadata": {},
   "source": [
    "### Ridge Regression"
   ]
  },
  {
   "cell_type": "code",
   "execution_count": 47,
   "metadata": {},
   "outputs": [
    {
     "data": {
      "text/plain": [
       "Ridge(alpha=0.1, copy_X=True, fit_intercept=True, max_iter=None,\n",
       "      normalize=False, random_state=None, solver='auto', tol=0.001)"
      ]
     },
     "execution_count": 47,
     "metadata": {},
     "output_type": "execute_result"
    }
   ],
   "source": [
    "from sklearn.linear_model import Ridge\n",
    "from sklearn.model_selection import GridSearchCV\n",
    "\n",
    "params = [{'alpha':[0.001,0.01,0.1,1]}]\n",
    "RR=Ridge()\n",
    "gridsearch = GridSearchCV(RR,params,cv=4)\n",
    "gridsearch.fit(X_train,y_train)\n",
    "scores = gridsearch.cv_results_\n",
    "gridsearch.best_estimator_\n",
    "#for param,mean_val,mean_test in zip(scores['params'],scores['mean_test_score'],scores['mean_train_score']):\n",
    "#  print(param,\"r2 on test data: \",mean_val,\"r2 on train data: \",mean_test)"
   ]
  },
  {
   "cell_type": "code",
   "execution_count": 48,
   "metadata": {},
   "outputs": [
    {
     "data": {
      "text/plain": [
       "Ridge(alpha=0.01, copy_X=True, fit_intercept=True, max_iter=None,\n",
       "      normalize=False, random_state=None, solver='auto', tol=0.001)"
      ]
     },
     "execution_count": 48,
     "metadata": {},
     "output_type": "execute_result"
    }
   ],
   "source": [
    "#Building the Ridge model with alpha=0.01\n",
    "Ridger = Ridge(alpha=0.01)\n",
    "Ridger.fit(X_train,y_train)"
   ]
  },
  {
   "cell_type": "code",
   "execution_count": 49,
   "metadata": {},
   "outputs": [],
   "source": [
    "redgeprediction = Ridger.predict(X_test)"
   ]
  },
  {
   "cell_type": "code",
   "execution_count": 50,
   "metadata": {},
   "outputs": [
    {
     "data": {
      "text/plain": [
       "0.9281054606144732"
      ]
     },
     "execution_count": 50,
     "metadata": {},
     "output_type": "execute_result"
    }
   ],
   "source": [
    "Ridger.score(X_train,y_train)"
   ]
  },
  {
   "cell_type": "code",
   "execution_count": 51,
   "metadata": {},
   "outputs": [
    {
     "data": {
      "text/plain": [
       "0.07196263636266224"
      ]
     },
     "execution_count": 51,
     "metadata": {},
     "output_type": "execute_result"
    }
   ],
   "source": [
    "mean_squared_error(y_test, redgeprediction)"
   ]
  },
  {
   "cell_type": "markdown",
   "metadata": {},
   "source": [
    "### Polynomial Regression"
   ]
  },
  {
   "cell_type": "code",
   "execution_count": 52,
   "metadata": {},
   "outputs": [
    {
     "data": {
      "text/plain": [
       "0.9952953823263367"
      ]
     },
     "execution_count": 52,
     "metadata": {},
     "output_type": "execute_result"
    }
   ],
   "source": [
    "from sklearn.preprocessing import PolynomialFeatures\n",
    "from sklearn.pipeline import Pipeline\n",
    "from sklearn.linear_model import LinearRegression\n",
    "Input=[('polynomial', PolynomialFeatures(degree=2)),('model',LinearRegression())]\n",
    "pipe=Pipeline(Input)\n",
    "pipe.fit(X_train,y_train)\n",
    "pipe.score(X_train,y_train)"
   ]
  },
  {
   "cell_type": "code",
   "execution_count": 53,
   "metadata": {},
   "outputs": [],
   "source": [
    "poly_pred = pipe.predict(X_test)"
   ]
  },
  {
   "cell_type": "code",
   "execution_count": 54,
   "metadata": {},
   "outputs": [
    {
     "data": {
      "text/plain": [
       "0.004761593621012635"
      ]
     },
     "execution_count": 54,
     "metadata": {},
     "output_type": "execute_result"
    }
   ],
   "source": [
    "mean_squared_error(y_test, poly_pred)"
   ]
  },
  {
   "cell_type": "markdown",
   "metadata": {},
   "source": [
    "### XGBOOST Regression"
   ]
  },
  {
   "cell_type": "code",
   "execution_count": 55,
   "metadata": {},
   "outputs": [],
   "source": [
    "from xgboost import XGBRegressor"
   ]
  },
  {
   "cell_type": "code",
   "execution_count": 56,
   "metadata": {},
   "outputs": [
    {
     "name": "stdout",
     "output_type": "stream",
     "text": [
      "[11:58:48] WARNING: C:/Jenkins/workspace/xgboost-win64_release_0.90/src/objective/regression_obj.cu:152: reg:linear is now deprecated in favor of reg:squarederror.\n"
     ]
    },
    {
     "data": {
      "text/plain": [
       "XGBRegressor(base_score=0.5, booster='gbtree', colsample_bylevel=1,\n",
       "             colsample_bynode=1, colsample_bytree=1, gamma=0,\n",
       "             importance_type='gain', learning_rate=0.1, max_delta_step=0,\n",
       "             max_depth=3, min_child_weight=1, missing=None, n_estimators=100,\n",
       "             n_jobs=1, nthread=-1, objective='reg:linear', random_state=0,\n",
       "             reg_alpha=0, reg_lambda=1, scale_pos_weight=1, seed=None,\n",
       "             silent=None, subsample=1, verbosity=1)"
      ]
     },
     "execution_count": 56,
     "metadata": {},
     "output_type": "execute_result"
    }
   ],
   "source": [
    "#params = {'gamma':[i/10.0 for i in range(3,6)],  'subsample':[i/10.0 for i in range(6,11)],'colsample_bytree':[i/10.0 for i in range(6,11)], 'max_depth': [2,3,4]}\n",
    "xgb = XGBRegressor(nthread=-1) \n",
    "#grid = GridSearchCV(xgb, params)\n",
    "xgb.fit(X_train,y_train)\n",
    "#grid.best_estimator_"
   ]
  },
  {
   "cell_type": "code",
   "execution_count": 57,
   "metadata": {},
   "outputs": [
    {
     "data": {
      "text/plain": [
       "0.9958080242772995"
      ]
     },
     "execution_count": 57,
     "metadata": {},
     "output_type": "execute_result"
    }
   ],
   "source": [
    "xgb.score(X_train,y_train)"
   ]
  },
  {
   "cell_type": "code",
   "execution_count": 58,
   "metadata": {},
   "outputs": [
    {
     "data": {
      "text/plain": [
       "0.004226067222820369"
      ]
     },
     "execution_count": 58,
     "metadata": {},
     "output_type": "execute_result"
    }
   ],
   "source": [
    "xgb_pred = xgb.predict(X_test)\n",
    "mean_squared_error(y_test, xgb_pred)"
   ]
  },
  {
   "cell_type": "markdown",
   "metadata": {},
   "source": [
    "### Linear Regression with pm and stator_yoke as dependent variables"
   ]
  },
  {
   "cell_type": "code",
   "execution_count": 13,
   "metadata": {},
   "outputs": [],
   "source": [
    "y_pm=pd.DataFrame(pmsm_standarlize[['pm','stator_yoke']])"
   ]
  },
  {
   "cell_type": "code",
   "execution_count": 14,
   "metadata": {},
   "outputs": [
    {
     "data": {
      "text/html": [
       "<div>\n",
       "<style scoped>\n",
       "    .dataframe tbody tr th:only-of-type {\n",
       "        vertical-align: middle;\n",
       "    }\n",
       "\n",
       "    .dataframe tbody tr th {\n",
       "        vertical-align: top;\n",
       "    }\n",
       "\n",
       "    .dataframe thead th {\n",
       "        text-align: right;\n",
       "    }\n",
       "</style>\n",
       "<table border=\"1\" class=\"dataframe\">\n",
       "  <thead>\n",
       "    <tr style=\"text-align: right;\">\n",
       "      <th></th>\n",
       "      <th>ambient</th>\n",
       "      <th>coolant</th>\n",
       "      <th>u_d</th>\n",
       "      <th>u_q</th>\n",
       "      <th>motor_speed</th>\n",
       "      <th>torque</th>\n",
       "      <th>i_d</th>\n",
       "      <th>i_q</th>\n",
       "      <th>stator_tooth</th>\n",
       "      <th>stator_winding</th>\n",
       "      <th>profile_id</th>\n",
       "    </tr>\n",
       "  </thead>\n",
       "  <tbody>\n",
       "    <tr>\n",
       "      <td>0</td>\n",
       "      <td>-0.753416</td>\n",
       "      <td>-1.120454</td>\n",
       "      <td>0.323842</td>\n",
       "      <td>-1.289164</td>\n",
       "      <td>-1.214600</td>\n",
       "      <td>-0.247367</td>\n",
       "      <td>1.024560</td>\n",
       "      <td>-0.243174</td>\n",
       "      <td>-2.064767</td>\n",
       "      <td>-2.017442</td>\n",
       "      <td>-2.117146</td>\n",
       "    </tr>\n",
       "    <tr>\n",
       "      <td>1</td>\n",
       "      <td>-0.772669</td>\n",
       "      <td>-1.119032</td>\n",
       "      <td>0.325575</td>\n",
       "      <td>-1.288994</td>\n",
       "      <td>-1.214601</td>\n",
       "      <td>-0.246316</td>\n",
       "      <td>1.024497</td>\n",
       "      <td>-0.243146</td>\n",
       "      <td>-2.063483</td>\n",
       "      <td>-2.017040</td>\n",
       "      <td>-2.117146</td>\n",
       "    </tr>\n",
       "    <tr>\n",
       "      <td>2</td>\n",
       "      <td>-0.784378</td>\n",
       "      <td>-1.118693</td>\n",
       "      <td>0.328689</td>\n",
       "      <td>-1.293119</td>\n",
       "      <td>-1.214600</td>\n",
       "      <td>-0.246615</td>\n",
       "      <td>1.024435</td>\n",
       "      <td>-0.243132</td>\n",
       "      <td>-2.062697</td>\n",
       "      <td>-2.016752</td>\n",
       "      <td>-2.117146</td>\n",
       "    </tr>\n",
       "    <tr>\n",
       "      <td>3</td>\n",
       "      <td>-0.782408</td>\n",
       "      <td>-1.118776</td>\n",
       "      <td>0.329619</td>\n",
       "      <td>-1.293150</td>\n",
       "      <td>-1.214602</td>\n",
       "      <td>-0.245818</td>\n",
       "      <td>1.027836</td>\n",
       "      <td>-0.244271</td>\n",
       "      <td>-2.061760</td>\n",
       "      <td>-2.017041</td>\n",
       "      <td>-2.117146</td>\n",
       "    </tr>\n",
       "    <tr>\n",
       "      <td>4</td>\n",
       "      <td>-0.775467</td>\n",
       "      <td>-1.118787</td>\n",
       "      <td>0.331128</td>\n",
       "      <td>-1.294413</td>\n",
       "      <td>-1.214601</td>\n",
       "      <td>-0.245883</td>\n",
       "      <td>1.026797</td>\n",
       "      <td>-0.243925</td>\n",
       "      <td>-2.061418</td>\n",
       "      <td>-2.017555</td>\n",
       "      <td>-2.117146</td>\n",
       "    </tr>\n",
       "  </tbody>\n",
       "</table>\n",
       "</div>"
      ],
      "text/plain": [
       "    ambient   coolant       u_d       u_q  motor_speed    torque       i_d  \\\n",
       "0 -0.753416 -1.120454  0.323842 -1.289164    -1.214600 -0.247367  1.024560   \n",
       "1 -0.772669 -1.119032  0.325575 -1.288994    -1.214601 -0.246316  1.024497   \n",
       "2 -0.784378 -1.118693  0.328689 -1.293119    -1.214600 -0.246615  1.024435   \n",
       "3 -0.782408 -1.118776  0.329619 -1.293150    -1.214602 -0.245818  1.027836   \n",
       "4 -0.775467 -1.118787  0.331128 -1.294413    -1.214601 -0.245883  1.026797   \n",
       "\n",
       "        i_q  stator_tooth  stator_winding  profile_id  \n",
       "0 -0.243174     -2.064767       -2.017442   -2.117146  \n",
       "1 -0.243146     -2.063483       -2.017040   -2.117146  \n",
       "2 -0.243132     -2.062697       -2.016752   -2.117146  \n",
       "3 -0.244271     -2.061760       -2.017041   -2.117146  \n",
       "4 -0.243925     -2.061418       -2.017555   -2.117146  "
      ]
     },
     "execution_count": 14,
     "metadata": {},
     "output_type": "execute_result"
    }
   ],
   "source": [
    "X_pm = pmsm_standarlize[['ambient','coolant','u_d','u_q','motor_speed','torque','i_d','i_q','stator_tooth','stator_winding','profile_id']]\n",
    "X_pm.head()"
   ]
  },
  {
   "cell_type": "code",
   "execution_count": 15,
   "metadata": {},
   "outputs": [],
   "source": [
    "X_pmtrain, X_pmtest, y_pmtrain, y_pmtest = train_test_split(X_pm, y_pm, test_size=0.4)"
   ]
  },
  {
   "cell_type": "code",
   "execution_count": 16,
   "metadata": {},
   "outputs": [
    {
     "data": {
      "text/html": [
       "<div>\n",
       "<style scoped>\n",
       "    .dataframe tbody tr th:only-of-type {\n",
       "        vertical-align: middle;\n",
       "    }\n",
       "\n",
       "    .dataframe tbody tr th {\n",
       "        vertical-align: top;\n",
       "    }\n",
       "\n",
       "    .dataframe thead th {\n",
       "        text-align: right;\n",
       "    }\n",
       "</style>\n",
       "<table border=\"1\" class=\"dataframe\">\n",
       "  <thead>\n",
       "    <tr style=\"text-align: right;\">\n",
       "      <th></th>\n",
       "      <th>pm</th>\n",
       "      <th>stator_yoke</th>\n",
       "    </tr>\n",
       "  </thead>\n",
       "  <tbody>\n",
       "    <tr>\n",
       "      <td>982844</td>\n",
       "      <td>-1.536997</td>\n",
       "      <td>-1.104190</td>\n",
       "    </tr>\n",
       "    <tr>\n",
       "      <td>693681</td>\n",
       "      <td>-0.272081</td>\n",
       "      <td>-0.472989</td>\n",
       "    </tr>\n",
       "    <tr>\n",
       "      <td>860398</td>\n",
       "      <td>1.765816</td>\n",
       "      <td>2.298809</td>\n",
       "    </tr>\n",
       "    <tr>\n",
       "      <td>922069</td>\n",
       "      <td>0.594650</td>\n",
       "      <td>0.612504</td>\n",
       "    </tr>\n",
       "    <tr>\n",
       "      <td>732133</td>\n",
       "      <td>-2.140380</td>\n",
       "      <td>-1.119017</td>\n",
       "    </tr>\n",
       "  </tbody>\n",
       "</table>\n",
       "</div>"
      ],
      "text/plain": [
       "              pm  stator_yoke\n",
       "982844 -1.536997    -1.104190\n",
       "693681 -0.272081    -0.472989\n",
       "860398  1.765816     2.298809\n",
       "922069  0.594650     0.612504\n",
       "732133 -2.140380    -1.119017"
      ]
     },
     "execution_count": 16,
     "metadata": {},
     "output_type": "execute_result"
    }
   ],
   "source": [
    "y_pmtrain.head()"
   ]
  },
  {
   "cell_type": "code",
   "execution_count": 101,
   "metadata": {},
   "outputs": [
    {
     "data": {
      "text/plain": [
       "LinearRegression(copy_X=True, fit_intercept=True, n_jobs=None, normalize=False)"
      ]
     },
     "execution_count": 101,
     "metadata": {},
     "output_type": "execute_result"
    }
   ],
   "source": [
    "from sklearn.linear_model import LinearRegression\n",
    "linearmodel_pm = LinearRegression()\n",
    "linearmodel_pm.fit(X_pmtrain,y_pmtrain)"
   ]
  },
  {
   "cell_type": "code",
   "execution_count": 102,
   "metadata": {},
   "outputs": [
    {
     "name": "stderr",
     "output_type": "stream",
     "text": [
      "C:\\Users\\DBA\\Anaconda3\\lib\\site-packages\\sklearn\\base.py:420: FutureWarning: The default value of multioutput (not exposed in score method) will change from 'variance_weighted' to 'uniform_average' in 0.23 to keep consistent with 'metrics.r2_score'. To specify the default value manually and avoid the warning, please either call 'metrics.r2_score' directly or make a custom scorer with 'metrics.make_scorer' (the built-in scorer 'r2' uses multioutput='uniform_average').\n",
      "  \"multioutput='uniform_average').\", FutureWarning)\n",
      "C:\\Users\\DBA\\Anaconda3\\lib\\site-packages\\sklearn\\base.py:420: FutureWarning: The default value of multioutput (not exposed in score method) will change from 'variance_weighted' to 'uniform_average' in 0.23 to keep consistent with 'metrics.r2_score'. To specify the default value manually and avoid the warning, please either call 'metrics.r2_score' directly or make a custom scorer with 'metrics.make_scorer' (the built-in scorer 'r2' uses multioutput='uniform_average').\n",
      "  \"multioutput='uniform_average').\", FutureWarning)\n"
     ]
    },
    {
     "name": "stdout",
     "output_type": "stream",
     "text": [
      "0.8828515330079834\n",
      "0.8824340004138347\n"
     ]
    }
   ],
   "source": [
    "print(linearmodel_pm.score(X_pmtrain,y_pmtrain))\n",
    "print(linearmodel_pm.score(X_pmtest,y_pmtest))"
   ]
  },
  {
   "cell_type": "code",
   "execution_count": 103,
   "metadata": {},
   "outputs": [],
   "source": [
    "predictions_pmtrain = pd.DataFrame(linearmodel_pm.predict(X_pmtrain))\n",
    "predictions_pmtest = pd.DataFrame(linearmodel_pm.predict(X_pmtest))"
   ]
  },
  {
   "cell_type": "code",
   "execution_count": 104,
   "metadata": {},
   "outputs": [
    {
     "name": "stdout",
     "output_type": "stream",
     "text": [
      "0.8828020832228498\n",
      "0.8825084023080689\n"
     ]
    }
   ],
   "source": [
    "from sklearn.metrics import r2_score\n",
    "print(r2_score(y_pmtrain, predictions_pmtrain))\n",
    "print(r2_score(y_pmtest, predictions_pmtest))"
   ]
  },
  {
   "cell_type": "code",
   "execution_count": 105,
   "metadata": {},
   "outputs": [
    {
     "name": "stdout",
     "output_type": "stream",
     "text": [
      "0.11715438448311055\n",
      "0.11755706802658102\n"
     ]
    }
   ],
   "source": [
    "from sklearn.metrics import mean_squared_error\n",
    "print(mean_squared_error(y_pmtrain, predictions_pmtrain))\n",
    "print(mean_squared_error(y_pmtest, predictions_pmtest))"
   ]
  },
  {
   "cell_type": "markdown",
   "metadata": {},
   "source": [
    "### Polynomial regression"
   ]
  },
  {
   "cell_type": "code",
   "execution_count": 106,
   "metadata": {},
   "outputs": [
    {
     "name": "stderr",
     "output_type": "stream",
     "text": [
      "C:\\Users\\DBA\\Anaconda3\\lib\\site-packages\\sklearn\\base.py:420: FutureWarning: The default value of multioutput (not exposed in score method) will change from 'variance_weighted' to 'uniform_average' in 0.23 to keep consistent with 'metrics.r2_score'. To specify the default value manually and avoid the warning, please either call 'metrics.r2_score' directly or make a custom scorer with 'metrics.make_scorer' (the built-in scorer 'r2' uses multioutput='uniform_average').\n",
      "  \"multioutput='uniform_average').\", FutureWarning)\n"
     ]
    },
    {
     "name": "stdout",
     "output_type": "stream",
     "text": [
      "0.9137002366630574\n",
      "0.9133937327552634\n"
     ]
    },
    {
     "name": "stderr",
     "output_type": "stream",
     "text": [
      "C:\\Users\\DBA\\Anaconda3\\lib\\site-packages\\sklearn\\base.py:420: FutureWarning: The default value of multioutput (not exposed in score method) will change from 'variance_weighted' to 'uniform_average' in 0.23 to keep consistent with 'metrics.r2_score'. To specify the default value manually and avoid the warning, please either call 'metrics.r2_score' directly or make a custom scorer with 'metrics.make_scorer' (the built-in scorer 'r2' uses multioutput='uniform_average').\n",
      "  \"multioutput='uniform_average').\", FutureWarning)\n"
     ]
    }
   ],
   "source": [
    "Input=[('polynomial', PolynomialFeatures(degree=2)),('model',LinearRegression())]\n",
    "pipe=Pipeline(Input)\n",
    "pipe.fit(X_pmtrain,y_pmtrain)\n",
    "print(pipe.score(X_pmtrain,y_pmtrain))\n",
    "print(pipe.score(X_pmtest,y_pmtest))"
   ]
  },
  {
   "cell_type": "code",
   "execution_count": 107,
   "metadata": {},
   "outputs": [
    {
     "data": {
      "text/plain": [
       "0.08659968771460898"
      ]
     },
     "execution_count": 107,
     "metadata": {},
     "output_type": "execute_result"
    }
   ],
   "source": [
    "polydegree_pred_pm = pipe.predict(X_pmtest)\n",
    "mean_squared_error(y_pmtest, polydegree_pred_pm)"
   ]
  },
  {
   "cell_type": "code",
   "execution_count": 108,
   "metadata": {},
   "outputs": [
    {
     "name": "stderr",
     "output_type": "stream",
     "text": [
      "C:\\Users\\DBA\\Anaconda3\\lib\\site-packages\\sklearn\\base.py:420: FutureWarning: The default value of multioutput (not exposed in score method) will change from 'variance_weighted' to 'uniform_average' in 0.23 to keep consistent with 'metrics.r2_score'. To specify the default value manually and avoid the warning, please either call 'metrics.r2_score' directly or make a custom scorer with 'metrics.make_scorer' (the built-in scorer 'r2' uses multioutput='uniform_average').\n",
      "  \"multioutput='uniform_average').\", FutureWarning)\n"
     ]
    },
    {
     "name": "stdout",
     "output_type": "stream",
     "text": [
      "0.9463226910769428\n"
     ]
    },
    {
     "name": "stderr",
     "output_type": "stream",
     "text": [
      "C:\\Users\\DBA\\Anaconda3\\lib\\site-packages\\sklearn\\base.py:420: FutureWarning: The default value of multioutput (not exposed in score method) will change from 'variance_weighted' to 'uniform_average' in 0.23 to keep consistent with 'metrics.r2_score'. To specify the default value manually and avoid the warning, please either call 'metrics.r2_score' directly or make a custom scorer with 'metrics.make_scorer' (the built-in scorer 'r2' uses multioutput='uniform_average').\n",
      "  \"multioutput='uniform_average').\", FutureWarning)\n"
     ]
    },
    {
     "name": "stdout",
     "output_type": "stream",
     "text": [
      "0.9461882417673881\n"
     ]
    }
   ],
   "source": [
    "Input=[('polynomial', PolynomialFeatures(degree=3)),('model',LinearRegression())]\n",
    "pipe=Pipeline(Input)\n",
    "pipe.fit(X_pmtrain,y_pmtrain)\n",
    "print(pipe.score(X_pmtrain,y_pmtrain))\n",
    "print(pipe.score(X_pmtest,y_pmtest))"
   ]
  },
  {
   "cell_type": "code",
   "execution_count": 109,
   "metadata": {},
   "outputs": [],
   "source": [
    "poly_pred_pm = pipe.predict(X_pmtest)"
   ]
  },
  {
   "cell_type": "code",
   "execution_count": 110,
   "metadata": {},
   "outputs": [
    {
     "data": {
      "text/plain": [
       "0.05380767012102619"
      ]
     },
     "execution_count": 110,
     "metadata": {},
     "output_type": "execute_result"
    }
   ],
   "source": [
    "mean_squared_error(y_pmtest, poly_pred_pm)"
   ]
  },
  {
   "cell_type": "markdown",
   "metadata": {},
   "source": [
    "### XGBoost Regressor"
   ]
  },
  {
   "cell_type": "code",
   "execution_count": 111,
   "metadata": {},
   "outputs": [
    {
     "name": "stdout",
     "output_type": "stream",
     "text": [
      "[13:02:38] WARNING: C:/Jenkins/workspace/xgboost-win64_release_0.90/src/objective/regression_obj.cu:152: reg:linear is now deprecated in favor of reg:squarederror.\n",
      "[13:04:56] WARNING: C:/Jenkins/workspace/xgboost-win64_release_0.90/src/objective/regression_obj.cu:152: reg:linear is now deprecated in favor of reg:squarederror.\n",
      "0.9239278756263233\n",
      "0.9238617251564097\n"
     ]
    }
   ],
   "source": [
    "from sklearn.multioutput import MultiOutputRegressor\n",
    "multioutput = MultiOutputRegressor(XGBRegressor()).fit(X_pmtrain,y_pmtrain)\n",
    "print(multioutput.score(X_pmtrain,y_pmtrain))\n",
    "print(multioutput.score(X_pmtest,y_pmtest))"
   ]
  },
  {
   "cell_type": "code",
   "execution_count": 112,
   "metadata": {},
   "outputs": [
    {
     "data": {
      "text/plain": [
       "0.07617929770579317"
      ]
     },
     "execution_count": 112,
     "metadata": {},
     "output_type": "execute_result"
    }
   ],
   "source": [
    "xgb = multioutput.predict(X_pmtest)\n",
    "mean_squared_error(y_pmtest, xgb)"
   ]
  },
  {
   "cell_type": "code",
   "execution_count": 118,
   "metadata": {},
   "outputs": [
    {
     "name": "stdout",
     "output_type": "stream",
     "text": [
      "[14:35:29] WARNING: C:/Jenkins/workspace/xgboost-win64_release_0.90/src/objective/regression_obj.cu:152: reg:linear is now deprecated in favor of reg:squarederror.\n",
      "[14:37:52] WARNING: C:/Jenkins/workspace/xgboost-win64_release_0.90/src/objective/regression_obj.cu:152: reg:linear is now deprecated in favor of reg:squarederror.\n"
     ]
    }
   ],
   "source": [
    "multioutputregressor = MultiOutputRegressor(XGBRegressor(n_estimators=500, learning_rate=0.01)).fit(X_pmtrain,y_pmtrain)"
   ]
  },
  {
   "cell_type": "code",
   "execution_count": 120,
   "metadata": {},
   "outputs": [],
   "source": [
    "multi_xgb = multioutputregressor.predict(X_pmtest)"
   ]
  },
  {
   "cell_type": "code",
   "execution_count": 121,
   "metadata": {},
   "outputs": [
    {
     "data": {
      "text/plain": [
       "0.33014241112115567"
      ]
     },
     "execution_count": 121,
     "metadata": {},
     "output_type": "execute_result"
    }
   ],
   "source": [
    "mean_squared_error(y_pmtest, multi_xgb)"
   ]
  },
  {
   "cell_type": "markdown",
   "metadata": {},
   "source": [
    "### Artificial Neural Networks"
   ]
  },
  {
   "cell_type": "code",
   "execution_count": 10,
   "metadata": {},
   "outputs": [
    {
     "name": "stderr",
     "output_type": "stream",
     "text": [
      "Using TensorFlow backend.\n"
     ]
    }
   ],
   "source": [
    "import keras\n",
    "from keras.models import Sequential\n",
    "from keras.layers import Dense"
   ]
  },
  {
   "cell_type": "code",
   "execution_count": 17,
   "metadata": {},
   "outputs": [],
   "source": [
    "train_X = X_pmtrain.values\n",
    "test_X = X_pmtest.values\n",
    "train_y = y_pmtrain.values\n",
    "test_y = y_pmtest.values"
   ]
  },
  {
   "cell_type": "code",
   "execution_count": 125,
   "metadata": {},
   "outputs": [],
   "source": [
    "model = Sequential()\n",
    "model.add(Dense(12, input_dim=11, activation='relu'))\n",
    "model.add(Dense(8, activation='relu'))\n",
    "model.add(Dense(2, activation='linear'))"
   ]
  },
  {
   "cell_type": "code",
   "execution_count": 126,
   "metadata": {},
   "outputs": [
    {
     "name": "stdout",
     "output_type": "stream",
     "text": [
      "Model: \"sequential_3\"\n",
      "_________________________________________________________________\n",
      "Layer (type)                 Output Shape              Param #   \n",
      "=================================================================\n",
      "dense_7 (Dense)              (None, 12)                144       \n",
      "_________________________________________________________________\n",
      "dense_8 (Dense)              (None, 8)                 104       \n",
      "_________________________________________________________________\n",
      "dense_9 (Dense)              (None, 2)                 18        \n",
      "=================================================================\n",
      "Total params: 266\n",
      "Trainable params: 266\n",
      "Non-trainable params: 0\n",
      "_________________________________________________________________\n"
     ]
    }
   ],
   "source": [
    "model.compile(loss='mean_absolute_error', optimizer='adam', metrics=['mean_absolute_error'])\n",
    "model.summary()"
   ]
  },
  {
   "cell_type": "code",
   "execution_count": 127,
   "metadata": {},
   "outputs": [
    {
     "name": "stdout",
     "output_type": "stream",
     "text": [
      "Train on 479073 samples, validate on 119769 samples\n",
      "Epoch 1/50\n",
      "479073/479073 [==============================] - 33s 70us/step - loss: 0.2031 - mean_absolute_error: 0.2031 - val_loss: 0.1753 - val_mean_absolute_error: 0.1753\n",
      "Epoch 2/50\n",
      "479073/479073 [==============================] - 34s 71us/step - loss: 0.1722 - mean_absolute_error: 0.1722 - val_loss: 0.1672 - val_mean_absolute_error: 0.1672\n",
      "Epoch 3/50\n",
      "479073/479073 [==============================] - 30s 62us/step - loss: 0.1668 - mean_absolute_error: 0.1668 - val_loss: 0.1711 - val_mean_absolute_error: 0.1711\n",
      "Epoch 4/50\n",
      "479073/479073 [==============================] - 33s 69us/step - loss: 0.1631 - mean_absolute_error: 0.1631 - val_loss: 0.1632 - val_mean_absolute_error: 0.1632\n",
      "Epoch 5/50\n",
      "479073/479073 [==============================] - 30s 62us/step - loss: 0.1607 - mean_absolute_error: 0.1607 - val_loss: 0.1581 - val_mean_absolute_error: 0.1581\n",
      "Epoch 6/50\n",
      "479073/479073 [==============================] - 34s 71us/step - loss: 0.1596 - mean_absolute_error: 0.1596 - val_loss: 0.1600 - val_mean_absolute_error: 0.1600\n",
      "Epoch 7/50\n",
      "479073/479073 [==============================] - 31s 64us/step - loss: 0.1587 - mean_absolute_error: 0.1587 - val_loss: 0.1570 - val_mean_absolute_error: 0.1570\n",
      "Epoch 8/50\n",
      "479073/479073 [==============================] - 29s 61us/step - loss: 0.1581 - mean_absolute_error: 0.1581 - val_loss: 0.1576 - val_mean_absolute_error: 0.1576\n",
      "Epoch 9/50\n",
      "479073/479073 [==============================] - 31s 65us/step - loss: 0.1578 - mean_absolute_error: 0.1578 - val_loss: 0.1586 - val_mean_absolute_error: 0.1586\n",
      "Epoch 10/50\n",
      "479073/479073 [==============================] - 30s 63us/step - loss: 0.1574 - mean_absolute_error: 0.1574 - val_loss: 0.1561 - val_mean_absolute_error: 0.1561\n",
      "Epoch 11/50\n",
      "479073/479073 [==============================] - 32s 67us/step - loss: 0.1571 - mean_absolute_error: 0.1571 - val_loss: 0.1578 - val_mean_absolute_error: 0.1578\n",
      "Epoch 12/50\n",
      "479073/479073 [==============================] - 34s 72us/step - loss: 0.1568 - mean_absolute_error: 0.1568 - val_loss: 0.1565 - val_mean_absolute_error: 0.1565\n",
      "Epoch 13/50\n",
      "479073/479073 [==============================] - 31s 64us/step - loss: 0.1565 - mean_absolute_error: 0.1565 - val_loss: 0.1605 - val_mean_absolute_error: 0.1605\n",
      "Epoch 14/50\n",
      "479073/479073 [==============================] - 30s 63us/step - loss: 0.1562 - mean_absolute_error: 0.1562 - val_loss: 0.1611 - val_mean_absolute_error: 0.1611\n",
      "Epoch 15/50\n",
      "479073/479073 [==============================] - 29s 62us/step - loss: 0.1560 - mean_absolute_error: 0.1560 - val_loss: 0.1558 - val_mean_absolute_error: 0.1558\n",
      "Epoch 16/50\n",
      "479073/479073 [==============================] - 31s 64us/step - loss: 0.1558 - mean_absolute_error: 0.1558 - val_loss: 0.1571 - val_mean_absolute_error: 0.1571\n",
      "Epoch 17/50\n",
      "479073/479073 [==============================] - 29s 61us/step - loss: 0.1556 - mean_absolute_error: 0.1556 - val_loss: 0.1557 - val_mean_absolute_error: 0.1557\n",
      "Epoch 18/50\n",
      "479073/479073 [==============================] - 31s 64us/step - loss: 0.1552 - mean_absolute_error: 0.1552 - val_loss: 0.1545 - val_mean_absolute_error: 0.1545\n",
      "Epoch 19/50\n",
      "479073/479073 [==============================] - 29s 61us/step - loss: 0.1548 - mean_absolute_error: 0.1548 - val_loss: 0.1558 - val_mean_absolute_error: 0.1558\n",
      "Epoch 20/50\n",
      "479073/479073 [==============================] - 30s 64us/step - loss: 0.1545 - mean_absolute_error: 0.1545 - val_loss: 0.1568 - val_mean_absolute_error: 0.1568\n",
      "Epoch 21/50\n",
      "479073/479073 [==============================] - 31s 65us/step - loss: 0.1543 - mean_absolute_error: 0.1543 - val_loss: 0.1564 - val_mean_absolute_error: 0.1564\n",
      "Epoch 22/50\n",
      "479073/479073 [==============================] - 31s 64us/step - loss: 0.1540 - mean_absolute_error: 0.1540 - val_loss: 0.1549 - val_mean_absolute_error: 0.1549\n",
      "Epoch 23/50\n",
      "479073/479073 [==============================] - 30s 62us/step - loss: 0.1539 - mean_absolute_error: 0.1539 - val_loss: 0.1532 - val_mean_absolute_error: 0.1532\n",
      "Epoch 24/50\n",
      "479073/479073 [==============================] - 30s 62us/step - loss: 0.1537 - mean_absolute_error: 0.1537 - val_loss: 0.1535 - val_mean_absolute_error: 0.1535\n",
      "Epoch 25/50\n",
      "479073/479073 [==============================] - 33s 69us/step - loss: 0.1535 - mean_absolute_error: 0.1535 - val_loss: 0.1525 - val_mean_absolute_error: 0.1525\n",
      "Epoch 26/50\n",
      "479073/479073 [==============================] - 32s 68us/step - loss: 0.1533 - mean_absolute_error: 0.1533 - val_loss: 0.1534 - val_mean_absolute_error: 0.1534\n",
      "Epoch 27/50\n",
      "479073/479073 [==============================] - 30s 63us/step - loss: 0.1531 - mean_absolute_error: 0.1531 - val_loss: 0.1532 - val_mean_absolute_error: 0.1532\n",
      "Epoch 28/50\n",
      "479073/479073 [==============================] - 30s 62us/step - loss: 0.1530 - mean_absolute_error: 0.1529 - val_loss: 0.1520 - val_mean_absolute_error: 0.1520\n",
      "Epoch 29/50\n",
      "479073/479073 [==============================] - 30s 62us/step - loss: 0.1529 - mean_absolute_error: 0.1529 - val_loss: 0.1514 - val_mean_absolute_error: 0.1514\n",
      "Epoch 30/50\n",
      "479073/479073 [==============================] - 29s 61us/step - loss: 0.1528 - mean_absolute_error: 0.1528 - val_loss: 0.1528 - val_mean_absolute_error: 0.1528\n",
      "Epoch 31/50\n",
      "479073/479073 [==============================] - 30s 63us/step - loss: 0.1527 - mean_absolute_error: 0.1527 - val_loss: 0.1515 - val_mean_absolute_error: 0.1515\n",
      "Epoch 32/50\n",
      "479073/479073 [==============================] - 29s 61us/step - loss: 0.1527 - mean_absolute_error: 0.1527 - val_loss: 0.1519 - val_mean_absolute_error: 0.1519\n",
      "Epoch 33/50\n",
      "479073/479073 [==============================] - 30s 63us/step - loss: 0.1525 - mean_absolute_error: 0.1525 - val_loss: 0.1526 - val_mean_absolute_error: 0.1526\n",
      "Epoch 34/50\n",
      "479073/479073 [==============================] - 31s 66us/step - loss: 0.1524 - mean_absolute_error: 0.1524 - val_loss: 0.1515 - val_mean_absolute_error: 0.1515\n",
      "Epoch 35/50\n",
      "479073/479073 [==============================] - 30s 62us/step - loss: 0.1523 - mean_absolute_error: 0.1523 - val_loss: 0.1521 - val_mean_absolute_error: 0.1521\n",
      "Epoch 36/50\n",
      "479073/479073 [==============================] - 30s 63us/step - loss: 0.1522 - mean_absolute_error: 0.1522 - val_loss: 0.1527 - val_mean_absolute_error: 0.1527\n",
      "Epoch 37/50\n",
      "479073/479073 [==============================] - 30s 63us/step - loss: 0.1521 - mean_absolute_error: 0.1521 - val_loss: 0.1525 - val_mean_absolute_error: 0.1525\n",
      "Epoch 38/50\n",
      "479073/479073 [==============================] - 30s 63us/step - loss: 0.1518 - mean_absolute_error: 0.1518 - val_loss: 0.1512 - val_mean_absolute_error: 0.1512\n",
      "Epoch 39/50\n",
      "479073/479073 [==============================] - 31s 64us/step - loss: 0.1516 - mean_absolute_error: 0.1516 - val_loss: 0.1563 - val_mean_absolute_error: 0.1563\n",
      "Epoch 40/50\n",
      "479073/479073 [==============================] - 32s 66us/step - loss: 0.1514 - mean_absolute_error: 0.1514 - val_loss: 0.1515 - val_mean_absolute_error: 0.1515\n",
      "Epoch 41/50\n",
      "479073/479073 [==============================] - 34s 71us/step - loss: 0.1511 - mean_absolute_error: 0.1511 - val_loss: 0.1510 - val_mean_absolute_error: 0.1510\n",
      "Epoch 42/50\n",
      "479073/479073 [==============================] - 33s 69us/step - loss: 0.1510 - mean_absolute_error: 0.1510 - val_loss: 0.1512 - val_mean_absolute_error: 0.1512\n",
      "Epoch 43/50\n",
      "479073/479073 [==============================] - 33s 70us/step - loss: 0.1508 - mean_absolute_error: 0.1508 - val_loss: 0.1512 - val_mean_absolute_error: 0.1512\n",
      "Epoch 44/50\n",
      "479073/479073 [==============================] - 29s 61us/step - loss: 0.1507 - mean_absolute_error: 0.1507 - val_loss: 0.1502 - val_mean_absolute_error: 0.1502\n",
      "Epoch 45/50\n",
      "479073/479073 [==============================] - 31s 65us/step - loss: 0.1506 - mean_absolute_error: 0.1506 - val_loss: 0.1516 - val_mean_absolute_error: 0.1516\n",
      "Epoch 46/50\n",
      "479073/479073 [==============================] - 30s 63us/step - loss: 0.1506 - mean_absolute_error: 0.1506 - val_loss: 0.1518 - val_mean_absolute_error: 0.1518\n",
      "Epoch 47/50\n",
      "479073/479073 [==============================] - 31s 64us/step - loss: 0.1505 - mean_absolute_error: 0.1505 - val_loss: 0.1499 - val_mean_absolute_error: 0.1499\n",
      "Epoch 48/50\n",
      "479073/479073 [==============================] - 28s 58us/step - loss: 0.1504 - mean_absolute_error: 0.1504 - val_loss: 0.1491 - val_mean_absolute_error: 0.1491\n",
      "Epoch 49/50\n",
      "479073/479073 [==============================] - 30s 63us/step - loss: 0.1505 - mean_absolute_error: 0.1505 - val_loss: 0.1510 - val_mean_absolute_error: 0.1510\n",
      "Epoch 50/50\n",
      "479073/479073 [==============================] - 29s 60us/step - loss: 0.1504 - mean_absolute_error: 0.1504 - val_loss: 0.1493 - val_mean_absolute_error: 0.1493\n"
     ]
    },
    {
     "data": {
      "text/plain": [
       "<keras.callbacks.callbacks.History at 0x291e0831408>"
      ]
     },
     "execution_count": 127,
     "metadata": {},
     "output_type": "execute_result"
    }
   ],
   "source": [
    "model.fit(train_X, train_y, epochs=50, batch_size=32, validation_split = 0.2)"
   ]
  },
  {
   "cell_type": "code",
   "execution_count": 128,
   "metadata": {},
   "outputs": [],
   "source": [
    "y_pred_ANN = model.predict(test_X)"
   ]
  },
  {
   "cell_type": "code",
   "execution_count": 129,
   "metadata": {},
   "outputs": [
    {
     "data": {
      "text/plain": [
       "array([[ 0.4847507 ,  0.32631695],\n",
       "       [-0.39746767, -1.0405817 ],\n",
       "       [-0.842141  , -0.589926  ],\n",
       "       ...,\n",
       "       [ 0.1631659 , -0.4016819 ],\n",
       "       [-1.6596086 , -1.6139383 ],\n",
       "       [ 0.6743095 ,  0.9138068 ]], dtype=float32)"
      ]
     },
     "execution_count": 129,
     "metadata": {},
     "output_type": "execute_result"
    }
   ],
   "source": [
    "y_pred_ANN"
   ]
  },
  {
   "cell_type": "code",
   "execution_count": 130,
   "metadata": {},
   "outputs": [
    {
     "data": {
      "text/plain": [
       "0.07155238431470723"
      ]
     },
     "execution_count": 130,
     "metadata": {},
     "output_type": "execute_result"
    }
   ],
   "source": [
    "mean_squared_error(test_y , y_pred_ANN)"
   ]
  },
  {
   "cell_type": "code",
   "execution_count": 131,
   "metadata": {},
   "outputs": [
    {
     "data": {
      "text/plain": [
       "0.9284868810388249"
      ]
     },
     "execution_count": 131,
     "metadata": {},
     "output_type": "execute_result"
    }
   ],
   "source": [
    "from sklearn.metrics import r2_score\n",
    "r2_score(test_y, y_pred_ANN)"
   ]
  },
  {
   "cell_type": "code",
   "execution_count": 132,
   "metadata": {},
   "outputs": [
    {
     "data": {
      "image/png": "[encoded data removed]",
      "text/plain": [
       "<Figure size 432x288 with 1 Axes>"
      ]
     },
     "metadata": {
      "needs_background": "light"
     },
     "output_type": "display_data"
    }
   ],
   "source": [
    "fig, ax = plt.subplots()\n",
    "ax.scatter(test_y, y_pred_ANN)\n",
    "ax.plot([test_y.min(), test_y.max()], [test_y.min(), test_y.max()], 'k--', lw=4)\n",
    "ax.set_xlabel('Measured')\n",
    "ax.set_ylabel('Predicted')\n",
    "plt.show()"
   ]
  },
  {
   "cell_type": "code",
   "execution_count": 133,
   "metadata": {},
   "outputs": [],
   "source": [
    "model = Sequential()\n",
    "model.add(Dense(12, input_dim=11, activation='relu'))\n",
    "model.add(Dense(12, activation='relu'))\n",
    "model.add(Dense(12, activation='relu'))\n",
    "model.add(Dense(12, activation='relu'))\n",
    "model.add(Dense(12, activation='relu'))\n",
    "model.add(Dense(12, activation='relu'))\n",
    "model.add(Dense(12, activation='relu'))\n",
    "model.add(Dense(12, activation='relu'))\n",
    "model.add(Dense(12, activation='relu'))\n",
    "model.add(Dense(2, activation='linear'))"
   ]
  },
  {
   "cell_type": "code",
   "execution_count": 134,
   "metadata": {},
   "outputs": [
    {
     "name": "stdout",
     "output_type": "stream",
     "text": [
      "Model: \"sequential_4\"\n",
      "_________________________________________________________________\n",
      "Layer (type)                 Output Shape              Param #   \n",
      "=================================================================\n",
      "dense_10 (Dense)             (None, 12)                144       \n",
      "_________________________________________________________________\n",
      "dense_11 (Dense)             (None, 12)                156       \n",
      "_________________________________________________________________\n",
      "dense_12 (Dense)             (None, 12)                156       \n",
      "_________________________________________________________________\n",
      "dense_13 (Dense)             (None, 12)                156       \n",
      "_________________________________________________________________\n",
      "dense_14 (Dense)             (None, 12)                156       \n",
      "_________________________________________________________________\n",
      "dense_15 (Dense)             (None, 12)                156       \n",
      "_________________________________________________________________\n",
      "dense_16 (Dense)             (None, 12)                156       \n",
      "_________________________________________________________________\n",
      "dense_17 (Dense)             (None, 12)                156       \n",
      "_________________________________________________________________\n",
      "dense_18 (Dense)             (None, 12)                156       \n",
      "_________________________________________________________________\n",
      "dense_19 (Dense)             (None, 2)                 26        \n",
      "=================================================================\n",
      "Total params: 1,418\n",
      "Trainable params: 1,418\n",
      "Non-trainable params: 0\n",
      "_________________________________________________________________\n"
     ]
    }
   ],
   "source": [
    "model.compile(loss='mean_absolute_error', optimizer='adam', metrics=['mean_absolute_error','accuracy'])\n",
    "model.summary()"
   ]
  },
  {
   "cell_type": "code",
   "execution_count": 135,
   "metadata": {},
   "outputs": [
    {
     "name": "stdout",
     "output_type": "stream",
     "text": [
      "Train on 479073 samples, validate on 119769 samples\n",
      "Epoch 1/150\n",
      "479073/479073 [==============================] - 16s 33us/step - loss: 0.2334 - mean_absolute_error: 0.2334 - accuracy: 0.7584 - val_loss: 0.1845 - val_mean_absolute_error: 0.1845 - val_accuracy: 0.8027\n",
      "Epoch 2/150\n",
      "479073/479073 [==============================] - 16s 33us/step - loss: 0.1757 - mean_absolute_error: 0.1757 - accuracy: 0.8113 - val_loss: 0.1676 - val_mean_absolute_error: 0.1676 - val_accuracy: 0.8157\n",
      "Epoch 3/150\n",
      "479073/479073 [==============================] - 16s 34us/step - loss: 0.1649 - mean_absolute_error: 0.1649 - accuracy: 0.8295 - val_loss: 0.1580 - val_mean_absolute_error: 0.1580 - val_accuracy: 0.8402\n",
      "Epoch 4/150\n",
      "479073/479073 [==============================] - 20s 41us/step - loss: 0.1589 - mean_absolute_error: 0.1589 - accuracy: 0.8397 - val_loss: 0.1552 - val_mean_absolute_error: 0.1552 - val_accuracy: 0.8448\n",
      "Epoch 5/150\n",
      "479073/479073 [==============================] - 18s 37us/step - loss: 0.1548 - mean_absolute_error: 0.1548 - accuracy: 0.8444 - val_loss: 0.1522 - val_mean_absolute_error: 0.1522 - val_accuracy: 0.8506\n",
      "Epoch 6/150\n",
      "479073/479073 [==============================] - 18s 37us/step - loss: 0.1515 - mean_absolute_error: 0.1515 - accuracy: 0.8474 - val_loss: 0.1470 - val_mean_absolute_error: 0.1470 - val_accuracy: 0.8490\n",
      "Epoch 7/150\n",
      "479073/479073 [==============================] - 17s 36us/step - loss: 0.1489 - mean_absolute_error: 0.1489 - accuracy: 0.8501 - val_loss: 0.1483 - val_mean_absolute_error: 0.1483 - val_accuracy: 0.8523\n",
      "Epoch 8/150\n",
      "479073/479073 [==============================] - 14s 29us/step - loss: 0.1469 - mean_absolute_error: 0.1469 - accuracy: 0.8532 - val_loss: 0.1467 - val_mean_absolute_error: 0.1467 - val_accuracy: 0.8561\n",
      "Epoch 9/150\n",
      "479073/479073 [==============================] - 14s 29us/step - loss: 0.1446 - mean_absolute_error: 0.1446 - accuracy: 0.8568 - val_loss: 0.1438 - val_mean_absolute_error: 0.1438 - val_accuracy: 0.8578\n",
      "Epoch 10/150\n",
      "479073/479073 [==============================] - 14s 28us/step - loss: 0.1433 - mean_absolute_error: 0.1433 - accuracy: 0.8577 - val_loss: 0.1415 - val_mean_absolute_error: 0.1415 - val_accuracy: 0.8590\n",
      "Epoch 11/150\n",
      "479073/479073 [==============================] - 15s 31us/step - loss: 0.1421 - mean_absolute_error: 0.1421 - accuracy: 0.8592 - val_loss: 0.1399 - val_mean_absolute_error: 0.1399 - val_accuracy: 0.8584\n",
      "Epoch 12/150\n",
      "479073/479073 [==============================] - 15s 30us/step - loss: 0.1407 - mean_absolute_error: 0.1407 - accuracy: 0.8604 - val_loss: 0.1480 - val_mean_absolute_error: 0.1480 - val_accuracy: 0.8508\n",
      "Epoch 13/150\n",
      "479073/479073 [==============================] - 15s 30us/step - loss: 0.1392 - mean_absolute_error: 0.1392 - accuracy: 0.8628 - val_loss: 0.1402 - val_mean_absolute_error: 0.1402 - val_accuracy: 0.8601\n",
      "Epoch 14/150\n",
      "479073/479073 [==============================] - 15s 31us/step - loss: 0.1380 - mean_absolute_error: 0.1380 - accuracy: 0.8640 - val_loss: 0.1387 - val_mean_absolute_error: 0.1387 - val_accuracy: 0.8600\n",
      "Epoch 15/150\n",
      "479073/479073 [==============================] - 16s 33us/step - loss: 0.1372 - mean_absolute_error: 0.1372 - accuracy: 0.8647 - val_loss: 0.1365 - val_mean_absolute_error: 0.1365 - val_accuracy: 0.8657\n",
      "Epoch 16/150\n",
      "479073/479073 [==============================] - 15s 30us/step - loss: 0.1365 - mean_absolute_error: 0.1365 - accuracy: 0.8661 - val_loss: 0.1355 - val_mean_absolute_error: 0.1355 - val_accuracy: 0.8642\n",
      "Epoch 17/150\n",
      "479073/479073 [==============================] - 15s 32us/step - loss: 0.1361 - mean_absolute_error: 0.1361 - accuracy: 0.8658 - val_loss: 0.1384 - val_mean_absolute_error: 0.1384 - val_accuracy: 0.8631\n",
      "Epoch 18/150\n",
      "479073/479073 [==============================] - 16s 33us/step - loss: 0.1354 - mean_absolute_error: 0.1354 - accuracy: 0.8662 - val_loss: 0.1353 - val_mean_absolute_error: 0.1353 - val_accuracy: 0.8646\n",
      "Epoch 19/150\n",
      "479073/479073 [==============================] - 16s 33us/step - loss: 0.1349 - mean_absolute_error: 0.1349 - accuracy: 0.8678 - val_loss: 0.1340 - val_mean_absolute_error: 0.1340 - val_accuracy: 0.8709\n",
      "Epoch 20/150\n",
      "479073/479073 [==============================] - 15s 31us/step - loss: 0.1346 - mean_absolute_error: 0.1346 - accuracy: 0.8673 - val_loss: 0.1362 - val_mean_absolute_error: 0.1362 - val_accuracy: 0.8672\n",
      "Epoch 21/150\n",
      "479073/479073 [==============================] - 14s 29us/step - loss: 0.1343 - mean_absolute_error: 0.1343 - accuracy: 0.8684 - val_loss: 0.1376 - val_mean_absolute_error: 0.1376 - val_accuracy: 0.8625\n",
      "Epoch 22/150\n",
      "479073/479073 [==============================] - 14s 29us/step - loss: 0.1337 - mean_absolute_error: 0.1337 - accuracy: 0.8696 - val_loss: 0.1319 - val_mean_absolute_error: 0.1319 - val_accuracy: 0.8752\n",
      "Epoch 23/150\n",
      "479073/479073 [==============================] - 14s 29us/step - loss: 0.1335 - mean_absolute_error: 0.1335 - accuracy: 0.8693 - val_loss: 0.1322 - val_mean_absolute_error: 0.1322 - val_accuracy: 0.8733\n",
      "Epoch 24/150\n",
      "479073/479073 [==============================] - 15s 32us/step - loss: 0.1329 - mean_absolute_error: 0.1329 - accuracy: 0.8699 - val_loss: 0.1330 - val_mean_absolute_error: 0.1330 - val_accuracy: 0.8717\n",
      "Epoch 25/150\n",
      "479073/479073 [==============================] - 14s 29us/step - loss: 0.1325 - mean_absolute_error: 0.1325 - accuracy: 0.8710 - val_loss: 0.1308 - val_mean_absolute_error: 0.1308 - val_accuracy: 0.8705\n",
      "Epoch 26/150\n",
      "479073/479073 [==============================] - 14s 29us/step - loss: 0.1321 - mean_absolute_error: 0.1321 - accuracy: 0.8706 - val_loss: 0.1328 - val_mean_absolute_error: 0.1328 - val_accuracy: 0.8770\n",
      "Epoch 27/150\n",
      "479073/479073 [==============================] - 15s 31us/step - loss: 0.1317 - mean_absolute_error: 0.1317 - accuracy: 0.8712 - val_loss: 0.1309 - val_mean_absolute_error: 0.1309 - val_accuracy: 0.8693\n",
      "Epoch 28/150\n",
      "479073/479073 [==============================] - 14s 30us/step - loss: 0.1314 - mean_absolute_error: 0.1314 - accuracy: 0.8718 - val_loss: 0.1333 - val_mean_absolute_error: 0.1333 - val_accuracy: 0.8700\n",
      "Epoch 29/150\n",
      "479073/479073 [==============================] - 14s 28us/step - loss: 0.1313 - mean_absolute_error: 0.1313 - accuracy: 0.8710 - val_loss: 0.1340 - val_mean_absolute_error: 0.1340 - val_accuracy: 0.8686\n",
      "Epoch 30/150\n",
      "479073/479073 [==============================] - 14s 29us/step - loss: 0.1310 - mean_absolute_error: 0.1310 - accuracy: 0.8716 - val_loss: 0.1294 - val_mean_absolute_error: 0.1294 - val_accuracy: 0.8728\n",
      "Epoch 31/150\n",
      "479073/479073 [==============================] - 14s 30us/step - loss: 0.1306 - mean_absolute_error: 0.1306 - accuracy: 0.8715 - val_loss: 0.1278 - val_mean_absolute_error: 0.1278 - val_accuracy: 0.8752\n",
      "Epoch 32/150\n",
      "479073/479073 [==============================] - 14s 30us/step - loss: 0.1303 - mean_absolute_error: 0.1303 - accuracy: 0.8718 - val_loss: 0.1286 - val_mean_absolute_error: 0.1286 - val_accuracy: 0.8743\n",
      "Epoch 33/150\n",
      "479073/479073 [==============================] - 14s 29us/step - loss: 0.1302 - mean_absolute_error: 0.1302 - accuracy: 0.8718 - val_loss: 0.1298 - val_mean_absolute_error: 0.1298 - val_accuracy: 0.8705\n",
      "Epoch 34/150\n",
      "479073/479073 [==============================] - 14s 30us/step - loss: 0.1299 - mean_absolute_error: 0.1299 - accuracy: 0.8716 - val_loss: 0.1300 - val_mean_absolute_error: 0.1300 - val_accuracy: 0.8737\n",
      "Epoch 35/150\n",
      "479073/479073 [==============================] - 16s 33us/step - loss: 0.1297 - mean_absolute_error: 0.1297 - accuracy: 0.8713 - val_loss: 0.1292 - val_mean_absolute_error: 0.1292 - val_accuracy: 0.8704\n",
      "Epoch 36/150\n",
      "479073/479073 [==============================] - 15s 32us/step - loss: 0.1296 - mean_absolute_error: 0.1296 - accuracy: 0.8720 - val_loss: 0.1277 - val_mean_absolute_error: 0.1277 - val_accuracy: 0.8732\n",
      "Epoch 37/150\n",
      "479073/479073 [==============================] - 15s 31us/step - loss: 0.1293 - mean_absolute_error: 0.1293 - accuracy: 0.8723 - val_loss: 0.1299 - val_mean_absolute_error: 0.1299 - val_accuracy: 0.8671\n",
      "Epoch 38/150\n",
      "479073/479073 [==============================] - 15s 31us/step - loss: 0.1291 - mean_absolute_error: 0.1291 - accuracy: 0.8718 - val_loss: 0.1310 - val_mean_absolute_error: 0.1310 - val_accuracy: 0.8675\n"
     ]
    },
    {
     "name": "stdout",
     "output_type": "stream",
     "text": [
      "Epoch 39/150\n",
      "479073/479073 [==============================] - 15s 31us/step - loss: 0.1288 - mean_absolute_error: 0.1288 - accuracy: 0.8725 - val_loss: 0.1295 - val_mean_absolute_error: 0.1295 - val_accuracy: 0.8743\n",
      "Epoch 40/150\n",
      "479073/479073 [==============================] - 15s 32us/step - loss: 0.1285 - mean_absolute_error: 0.1285 - accuracy: 0.8729 - val_loss: 0.1266 - val_mean_absolute_error: 0.1266 - val_accuracy: 0.8768\n",
      "Epoch 41/150\n",
      "479073/479073 [==============================] - 15s 32us/step - loss: 0.1282 - mean_absolute_error: 0.1282 - accuracy: 0.8728 - val_loss: 0.1264 - val_mean_absolute_error: 0.1264 - val_accuracy: 0.8740\n",
      "Epoch 42/150\n",
      "479073/479073 [==============================] - 15s 31us/step - loss: 0.1280 - mean_absolute_error: 0.1280 - accuracy: 0.8732 - val_loss: 0.1272 - val_mean_absolute_error: 0.1272 - val_accuracy: 0.8681\n",
      "Epoch 43/150\n",
      "479073/479073 [==============================] - 15s 32us/step - loss: 0.1278 - mean_absolute_error: 0.1278 - accuracy: 0.8734 - val_loss: 0.1254 - val_mean_absolute_error: 0.1254 - val_accuracy: 0.8780\n",
      "Epoch 44/150\n",
      "479073/479073 [==============================] - 15s 32us/step - loss: 0.1276 - mean_absolute_error: 0.1276 - accuracy: 0.8735 - val_loss: 0.1289 - val_mean_absolute_error: 0.1289 - val_accuracy: 0.8708\n",
      "Epoch 45/150\n",
      "479073/479073 [==============================] - 15s 32us/step - loss: 0.1274 - mean_absolute_error: 0.1274 - accuracy: 0.8732 - val_loss: 0.1308 - val_mean_absolute_error: 0.1308 - val_accuracy: 0.8749\n",
      "Epoch 46/150\n",
      "479073/479073 [==============================] - 14s 30us/step - loss: 0.1269 - mean_absolute_error: 0.1269 - accuracy: 0.8733 - val_loss: 0.1325 - val_mean_absolute_error: 0.1325 - val_accuracy: 0.8638\n",
      "Epoch 47/150\n",
      "479073/479073 [==============================] - 16s 34us/step - loss: 0.1269 - mean_absolute_error: 0.1269 - accuracy: 0.8730 - val_loss: 0.1249 - val_mean_absolute_error: 0.1249 - val_accuracy: 0.8789\n",
      "Epoch 48/150\n",
      "479073/479073 [==============================] - 17s 35us/step - loss: 0.1267 - mean_absolute_error: 0.1267 - accuracy: 0.8734 - val_loss: 0.1264 - val_mean_absolute_error: 0.1264 - val_accuracy: 0.8693\n",
      "Epoch 49/150\n",
      "479073/479073 [==============================] - 16s 33us/step - loss: 0.1264 - mean_absolute_error: 0.1264 - accuracy: 0.8734 - val_loss: 0.1253 - val_mean_absolute_error: 0.1253 - val_accuracy: 0.8717\n",
      "Epoch 50/150\n",
      "479073/479073 [==============================] - 16s 32us/step - loss: 0.1263 - mean_absolute_error: 0.1263 - accuracy: 0.8730 - val_loss: 0.1278 - val_mean_absolute_error: 0.1278 - val_accuracy: 0.8671\n",
      "Epoch 51/150\n",
      "479073/479073 [==============================] - 16s 34us/step - loss: 0.1261 - mean_absolute_error: 0.1261 - accuracy: 0.8727 - val_loss: 0.1255 - val_mean_absolute_error: 0.1255 - val_accuracy: 0.8749\n",
      "Epoch 52/150\n",
      "479073/479073 [==============================] - 16s 33us/step - loss: 0.1260 - mean_absolute_error: 0.1260 - accuracy: 0.8735 - val_loss: 0.1243 - val_mean_absolute_error: 0.1243 - val_accuracy: 0.8707\n",
      "Epoch 53/150\n",
      "479073/479073 [==============================] - 16s 33us/step - loss: 0.1259 - mean_absolute_error: 0.1259 - accuracy: 0.8730 - val_loss: 0.1237 - val_mean_absolute_error: 0.1237 - val_accuracy: 0.8745\n",
      "Epoch 54/150\n",
      "479073/479073 [==============================] - 17s 35us/step - loss: 0.1256 - mean_absolute_error: 0.1256 - accuracy: 0.8729 - val_loss: 0.1277 - val_mean_absolute_error: 0.1277 - val_accuracy: 0.8761\n",
      "Epoch 55/150\n",
      "479073/479073 [==============================] - 17s 36us/step - loss: 0.1255 - mean_absolute_error: 0.1255 - accuracy: 0.8731 - val_loss: 0.1275 - val_mean_absolute_error: 0.1275 - val_accuracy: 0.8672\n",
      "Epoch 56/150\n",
      "479073/479073 [==============================] - 16s 34us/step - loss: 0.1251 - mean_absolute_error: 0.1251 - accuracy: 0.8737 - val_loss: 0.1237 - val_mean_absolute_error: 0.1237 - val_accuracy: 0.8752\n",
      "Epoch 57/150\n",
      "479073/479073 [==============================] - 16s 34us/step - loss: 0.1253 - mean_absolute_error: 0.1253 - accuracy: 0.8738 - val_loss: 0.1246 - val_mean_absolute_error: 0.1246 - val_accuracy: 0.8712\n",
      "Epoch 58/150\n",
      "479073/479073 [==============================] - 17s 35us/step - loss: 0.1251 - mean_absolute_error: 0.1251 - accuracy: 0.8737 - val_loss: 0.1225 - val_mean_absolute_error: 0.1225 - val_accuracy: 0.8744\n",
      "Epoch 59/150\n",
      "479073/479073 [==============================] - 17s 36us/step - loss: 0.1252 - mean_absolute_error: 0.1252 - accuracy: 0.8732 - val_loss: 0.1249 - val_mean_absolute_error: 0.1249 - val_accuracy: 0.8742\n",
      "Epoch 60/150\n",
      "479073/479073 [==============================] - 17s 36us/step - loss: 0.1250 - mean_absolute_error: 0.1250 - accuracy: 0.8735 - val_loss: 0.1260 - val_mean_absolute_error: 0.1260 - val_accuracy: 0.8744\n",
      "Epoch 61/150\n",
      "479073/479073 [==============================] - 16s 33us/step - loss: 0.1248 - mean_absolute_error: 0.1248 - accuracy: 0.8738 - val_loss: 0.1260 - val_mean_absolute_error: 0.1260 - val_accuracy: 0.8717\n",
      "Epoch 62/150\n",
      "479073/479073 [==============================] - 18s 37us/step - loss: 0.1247 - mean_absolute_error: 0.1247 - accuracy: 0.8735 - val_loss: 0.1246 - val_mean_absolute_error: 0.1246 - val_accuracy: 0.8767\n",
      "Epoch 63/150\n",
      "479073/479073 [==============================] - 17s 35us/step - loss: 0.1248 - mean_absolute_error: 0.1248 - accuracy: 0.8733 - val_loss: 0.1266 - val_mean_absolute_error: 0.1266 - val_accuracy: 0.8719\n",
      "Epoch 64/150\n",
      "479073/479073 [==============================] - 15s 31us/step - loss: 0.1246 - mean_absolute_error: 0.1246 - accuracy: 0.8733 - val_loss: 0.1254 - val_mean_absolute_error: 0.1254 - val_accuracy: 0.8729\n",
      "Epoch 65/150\n",
      "479073/479073 [==============================] - 15s 32us/step - loss: 0.1245 - mean_absolute_error: 0.1245 - accuracy: 0.8737 - val_loss: 0.1270 - val_mean_absolute_error: 0.1270 - val_accuracy: 0.8714\n",
      "Epoch 66/150\n",
      "479073/479073 [==============================] - 18s 37us/step - loss: 0.1246 - mean_absolute_error: 0.1246 - accuracy: 0.8737 - val_loss: 0.1211 - val_mean_absolute_error: 0.1211 - val_accuracy: 0.8756\n",
      "Epoch 67/150\n",
      "479073/479073 [==============================] - 16s 32us/step - loss: 0.1244 - mean_absolute_error: 0.1244 - accuracy: 0.8738 - val_loss: 0.1226 - val_mean_absolute_error: 0.1226 - val_accuracy: 0.8708\n",
      "Epoch 68/150\n",
      "479073/479073 [==============================] - 19s 40us/step - loss: 0.1243 - mean_absolute_error: 0.1243 - accuracy: 0.8740 - val_loss: 0.1251 - val_mean_absolute_error: 0.1251 - val_accuracy: 0.8735\n",
      "Epoch 69/150\n",
      "479073/479073 [==============================] - 16s 32us/step - loss: 0.1240 - mean_absolute_error: 0.1240 - accuracy: 0.8742 - val_loss: 0.1263 - val_mean_absolute_error: 0.1263 - val_accuracy: 0.8689\n",
      "Epoch 70/150\n",
      "479073/479073 [==============================] - 14s 29us/step - loss: 0.1241 - mean_absolute_error: 0.1241 - accuracy: 0.8739 - val_loss: 0.1228 - val_mean_absolute_error: 0.1228 - val_accuracy: 0.8769\n",
      "Epoch 71/150\n",
      "479073/479073 [==============================] - 14s 30us/step - loss: 0.1238 - mean_absolute_error: 0.1238 - accuracy: 0.8743 - val_loss: 0.1290 - val_mean_absolute_error: 0.1290 - val_accuracy: 0.8658\n",
      "Epoch 72/150\n",
      "479073/479073 [==============================] - 14s 28us/step - loss: 0.1240 - mean_absolute_error: 0.1240 - accuracy: 0.8740 - val_loss: 0.1259 - val_mean_absolute_error: 0.1259 - val_accuracy: 0.8718\n",
      "Epoch 73/150\n",
      "479073/479073 [==============================] - 15s 30us/step - loss: 0.1238 - mean_absolute_error: 0.1238 - accuracy: 0.8740 - val_loss: 0.1222 - val_mean_absolute_error: 0.1222 - val_accuracy: 0.8772\n",
      "Epoch 74/150\n",
      "479073/479073 [==============================] - 14s 29us/step - loss: 0.1237 - mean_absolute_error: 0.1237 - accuracy: 0.8740 - val_loss: 0.1221 - val_mean_absolute_error: 0.1221 - val_accuracy: 0.8756\n",
      "Epoch 75/150\n",
      "479073/479073 [==============================] - 14s 28us/step - loss: 0.1234 - mean_absolute_error: 0.1234 - accuracy: 0.8746 - val_loss: 0.1228 - val_mean_absolute_error: 0.1228 - val_accuracy: 0.8768\n",
      "Epoch 76/150\n",
      "479073/479073 [==============================] - 14s 28us/step - loss: 0.1234 - mean_absolute_error: 0.1234 - accuracy: 0.8745 - val_loss: 0.1225 - val_mean_absolute_error: 0.1225 - val_accuracy: 0.8757\n",
      "Epoch 77/150\n",
      "479073/479073 [==============================] - 15s 31us/step - loss: 0.1233 - mean_absolute_error: 0.1233 - accuracy: 0.8745 - val_loss: 0.1248 - val_mean_absolute_error: 0.1248 - val_accuracy: 0.8726\n",
      "Epoch 78/150\n",
      "479073/479073 [==============================] - 16s 33us/step - loss: 0.1235 - mean_absolute_error: 0.1235 - accuracy: 0.8743 - val_loss: 0.1269 - val_mean_absolute_error: 0.1269 - val_accuracy: 0.8742\n",
      "Epoch 79/150\n",
      "479073/479073 [==============================] - 14s 29us/step - loss: 0.1230 - mean_absolute_error: 0.1230 - accuracy: 0.8749 - val_loss: 0.1242 - val_mean_absolute_error: 0.1242 - val_accuracy: 0.8733\n",
      "Epoch 80/150\n",
      "479073/479073 [==============================] - 14s 28us/step - loss: 0.1231 - mean_absolute_error: 0.1231 - accuracy: 0.8742 - val_loss: 0.1232 - val_mean_absolute_error: 0.1232 - val_accuracy: 0.8764\n",
      "Epoch 81/150\n",
      "479073/479073 [==============================] - 14s 29us/step - loss: 0.1229 - mean_absolute_error: 0.1229 - accuracy: 0.8747 - val_loss: 0.1236 - val_mean_absolute_error: 0.1236 - val_accuracy: 0.8739\n",
      "Epoch 82/150\n",
      "479073/479073 [==============================] - 14s 29us/step - loss: 0.1230 - mean_absolute_error: 0.1230 - accuracy: 0.8740 - val_loss: 0.1213 - val_mean_absolute_error: 0.1213 - val_accuracy: 0.8763\n",
      "Epoch 83/150\n",
      "479073/479073 [==============================] - 14s 29us/step - loss: 0.1227 - mean_absolute_error: 0.1227 - accuracy: 0.8745 - val_loss: 0.1215 - val_mean_absolute_error: 0.1215 - val_accuracy: 0.8761\n",
      "Epoch 84/150\n",
      "479073/479073 [==============================] - 14s 30us/step - loss: 0.1227 - mean_absolute_error: 0.1227 - accuracy: 0.8748 - val_loss: 0.1276 - val_mean_absolute_error: 0.1276 - val_accuracy: 0.8666\n",
      "Epoch 85/150\n",
      "479073/479073 [==============================] - 13s 28us/step - loss: 0.1226 - mean_absolute_error: 0.1226 - accuracy: 0.8744 - val_loss: 0.1236 - val_mean_absolute_error: 0.1236 - val_accuracy: 0.8709\n",
      "Epoch 86/150\n",
      "479073/479073 [==============================] - 14s 29us/step - loss: 0.1227 - mean_absolute_error: 0.1227 - accuracy: 0.8742 - val_loss: 0.1230 - val_mean_absolute_error: 0.1230 - val_accuracy: 0.8705\n",
      "Epoch 87/150\n",
      "479073/479073 [==============================] - 15s 30us/step - loss: 0.1227 - mean_absolute_error: 0.1227 - accuracy: 0.8746 - val_loss: 0.1216 - val_mean_absolute_error: 0.1216 - val_accuracy: 0.8731\n",
      "Epoch 88/150\n",
      "479073/479073 [==============================] - 15s 32us/step - loss: 0.1224 - mean_absolute_error: 0.1224 - accuracy: 0.8752 - val_loss: 0.1247 - val_mean_absolute_error: 0.1247 - val_accuracy: 0.8730\n",
      "Epoch 89/150\n",
      "479073/479073 [==============================] - 16s 33us/step - loss: 0.1224 - mean_absolute_error: 0.1224 - accuracy: 0.8745 - val_loss: 0.1237 - val_mean_absolute_error: 0.1237 - val_accuracy: 0.8734\n",
      "Epoch 90/150\n",
      "479073/479073 [==============================] - 14s 29us/step - loss: 0.1222 - mean_absolute_error: 0.1222 - accuracy: 0.8745 - val_loss: 0.1204 - val_mean_absolute_error: 0.1204 - val_accuracy: 0.8781\n",
      "Epoch 91/150\n",
      "479073/479073 [==============================] - 13s 28us/step - loss: 0.1221 - mean_absolute_error: 0.1221 - accuracy: 0.8746 - val_loss: 0.1222 - val_mean_absolute_error: 0.1222 - val_accuracy: 0.8766\n",
      "Epoch 92/150\n",
      "479073/479073 [==============================] - 14s 29us/step - loss: 0.1221 - mean_absolute_error: 0.1221 - accuracy: 0.8749 - val_loss: 0.1223 - val_mean_absolute_error: 0.1223 - val_accuracy: 0.8743\n",
      "Epoch 93/150\n",
      "479073/479073 [==============================] - 13s 28us/step - loss: 0.1221 - mean_absolute_error: 0.1221 - accuracy: 0.8753 - val_loss: 0.1214 - val_mean_absolute_error: 0.1214 - val_accuracy: 0.8772\n",
      "Epoch 94/150\n",
      "479073/479073 [==============================] - 15s 31us/step - loss: 0.1222 - mean_absolute_error: 0.1222 - accuracy: 0.8751 - val_loss: 0.1213 - val_mean_absolute_error: 0.1213 - val_accuracy: 0.8764\n",
      "Epoch 95/150\n",
      "479073/479073 [==============================] - 16s 33us/step - loss: 0.1221 - mean_absolute_error: 0.1221 - accuracy: 0.8753 - val_loss: 0.1254 - val_mean_absolute_error: 0.1254 - val_accuracy: 0.8727\n",
      "Epoch 96/150\n",
      "479073/479073 [==============================] - 17s 36us/step - loss: 0.1219 - mean_absolute_error: 0.1219 - accuracy: 0.8751 - val_loss: 0.1209 - val_mean_absolute_error: 0.1209 - val_accuracy: 0.8755\n",
      "Epoch 97/150\n",
      "479073/479073 [==============================] - 16s 34us/step - loss: 0.1219 - mean_absolute_error: 0.1219 - accuracy: 0.8757 - val_loss: 0.1228 - val_mean_absolute_error: 0.1228 - val_accuracy: 0.8752\n",
      "Epoch 98/150\n",
      "479073/479073 [==============================] - 19s 39us/step - loss: 0.1218 - mean_absolute_error: 0.1218 - accuracy: 0.8758 - val_loss: 0.1217 - val_mean_absolute_error: 0.1217 - val_accuracy: 0.8789\n",
      "Epoch 99/150\n",
      "479073/479073 [==============================] - 17s 35us/step - loss: 0.1216 - mean_absolute_error: 0.1216 - accuracy: 0.8756 - val_loss: 0.1217 - val_mean_absolute_error: 0.1217 - val_accuracy: 0.8720\n",
      "Epoch 100/150\n",
      "479073/479073 [==============================] - 15s 32us/step - loss: 0.1217 - mean_absolute_error: 0.1217 - accuracy: 0.8756 - val_loss: 0.1202 - val_mean_absolute_error: 0.1202 - val_accuracy: 0.8790\n",
      "Epoch 101/150\n",
      "479073/479073 [==============================] - 16s 33us/step - loss: 0.1218 - mean_absolute_error: 0.1218 - accuracy: 0.8756 - val_loss: 0.1218 - val_mean_absolute_error: 0.1218 - val_accuracy: 0.8782\n",
      "Epoch 102/150\n",
      "479073/479073 [==============================] - 16s 34us/step - loss: 0.1217 - mean_absolute_error: 0.1217 - accuracy: 0.8758 - val_loss: 0.1195 - val_mean_absolute_error: 0.1195 - val_accuracy: 0.8749\n",
      "Epoch 103/150\n",
      "479073/479073 [==============================] - 16s 34us/step - loss: 0.1215 - mean_absolute_error: 0.1215 - accuracy: 0.8757 - val_loss: 0.1213 - val_mean_absolute_error: 0.1213 - val_accuracy: 0.8740\n",
      "Epoch 104/150\n",
      "479073/479073 [==============================] - 17s 35us/step - loss: 0.1213 - mean_absolute_error: 0.1213 - accuracy: 0.8760 - val_loss: 0.1196 - val_mean_absolute_error: 0.1196 - val_accuracy: 0.8783\n",
      "Epoch 105/150\n",
      "479073/479073 [==============================] - 16s 34us/step - loss: 0.1212 - mean_absolute_error: 0.1212 - accuracy: 0.8762 - val_loss: 0.1197 - val_mean_absolute_error: 0.1197 - val_accuracy: 0.8789\n",
      "Epoch 106/150\n",
      "479073/479073 [==============================] - 17s 35us/step - loss: 0.1214 - mean_absolute_error: 0.1214 - accuracy: 0.8761 - val_loss: 0.1231 - val_mean_absolute_error: 0.1231 - val_accuracy: 0.8715\n",
      "Epoch 107/150\n",
      "479073/479073 [==============================] - 14s 29us/step - loss: 0.1212 - mean_absolute_error: 0.1212 - accuracy: 0.8756 - val_loss: 0.1234 - val_mean_absolute_error: 0.1234 - val_accuracy: 0.8775\n",
      "Epoch 108/150\n",
      "479073/479073 [==============================] - 13s 28us/step - loss: 0.1211 - mean_absolute_error: 0.1211 - accuracy: 0.8761 - val_loss: 0.1210 - val_mean_absolute_error: 0.1210 - val_accuracy: 0.8735\n",
      "Epoch 109/150\n",
      "479073/479073 [==============================] - 14s 29us/step - loss: 0.1211 - mean_absolute_error: 0.1211 - accuracy: 0.8762 - val_loss: 0.1240 - val_mean_absolute_error: 0.1240 - val_accuracy: 0.8692\n",
      "Epoch 110/150\n",
      "479073/479073 [==============================] - 16s 34us/step - loss: 0.1209 - mean_absolute_error: 0.1209 - accuracy: 0.8760 - val_loss: 0.1201 - val_mean_absolute_error: 0.1201 - val_accuracy: 0.8754\n",
      "Epoch 111/150\n",
      "479073/479073 [==============================] - 14s 30us/step - loss: 0.1209 - mean_absolute_error: 0.1209 - accuracy: 0.8763 - val_loss: 0.1201 - val_mean_absolute_error: 0.1201 - val_accuracy: 0.8757\n",
      "Epoch 112/150\n",
      "479073/479073 [==============================] - 16s 34us/step - loss: 0.1207 - mean_absolute_error: 0.1207 - accuracy: 0.8760 - val_loss: 0.1190 - val_mean_absolute_error: 0.1190 - val_accuracy: 0.8726\n",
      "Epoch 113/150\n",
      "479073/479073 [==============================] - 14s 29us/step - loss: 0.1209 - mean_absolute_error: 0.1209 - accuracy: 0.8762 - val_loss: 0.1196 - val_mean_absolute_error: 0.1196 - val_accuracy: 0.8764\n"
     ]
    },
    {
     "name": "stdout",
     "output_type": "stream",
     "text": [
      "Epoch 114/150\n",
      "479073/479073 [==============================] - 14s 30us/step - loss: 0.1207 - mean_absolute_error: 0.1207 - accuracy: 0.8769 - val_loss: 0.1187 - val_mean_absolute_error: 0.1187 - val_accuracy: 0.8822\n",
      "Epoch 115/150\n",
      "479073/479073 [==============================] - 14s 28us/step - loss: 0.1208 - mean_absolute_error: 0.1208 - accuracy: 0.8761 - val_loss: 0.1191 - val_mean_absolute_error: 0.1191 - val_accuracy: 0.8776\n",
      "Epoch 116/150\n",
      "479073/479073 [==============================] - 15s 31us/step - loss: 0.1205 - mean_absolute_error: 0.1205 - accuracy: 0.8765 - val_loss: 0.1208 - val_mean_absolute_error: 0.1208 - val_accuracy: 0.8770\n",
      "Epoch 117/150\n",
      "479073/479073 [==============================] - 14s 29us/step - loss: 0.1206 - mean_absolute_error: 0.1206 - accuracy: 0.8764 - val_loss: 0.1233 - val_mean_absolute_error: 0.1233 - val_accuracy: 0.8734\n",
      "Epoch 118/150\n",
      "479073/479073 [==============================] - 15s 30us/step - loss: 0.1205 - mean_absolute_error: 0.1205 - accuracy: 0.8760 - val_loss: 0.1195 - val_mean_absolute_error: 0.1195 - val_accuracy: 0.8774\n",
      "Epoch 119/150\n",
      "479073/479073 [==============================] - 14s 28us/step - loss: 0.1204 - mean_absolute_error: 0.1204 - accuracy: 0.8759 - val_loss: 0.1198 - val_mean_absolute_error: 0.1198 - val_accuracy: 0.8801\n",
      "Epoch 120/150\n",
      "479073/479073 [==============================] - 14s 29us/step - loss: 0.1205 - mean_absolute_error: 0.1205 - accuracy: 0.8754 - val_loss: 0.1212 - val_mean_absolute_error: 0.1212 - val_accuracy: 0.8734\n",
      "Epoch 121/150\n",
      "479073/479073 [==============================] - 14s 28us/step - loss: 0.1205 - mean_absolute_error: 0.1205 - accuracy: 0.8755 - val_loss: 0.1195 - val_mean_absolute_error: 0.1195 - val_accuracy: 0.8791\n",
      "Epoch 122/150\n",
      "479073/479073 [==============================] - 13s 28us/step - loss: 0.1204 - mean_absolute_error: 0.1204 - accuracy: 0.8760 - val_loss: 0.1176 - val_mean_absolute_error: 0.1176 - val_accuracy: 0.8778\n",
      "Epoch 123/150\n",
      "479073/479073 [==============================] - 14s 30us/step - loss: 0.1201 - mean_absolute_error: 0.1201 - accuracy: 0.8760 - val_loss: 0.1219 - val_mean_absolute_error: 0.1219 - val_accuracy: 0.8732\n",
      "Epoch 124/150\n",
      "479073/479073 [==============================] - 14s 29us/step - loss: 0.1201 - mean_absolute_error: 0.1201 - accuracy: 0.8758 - val_loss: 0.1196 - val_mean_absolute_error: 0.1196 - val_accuracy: 0.8792\n",
      "Epoch 125/150\n",
      "479073/479073 [==============================] - 14s 29us/step - loss: 0.1201 - mean_absolute_error: 0.1201 - accuracy: 0.8762 - val_loss: 0.1194 - val_mean_absolute_error: 0.1194 - val_accuracy: 0.8771\n",
      "Epoch 126/150\n",
      "479073/479073 [==============================] - 14s 28us/step - loss: 0.1201 - mean_absolute_error: 0.1201 - accuracy: 0.8760 - val_loss: 0.1184 - val_mean_absolute_error: 0.1184 - val_accuracy: 0.8801\n",
      "Epoch 127/150\n",
      "479073/479073 [==============================] - 16s 32us/step - loss: 0.1200 - mean_absolute_error: 0.1200 - accuracy: 0.8759 - val_loss: 0.1185 - val_mean_absolute_error: 0.1185 - val_accuracy: 0.8795\n",
      "Epoch 128/150\n",
      "479073/479073 [==============================] - 16s 34us/step - loss: 0.1199 - mean_absolute_error: 0.1199 - accuracy: 0.8757 - val_loss: 0.1194 - val_mean_absolute_error: 0.1194 - val_accuracy: 0.8772\n",
      "Epoch 129/150\n",
      "479073/479073 [==============================] - 16s 33us/step - loss: 0.1199 - mean_absolute_error: 0.1199 - accuracy: 0.8761 - val_loss: 0.1165 - val_mean_absolute_error: 0.1165 - val_accuracy: 0.8801\n",
      "Epoch 130/150\n",
      "479073/479073 [==============================] - 15s 32us/step - loss: 0.1197 - mean_absolute_error: 0.1197 - accuracy: 0.8760 - val_loss: 0.1221 - val_mean_absolute_error: 0.1221 - val_accuracy: 0.8717\n",
      "Epoch 131/150\n",
      "479073/479073 [==============================] - 15s 32us/step - loss: 0.1197 - mean_absolute_error: 0.1197 - accuracy: 0.8758 - val_loss: 0.1237 - val_mean_absolute_error: 0.1237 - val_accuracy: 0.8694\n",
      "Epoch 132/150\n",
      "479073/479073 [==============================] - 14s 30us/step - loss: 0.1198 - mean_absolute_error: 0.1198 - accuracy: 0.8754 - val_loss: 0.1186 - val_mean_absolute_error: 0.1186 - val_accuracy: 0.8774\n",
      "Epoch 133/150\n",
      "479073/479073 [==============================] - 14s 29us/step - loss: 0.1196 - mean_absolute_error: 0.1196 - accuracy: 0.8754 - val_loss: 0.1196 - val_mean_absolute_error: 0.1196 - val_accuracy: 0.8749\n",
      "Epoch 134/150\n",
      "479073/479073 [==============================] - 14s 29us/step - loss: 0.1195 - mean_absolute_error: 0.1195 - accuracy: 0.8763 - val_loss: 0.1253 - val_mean_absolute_error: 0.1253 - val_accuracy: 0.8692\n",
      "Epoch 135/150\n",
      "479073/479073 [==============================] - 19s 39us/step - loss: 0.1195 - mean_absolute_error: 0.1195 - accuracy: 0.8764 - val_loss: 0.1251 - val_mean_absolute_error: 0.1251 - val_accuracy: 0.8752\n",
      "Epoch 136/150\n",
      "479073/479073 [==============================] - 17s 36us/step - loss: 0.1194 - mean_absolute_error: 0.1194 - accuracy: 0.8758 - val_loss: 0.1170 - val_mean_absolute_error: 0.1170 - val_accuracy: 0.8801\n",
      "Epoch 137/150\n",
      "479073/479073 [==============================] - 16s 32us/step - loss: 0.1192 - mean_absolute_error: 0.1192 - accuracy: 0.8765 - val_loss: 0.1169 - val_mean_absolute_error: 0.1169 - val_accuracy: 0.8774\n",
      "Epoch 138/150\n",
      "479073/479073 [==============================] - 15s 31us/step - loss: 0.1193 - mean_absolute_error: 0.1193 - accuracy: 0.8763 - val_loss: 0.1183 - val_mean_absolute_error: 0.1183 - val_accuracy: 0.8767\n",
      "Epoch 139/150\n",
      "479073/479073 [==============================] - 14s 29us/step - loss: 0.1191 - mean_absolute_error: 0.1191 - accuracy: 0.8763 - val_loss: 0.1205 - val_mean_absolute_error: 0.1205 - val_accuracy: 0.8772\n",
      "Epoch 140/150\n",
      "479073/479073 [==============================] - 14s 30us/step - loss: 0.1190 - mean_absolute_error: 0.1190 - accuracy: 0.8764 - val_loss: 0.1199 - val_mean_absolute_error: 0.1199 - val_accuracy: 0.8767\n",
      "Epoch 141/150\n",
      "479073/479073 [==============================] - 14s 29us/step - loss: 0.1191 - mean_absolute_error: 0.1191 - accuracy: 0.8764 - val_loss: 0.1163 - val_mean_absolute_error: 0.1163 - val_accuracy: 0.8808\n",
      "Epoch 142/150\n",
      "479073/479073 [==============================] - 16s 33us/step - loss: 0.1190 - mean_absolute_error: 0.1190 - accuracy: 0.8767 - val_loss: 0.1178 - val_mean_absolute_error: 0.1178 - val_accuracy: 0.8791\n",
      "Epoch 143/150\n",
      "479073/479073 [==============================] - 15s 31us/step - loss: 0.1188 - mean_absolute_error: 0.1188 - accuracy: 0.8767 - val_loss: 0.1171 - val_mean_absolute_error: 0.1171 - val_accuracy: 0.8766\n",
      "Epoch 144/150\n",
      "479073/479073 [==============================] - 15s 32us/step - loss: 0.1188 - mean_absolute_error: 0.1188 - accuracy: 0.8765 - val_loss: 0.1191 - val_mean_absolute_error: 0.1191 - val_accuracy: 0.8766\n",
      "Epoch 145/150\n",
      "479073/479073 [==============================] - 15s 31us/step - loss: 0.1187 - mean_absolute_error: 0.1187 - accuracy: 0.8768 - val_loss: 0.1208 - val_mean_absolute_error: 0.1208 - val_accuracy: 0.8784\n",
      "Epoch 146/150\n",
      "479073/479073 [==============================] - 17s 35us/step - loss: 0.1186 - mean_absolute_error: 0.1186 - accuracy: 0.8765 - val_loss: 0.1203 - val_mean_absolute_error: 0.1203 - val_accuracy: 0.8727\n",
      "Epoch 147/150\n",
      "479073/479073 [==============================] - 17s 35us/step - loss: 0.1185 - mean_absolute_error: 0.1185 - accuracy: 0.8770 - val_loss: 0.1207 - val_mean_absolute_error: 0.1207 - val_accuracy: 0.8744\n",
      "Epoch 148/150\n",
      "479073/479073 [==============================] - 16s 33us/step - loss: 0.1184 - mean_absolute_error: 0.1184 - accuracy: 0.8770 - val_loss: 0.1165 - val_mean_absolute_error: 0.1165 - val_accuracy: 0.8806\n",
      "Epoch 149/150\n",
      "479073/479073 [==============================] - 17s 36us/step - loss: 0.1183 - mean_absolute_error: 0.1183 - accuracy: 0.8773 - val_loss: 0.1172 - val_mean_absolute_error: 0.1172 - val_accuracy: 0.8779\n",
      "Epoch 150/150\n",
      "479073/479073 [==============================] - 16s 32us/step - loss: 0.1182 - mean_absolute_error: 0.1182 - accuracy: 0.8772 - val_loss: 0.1182 - val_mean_absolute_error: 0.1182 - val_accuracy: 0.8777\n"
     ]
    },
    {
     "data": {
      "text/plain": [
       "<keras.callbacks.callbacks.History at 0x291e6297488>"
      ]
     },
     "execution_count": 135,
     "metadata": {},
     "output_type": "execute_result"
    }
   ],
   "source": [
    "model.fit(train_X, train_y, epochs=150, batch_size=100, validation_split = 0.2)"
   ]
  },
  {
   "cell_type": "code",
   "execution_count": 136,
   "metadata": {},
   "outputs": [],
   "source": [
    "y_pred_ANN_multilayer = model.predict(test_X)"
   ]
  },
  {
   "cell_type": "code",
   "execution_count": 137,
   "metadata": {},
   "outputs": [
    {
     "data": {
      "text/plain": [
       "0.07155238431470723"
      ]
     },
     "execution_count": 137,
     "metadata": {},
     "output_type": "execute_result"
    }
   ],
   "source": [
    "mean_squared_error(test_y , y_pred_ANN)"
   ]
  },
  {
   "cell_type": "code",
   "execution_count": 30,
   "metadata": {},
   "outputs": [],
   "source": [
    "model_optimizer = Sequential()\n",
    "model_optimizer.add(Dense(12, input_dim=11, activation='selu'))\n",
    "model_optimizer.add(Dense(18, activation='selu'))\n",
    "model_optimizer.add(Dense(18, activation='selu'))\n",
    "model_optimizer.add(Dense(18, activation='selu'))\n",
    "model_optimizer.add(Dense(18, activation='selu'))\n",
    "model_optimizer.add(Dense(18, activation='selu'))\n",
    "model_optimizer.add(Dense(18, activation='selu'))\n",
    "model_optimizer.add(Dense(18, activation='selu'))\n",
    "model_optimizer.add(Dense(18, activation='selu'))\n",
    "model_optimizer.add(Dense(18, activation='selu'))\n",
    "model_optimizer.add(Dense(18, activation='selu'))\n",
    "model_optimizer.add(Dense(18, activation='selu'))\n",
    "model_optimizer.add(Dense(18, activation='selu'))\n",
    "model_optimizer.add(Dense(18, activation='selu'))\n",
    "model_optimizer.add(Dense(18, activation='selu'))\n",
    "model_optimizer.add(Dense(2, activation='linear'))"
   ]
  },
  {
   "cell_type": "code",
   "execution_count": 31,
   "metadata": {},
   "outputs": [
    {
     "name": "stdout",
     "output_type": "stream",
     "text": [
      "Model: \"sequential_3\"\n",
      "_________________________________________________________________\n",
      "Layer (type)                 Output Shape              Param #   \n",
      "=================================================================\n",
      "dense_16 (Dense)             (None, 12)                144       \n",
      "_________________________________________________________________\n",
      "dense_17 (Dense)             (None, 18)                234       \n",
      "_________________________________________________________________\n",
      "dense_18 (Dense)             (None, 18)                342       \n",
      "_________________________________________________________________\n",
      "dense_19 (Dense)             (None, 18)                342       \n",
      "_________________________________________________________________\n",
      "dense_20 (Dense)             (None, 18)                342       \n",
      "_________________________________________________________________\n",
      "dense_21 (Dense)             (None, 18)                342       \n",
      "_________________________________________________________________\n",
      "dense_22 (Dense)             (None, 18)                342       \n",
      "_________________________________________________________________\n",
      "dense_23 (Dense)             (None, 18)                342       \n",
      "_________________________________________________________________\n",
      "dense_24 (Dense)             (None, 18)                342       \n",
      "_________________________________________________________________\n",
      "dense_25 (Dense)             (None, 18)                342       \n",
      "_________________________________________________________________\n",
      "dense_26 (Dense)             (None, 18)                342       \n",
      "_________________________________________________________________\n",
      "dense_27 (Dense)             (None, 18)                342       \n",
      "_________________________________________________________________\n",
      "dense_28 (Dense)             (None, 18)                342       \n",
      "_________________________________________________________________\n",
      "dense_29 (Dense)             (None, 18)                342       \n",
      "_________________________________________________________________\n",
      "dense_30 (Dense)             (None, 18)                342       \n",
      "_________________________________________________________________\n",
      "dense_31 (Dense)             (None, 2)                 38        \n",
      "=================================================================\n",
      "Total params: 4,862\n",
      "Trainable params: 4,862\n",
      "Non-trainable params: 0\n",
      "_________________________________________________________________\n"
     ]
    }
   ],
   "source": [
    "model_optimizer.compile(loss='mean_absolute_error', optimizer='adam', metrics=['mean_absolute_error','accuracy'])\n",
    "model_optimizer.summary()"
   ]
  },
  {
   "cell_type": "code",
   "execution_count": 32,
   "metadata": {},
   "outputs": [
    {
     "name": "stdout",
     "output_type": "stream",
     "text": [
      "Epoch 1/250\n",
      "598842/598842 [==============================] - 19s 32us/step - loss: 0.2449 - mean_absolute_error: 0.2449 - accuracy: 0.7668\n",
      "Epoch 2/250\n",
      "598842/598842 [==============================] - 25s 42us/step - loss: 0.1748 - mean_absolute_error: 0.1748 - accuracy: 0.8220\n",
      "Epoch 3/250\n",
      "598842/598842 [==============================] - 17s 29us/step - loss: 0.1607 - mean_absolute_error: 0.1607 - accuracy: 0.8367\n",
      "Epoch 4/250\n",
      "598842/598842 [==============================] - 18s 29us/step - loss: 0.1545 - mean_absolute_error: 0.1545 - accuracy: 0.8431\n",
      "Epoch 5/250\n",
      "598842/598842 [==============================] - 17s 28us/step - loss: 0.1490 - mean_absolute_error: 0.1490 - accuracy: 0.8490\n",
      "Epoch 6/250\n",
      "598842/598842 [==============================] - 18s 30us/step - loss: 0.1467 - mean_absolute_error: 0.1467 - accuracy: 0.8508\n",
      "Epoch 7/250\n",
      "598842/598842 [==============================] - 17s 28us/step - loss: 0.1429 - mean_absolute_error: 0.1429 - accuracy: 0.8542\n",
      "Epoch 8/250\n",
      "598842/598842 [==============================] - 17s 28us/step - loss: 0.1404 - mean_absolute_error: 0.1404 - accuracy: 0.85612s -\n",
      "Epoch 9/250\n",
      "598842/598842 [==============================] - 17s 29us/step - loss: 0.1394 - mean_absolute_error: 0.1394 - accuracy: 0.8577\n",
      "Epoch 10/250\n",
      "598842/598842 [==============================] - 17s 29us/step - loss: 0.1368 - mean_absolute_error: 0.1368 - accuracy: 0.8597\n",
      "Epoch 11/250\n",
      "598842/598842 [==============================] - 20s 33us/step - loss: 0.1357 - mean_absolute_error: 0.1357 - accuracy: 0.8608\n",
      "Epoch 12/250\n",
      "598842/598842 [==============================] - 20s 33us/step - loss: 0.1340 - mean_absolute_error: 0.1340 - accuracy: 0.8626\n",
      "Epoch 13/250\n",
      "598842/598842 [==============================] - 18s 31us/step - loss: 0.1334 - mean_absolute_error: 0.1334 - accuracy: 0.8627\n",
      "Epoch 14/250\n",
      "598842/598842 [==============================] - 16s 27us/step - loss: 0.1326 - mean_absolute_error: 0.1326 - accuracy: 0.86360s - loss: 0.1326 - mean_absolute_error: 0\n",
      "Epoch 15/250\n",
      "598842/598842 [==============================] - 16s 27us/step - loss: 0.1312 - mean_absolute_error: 0.1312 - accuracy: 0.8654\n",
      "Epoch 16/250\n",
      "598842/598842 [==============================] - 18s 30us/step - loss: 0.1309 - mean_absolute_error: 0.1309 - accuracy: 0.8656\n",
      "Epoch 17/250\n",
      "598842/598842 [==============================] - 18s 29us/step - loss: 0.1299 - mean_absolute_error: 0.1299 - accuracy: 0.8667\n",
      "Epoch 18/250\n",
      "598842/598842 [==============================] - 23s 38us/step - loss: 0.1289 - mean_absolute_error: 0.1289 - accuracy: 0.8679\n",
      "Epoch 19/250\n",
      "598842/598842 [==============================] - 22s 38us/step - loss: 0.1278 - mean_absolute_error: 0.1278 - accuracy: 0.8682\n",
      "Epoch 20/250\n",
      "598842/598842 [==============================] - 21s 35us/step - loss: 0.1268 - mean_absolute_error: 0.1268 - accuracy: 0.8699\n",
      "Epoch 21/250\n",
      "598842/598842 [==============================] - 21s 34us/step - loss: 0.1268 - mean_absolute_error: 0.1268 - accuracy: 0.8695\n",
      "Epoch 22/250\n",
      "598842/598842 [==============================] - 22s 38us/step - loss: 0.1255 - mean_absolute_error: 0.1255 - accuracy: 0.8702\n",
      "Epoch 23/250\n",
      "598842/598842 [==============================] - 19s 32us/step - loss: 0.1246 - mean_absolute_error: 0.1246 - accuracy: 0.8713\n",
      "Epoch 24/250\n",
      "598842/598842 [==============================] - 19s 31us/step - loss: 0.1245 - mean_absolute_error: 0.1245 - accuracy: 0.8709\n",
      "Epoch 25/250\n",
      "598842/598842 [==============================] - 23s 39us/step - loss: 0.1235 - mean_absolute_error: 0.1235 - accuracy: 0.87250s - loss: 0.1236 - mean_absolute_error: 0.1\n",
      "Epoch 26/250\n",
      "598842/598842 [==============================] - 22s 36us/step - loss: 0.1236 - mean_absolute_error: 0.1236 - accuracy: 0.8720\n",
      "Epoch 27/250\n",
      "598842/598842 [==============================] - 22s 37us/step - loss: 0.1228 - mean_absolute_error: 0.1228 - accuracy: 0.8725\n",
      "Epoch 28/250\n",
      "598842/598842 [==============================] - 23s 38us/step - loss: 0.1214 - mean_absolute_error: 0.1214 - accuracy: 0.8739\n",
      "Epoch 29/250\n",
      "598842/598842 [==============================] - 19s 32us/step - loss: 0.1216 - mean_absolute_error: 0.1216 - accuracy: 0.8733\n",
      "Epoch 30/250\n",
      "598842/598842 [==============================] - 23s 39us/step - loss: 0.1212 - mean_absolute_error: 0.1212 - accuracy: 0.8738\n",
      "Epoch 31/250\n",
      "598842/598842 [==============================] - 23s 39us/step - loss: 0.1208 - mean_absolute_error: 0.1208 - accuracy: 0.87421s - loss: 0.1210 - mean_absolute_\n",
      "Epoch 32/250\n",
      "598842/598842 [==============================] - 20s 34us/step - loss: 0.1201 - mean_absolute_error: 0.1201 - accuracy: 0.8751\n",
      "Epoch 33/250\n",
      "598842/598842 [==============================] - 18s 30us/step - loss: 0.1199 - mean_absolute_error: 0.1199 - accuracy: 0.8754\n",
      "Epoch 34/250\n",
      "598842/598842 [==============================] - 16s 27us/step - loss: 0.1185 - mean_absolute_error: 0.1185 - accuracy: 0.8767\n",
      "Epoch 35/250\n",
      "598842/598842 [==============================] - 17s 28us/step - loss: 0.1194 - mean_absolute_error: 0.1194 - accuracy: 0.8758\n",
      "Epoch 36/250\n",
      "598842/598842 [==============================] - 16s 27us/step - loss: 0.1183 - mean_absolute_error: 0.1183 - accuracy: 0.8760\n",
      "Epoch 37/250\n",
      "598842/598842 [==============================] - 17s 28us/step - loss: 0.1175 - mean_absolute_error: 0.1175 - accuracy: 0.8768\n",
      "Epoch 38/250\n",
      "598842/598842 [==============================] - 17s 29us/step - loss: 0.1185 - mean_absolute_error: 0.1185 - accuracy: 0.8767\n",
      "Epoch 39/250\n",
      "598842/598842 [==============================] - 17s 28us/step - loss: 0.1175 - mean_absolute_error: 0.1175 - accuracy: 0.8778\n",
      "Epoch 40/250\n",
      "598842/598842 [==============================] - 18s 31us/step - loss: 0.1165 - mean_absolute_error: 0.1165 - accuracy: 0.8784\n",
      "Epoch 41/250\n",
      "598842/598842 [==============================] - 18s 31us/step - loss: 0.1170 - mean_absolute_error: 0.1170 - accuracy: 0.8774\n",
      "Epoch 42/250\n",
      "598842/598842 [==============================] - 19s 31us/step - loss: 0.1154 - mean_absolute_error: 0.1154 - accuracy: 0.8793\n",
      "Epoch 43/250\n",
      "598842/598842 [==============================] - 19s 32us/step - loss: 0.1161 - mean_absolute_error: 0.1161 - accuracy: 0.8787\n",
      "Epoch 44/250\n",
      "598842/598842 [==============================] - 19s 32us/step - loss: 0.1162 - mean_absolute_error: 0.1162 - accuracy: 0.8786\n",
      "Epoch 45/250\n",
      "598842/598842 [==============================] - 19s 32us/step - loss: 0.1152 - mean_absolute_error: 0.1152 - accuracy: 0.8791\n",
      "Epoch 46/250\n",
      "598842/598842 [==============================] - 19s 31us/step - loss: 0.1152 - mean_absolute_error: 0.1152 - accuracy: 0.8793\n",
      "Epoch 47/250\n",
      "598842/598842 [==============================] - 19s 32us/step - loss: 0.1149 - mean_absolute_error: 0.1149 - accuracy: 0.8796\n",
      "Epoch 48/250\n",
      "598842/598842 [==============================] - 19s 32us/step - loss: 0.1148 - mean_absolute_error: 0.1148 - accuracy: 0.8795\n",
      "Epoch 49/250\n",
      "598842/598842 [==============================] - 19s 31us/step - loss: 0.1144 - mean_absolute_error: 0.1144 - accuracy: 0.8802\n",
      "Epoch 50/250\n",
      "598842/598842 [==============================] - 22s 36us/step - loss: 0.1145 - mean_absolute_error: 0.1145 - accuracy: 0.8797\n",
      "Epoch 51/250\n",
      "598842/598842 [==============================] - 20s 33us/step - loss: 0.1144 - mean_absolute_error: 0.1144 - accuracy: 0.8799\n",
      "Epoch 52/250\n",
      "598842/598842 [==============================] - 19s 32us/step - loss: 0.1141 - mean_absolute_error: 0.1141 - accuracy: 0.8801\n",
      "Epoch 53/250\n",
      "598842/598842 [==============================] - 23s 39us/step - loss: 0.1130 - mean_absolute_error: 0.1130 - accuracy: 0.88121s - loss: 0.1130 - mean_absolute_\n",
      "Epoch 54/250\n",
      "598842/598842 [==============================] - 19s 32us/step - loss: 0.1131 - mean_absolute_error: 0.1131 - accuracy: 0.88084s - loss:\n",
      "Epoch 55/250\n",
      "598842/598842 [==============================] - 22s 36us/step - loss: 0.1134 - mean_absolute_error: 0.1134 - accuracy: 0.88081s - loss: 0.1135 \n",
      "Epoch 56/250\n",
      "598842/598842 [==============================] - 19s 32us/step - loss: 0.1124 - mean_absolute_error: 0.1124 - accuracy: 0.8815\n",
      "Epoch 57/250\n",
      "598842/598842 [==============================] - 18s 31us/step - loss: 0.1126 - mean_absolute_error: 0.1126 - accuracy: 0.8813\n",
      "Epoch 58/250\n",
      "598842/598842 [==============================] - 20s 33us/step - loss: 0.1126 - mean_absolute_error: 0.1126 - accuracy: 0.8817\n",
      "Epoch 59/250\n",
      "598842/598842 [==============================] - 19s 32us/step - loss: 0.1119 - mean_absolute_error: 0.1119 - accuracy: 0.8819\n",
      "Epoch 60/250\n",
      "598842/598842 [==============================] - 19s 31us/step - loss: 0.1119 - mean_absolute_error: 0.1119 - accuracy: 0.8820\n",
      "Epoch 61/250\n",
      "598842/598842 [==============================] - 19s 31us/step - loss: 0.1110 - mean_absolute_error: 0.1110 - accuracy: 0.8828\n",
      "Epoch 62/250\n",
      "598842/598842 [==============================] - 22s 38us/step - loss: 0.1120 - mean_absolute_error: 0.1120 - accuracy: 0.8820\n",
      "Epoch 63/250\n",
      "598842/598842 [==============================] - 21s 36us/step - loss: 0.1112 - mean_absolute_error: 0.1112 - accuracy: 0.8827\n",
      "Epoch 64/250\n",
      "598842/598842 [==============================] - 20s 33us/step - loss: 0.1117 - mean_absolute_error: 0.1117 - accuracy: 0.8823\n",
      "Epoch 65/250\n",
      "598842/598842 [==============================] - 31s 51us/step - loss: 0.1112 - mean_absolute_error: 0.1112 - accuracy: 0.8829\n",
      "Epoch 66/250\n",
      "598842/598842 [==============================] - 27s 45us/step - loss: 0.1111 - mean_absolute_error: 0.1111 - accuracy: 0.8830\n",
      "Epoch 67/250\n",
      "598842/598842 [==============================] - 31s 52us/step - loss: 0.1104 - mean_absolute_error: 0.1104 - accuracy: 0.8835\n",
      "Epoch 68/250\n",
      "598842/598842 [==============================] - 25s 42us/step - loss: 0.1095 - mean_absolute_error: 0.1095 - accuracy: 0.8843\n",
      "Epoch 69/250\n",
      "598842/598842 [==============================] - 27s 45us/step - loss: 0.1104 - mean_absolute_error: 0.1104 - accuracy: 0.8836\n",
      "Epoch 70/250\n",
      "598842/598842 [==============================] - 22s 37us/step - loss: 0.1102 - mean_absolute_error: 0.1102 - accuracy: 0.8835\n",
      "Epoch 71/250\n",
      "598842/598842 [==============================] - 28s 47us/step - loss: 0.1103 - mean_absolute_error: 0.1103 - accuracy: 0.8837\n",
      "Epoch 72/250\n",
      "598842/598842 [==============================] - 27s 45us/step - loss: 0.1086 - mean_absolute_error: 0.1086 - accuracy: 0.8858\n",
      "Epoch 73/250\n",
      "598842/598842 [==============================] - 26s 43us/step - loss: 0.1098 - mean_absolute_error: 0.1098 - accuracy: 0.8843\n",
      "Epoch 74/250\n",
      "598842/598842 [==============================] - 22s 36us/step - loss: 0.1092 - mean_absolute_error: 0.1092 - accuracy: 0.8849\n",
      "Epoch 75/250\n",
      "598842/598842 [==============================] - 22s 36us/step - loss: 0.1089 - mean_absolute_error: 0.1089 - accuracy: 0.8852\n",
      "Epoch 76/250\n",
      "598842/598842 [==============================] - 21s 36us/step - loss: 0.1091 - mean_absolute_error: 0.1091 - accuracy: 0.8848\n",
      "Epoch 77/250\n",
      "598842/598842 [==============================] - 21s 35us/step - loss: 0.1088 - mean_absolute_error: 0.1088 - accuracy: 0.8850 - ETA: 2s\n",
      "Epoch 78/250\n",
      "598842/598842 [==============================] - 21s 35us/step - loss: 0.1082 - mean_absolute_error: 0.1082 - accuracy: 0.8860\n",
      "Epoch 79/250\n",
      "598842/598842 [==============================] - 21s 35us/step - loss: 0.1091 - mean_absolute_error: 0.1091 - accuracy: 0.8851\n",
      "Epoch 80/250\n",
      "598842/598842 [==============================] - 22s 36us/step - loss: 0.1092 - mean_absolute_error: 0.1092 - accuracy: 0.8850\n",
      "Epoch 81/250\n",
      "598842/598842 [==============================] - 20s 34us/step - loss: 0.1070 - mean_absolute_error: 0.1070 - accuracy: 0.8868\n",
      "Epoch 82/250\n",
      "598842/598842 [==============================] - 20s 34us/step - loss: 0.1083 - mean_absolute_error: 0.1083 - accuracy: 0.8860\n",
      "Epoch 83/250\n",
      "598842/598842 [==============================] - 21s 34us/step - loss: 0.1086 - mean_absolute_error: 0.1086 - accuracy: 0.8860\n",
      "Epoch 84/250\n",
      "598842/598842 [==============================] - 21s 35us/step - loss: 0.1076 - mean_absolute_error: 0.1076 - accuracy: 0.8869\n",
      "Epoch 85/250\n",
      "598842/598842 [==============================] - 20s 34us/step - loss: 0.1073 - mean_absolute_error: 0.1073 - accuracy: 0.8872\n",
      "Epoch 86/250\n",
      "598842/598842 [==============================] - 21s 35us/step - loss: 0.1073 - mean_absolute_error: 0.1073 - accuracy: 0.8875\n",
      "Epoch 87/250\n",
      "598842/598842 [==============================] - 21s 35us/step - loss: 0.1070 - mean_absolute_error: 0.1070 - accuracy: 0.8873\n",
      "Epoch 88/250\n",
      "598842/598842 [==============================] - 21s 35us/step - loss: 0.1081 - mean_absolute_error: 0.1081 - accuracy: 0.8862\n",
      "Epoch 89/250\n",
      "598842/598842 [==============================] - 21s 35us/step - loss: 0.1068 - mean_absolute_error: 0.1068 - accuracy: 0.8877\n",
      "Epoch 90/250\n",
      "598842/598842 [==============================] - 21s 35us/step - loss: 0.1063 - mean_absolute_error: 0.1063 - accuracy: 0.8882\n",
      "Epoch 91/250\n",
      "598842/598842 [==============================] - 21s 34us/step - loss: 0.1069 - mean_absolute_error: 0.1069 - accuracy: 0.8879\n",
      "Epoch 92/250\n",
      "598842/598842 [==============================] - ETA: 0s - loss: 0.1070 - mean_absolute_error: 0.1070 - accuracy: 0.88 - 21s 35us/step - loss: 0.1070 - mean_absolute_error: 0.1070 - accuracy: 0.8877\n",
      "Epoch 93/250\n",
      "598842/598842 [==============================] - 21s 36us/step - loss: 0.1065 - mean_absolute_error: 0.1065 - accuracy: 0.8876\n",
      "Epoch 94/250\n",
      "598842/598842 [==============================] - 21s 35us/step - loss: 0.1057 - mean_absolute_error: 0.1057 - accuracy: 0.8888\n",
      "Epoch 95/250\n",
      "598842/598842 [==============================] - 21s 35us/step - loss: 0.1056 - mean_absolute_error: 0.1056 - accuracy: 0.8892\n",
      "Epoch 96/250\n",
      "598842/598842 [==============================] - 21s 35us/step - loss: 0.1065 - mean_absolute_error: 0.1065 - accuracy: 0.8881\n",
      "Epoch 97/250\n",
      "598842/598842 [==============================] - 26s 43us/step - loss: 0.1060 - mean_absolute_error: 0.1060 - accuracy: 0.8888\n",
      "Epoch 98/250\n",
      "598842/598842 [==============================] - 22s 37us/step - loss: 0.1054 - mean_absolute_error: 0.1054 - accuracy: 0.88910s - loss: 0.1053 - mean_absolute_error: 0.1053 - accuracy: \n",
      "Epoch 99/250\n",
      "598842/598842 [==============================] - 24s 40us/step - loss: 0.1052 - mean_absolute_error: 0.1052 - accuracy: 0.8897\n",
      "Epoch 100/250\n",
      "598842/598842 [==============================] - 26s 43us/step - loss: 0.1059 - mean_absolute_error: 0.1059 - accuracy: 0.8886\n",
      "Epoch 101/250\n",
      "598842/598842 [==============================] - 21s 35us/step - loss: 0.1056 - mean_absolute_error: 0.1056 - accuracy: 0.8892\n",
      "Epoch 102/250\n",
      "598842/598842 [==============================] - 21s 36us/step - loss: 0.1050 - mean_absolute_error: 0.1050 - accuracy: 0.8900\n",
      "Epoch 103/250\n",
      "598842/598842 [==============================] - 21s 35us/step - loss: 0.1050 - mean_absolute_error: 0.1050 - accuracy: 0.8902\n",
      "Epoch 104/250\n",
      "598842/598842 [==============================] - 21s 35us/step - loss: 0.1045 - mean_absolute_error: 0.1045 - accuracy: 0.8903\n",
      "Epoch 105/250\n",
      "598842/598842 [==============================] - 22s 37us/step - loss: 0.1047 - mean_absolute_error: 0.1047 - accuracy: 0.8904\n",
      "Epoch 106/250\n",
      "598842/598842 [==============================] - 21s 35us/step - loss: 0.1045 - mean_absolute_error: 0.1045 - accuracy: 0.8903\n",
      "Epoch 107/250\n",
      "598842/598842 [==============================] - 21s 35us/step - loss: 0.1046 - mean_absolute_error: 0.1046 - accuracy: 0.8906\n",
      "Epoch 108/250\n",
      "598842/598842 [==============================] - 21s 36us/step - loss: 0.1045 - mean_absolute_error: 0.1045 - accuracy: 0.8906\n",
      "Epoch 109/250\n",
      "598842/598842 [==============================] - 21s 35us/step - loss: 0.1053 - mean_absolute_error: 0.1053 - accuracy: 0.8899\n",
      "Epoch 110/250\n",
      "598842/598842 [==============================] - 21s 35us/step - loss: 0.1041 - mean_absolute_error: 0.1041 - accuracy: 0.8911\n",
      "Epoch 111/250\n",
      "598842/598842 [==============================] - 22s 36us/step - loss: 0.1044 - mean_absolute_error: 0.1044 - accuracy: 0.8902\n",
      "Epoch 112/250\n",
      "598842/598842 [==============================] - 21s 36us/step - loss: 0.1043 - mean_absolute_error: 0.1043 - accuracy: 0.8904\n",
      "Epoch 113/250\n",
      "598842/598842 [==============================] - 20s 34us/step - loss: 0.1034 - mean_absolute_error: 0.1034 - accuracy: 0.8918\n",
      "Epoch 114/250\n",
      "598842/598842 [==============================] - 21s 35us/step - loss: 0.1036 - mean_absolute_error: 0.1036 - accuracy: 0.8920\n",
      "Epoch 115/250\n"
     ]
    },
    {
     "name": "stdout",
     "output_type": "stream",
     "text": [
      "598842/598842 [==============================] - 21s 34us/step - loss: 0.1036 - mean_absolute_error: 0.1036 - accuracy: 0.8919\n",
      "Epoch 116/250\n",
      "598842/598842 [==============================] - 24s 39us/step - loss: 0.1041 - mean_absolute_error: 0.1041 - accuracy: 0.8909\n",
      "Epoch 117/250\n",
      "598842/598842 [==============================] - 32s 53us/step - loss: 0.1034 - mean_absolute_error: 0.1034 - accuracy: 0.8921\n",
      "Epoch 118/250\n",
      "598842/598842 [==============================] - 31s 53us/step - loss: 0.1035 - mean_absolute_error: 0.1035 - accuracy: 0.8919\n",
      "Epoch 119/250\n",
      "598842/598842 [==============================] - 21s 35us/step - loss: 0.1028 - mean_absolute_error: 0.1028 - accuracy: 0.8927\n",
      "Epoch 120/250\n",
      "598842/598842 [==============================] - 21s 34us/step - loss: 0.1029 - mean_absolute_error: 0.1029 - accuracy: 0.8923\n",
      "Epoch 121/250\n",
      "598842/598842 [==============================] - 22s 37us/step - loss: 0.1026 - mean_absolute_error: 0.1026 - accuracy: 0.8930\n",
      "Epoch 122/250\n",
      "598842/598842 [==============================] - 22s 37us/step - loss: 0.1032 - mean_absolute_error: 0.1032 - accuracy: 0.8923\n",
      "Epoch 123/250\n",
      "598842/598842 [==============================] - 29s 48us/step - loss: 0.1026 - mean_absolute_error: 0.1026 - accuracy: 0.8929\n",
      "Epoch 124/250\n",
      "598842/598842 [==============================] - 27s 46us/step - loss: 0.1029 - mean_absolute_error: 0.1029 - accuracy: 0.8924\n",
      "Epoch 125/250\n",
      "598842/598842 [==============================] - 22s 37us/step - loss: 0.1025 - mean_absolute_error: 0.1025 - accuracy: 0.8932\n",
      "Epoch 126/250\n",
      "598842/598842 [==============================] - 23s 38us/step - loss: 0.1033 - mean_absolute_error: 0.1033 - accuracy: 0.89253s - loss: 0.1036 - mean_absolute_error: 0.1036 \n",
      "Epoch 127/250\n",
      "598842/598842 [==============================] - 20s 33us/step - loss: 0.1028 - mean_absolute_error: 0.1028 - accuracy: 0.8930\n",
      "Epoch 128/250\n",
      "598842/598842 [==============================] - 23s 38us/step - loss: 0.1020 - mean_absolute_error: 0.1020 - accuracy: 0.8934\n",
      "Epoch 129/250\n",
      "598842/598842 [==============================] - 24s 40us/step - loss: 0.1025 - mean_absolute_error: 0.1025 - accuracy: 0.8931\n",
      "Epoch 130/250\n",
      "598842/598842 [==============================] - 22s 37us/step - loss: 0.1018 - mean_absolute_error: 0.1018 - accuracy: 0.8939\n",
      "Epoch 131/250\n",
      "598842/598842 [==============================] - 18s 30us/step - loss: 0.1017 - mean_absolute_error: 0.1017 - accuracy: 0.8945\n",
      "Epoch 132/250\n",
      "598842/598842 [==============================] - 21s 35us/step - loss: 0.1015 - mean_absolute_error: 0.1015 - accuracy: 0.8946\n",
      "Epoch 133/250\n",
      "598842/598842 [==============================] - 20s 33us/step - loss: 0.1014 - mean_absolute_error: 0.1014 - accuracy: 0.8943\n",
      "Epoch 134/250\n",
      "598842/598842 [==============================] - 19s 32us/step - loss: 0.1019 - mean_absolute_error: 0.1019 - accuracy: 0.8940\n",
      "Epoch 135/250\n",
      "598842/598842 [==============================] - 21s 36us/step - loss: 0.1017 - mean_absolute_error: 0.1017 - accuracy: 0.8947\n",
      "Epoch 136/250\n",
      "598842/598842 [==============================] - 17s 29us/step - loss: 0.1019 - mean_absolute_error: 0.1019 - accuracy: 0.8936\n",
      "Epoch 137/250\n",
      "598842/598842 [==============================] - 16s 27us/step - loss: 0.1018 - mean_absolute_error: 0.1018 - accuracy: 0.8943\n",
      "Epoch 138/250\n",
      "598842/598842 [==============================] - 17s 28us/step - loss: 0.1020 - mean_absolute_error: 0.1020 - accuracy: 0.8942\n",
      "Epoch 139/250\n",
      "598842/598842 [==============================] - 17s 28us/step - loss: 0.1015 - mean_absolute_error: 0.1015 - accuracy: 0.8944\n",
      "Epoch 140/250\n",
      "598842/598842 [==============================] - 16s 26us/step - loss: 0.1015 - mean_absolute_error: 0.1015 - accuracy: 0.8949\n",
      "Epoch 141/250\n",
      "598842/598842 [==============================] - 16s 27us/step - loss: 0.1016 - mean_absolute_error: 0.1016 - accuracy: 0.89421s\n",
      "Epoch 142/250\n",
      "598842/598842 [==============================] - 20s 33us/step - loss: 0.1016 - mean_absolute_error: 0.1016 - accuracy: 0.8945\n",
      "Epoch 143/250\n",
      "598842/598842 [==============================] - 18s 30us/step - loss: 0.1012 - mean_absolute_error: 0.1012 - accuracy: 0.8945\n",
      "Epoch 144/250\n",
      "598842/598842 [==============================] - 17s 28us/step - loss: 0.1004 - mean_absolute_error: 0.1004 - accuracy: 0.89571s -\n",
      "Epoch 145/250\n",
      "598842/598842 [==============================] - 17s 28us/step - loss: 0.1006 - mean_absolute_error: 0.1006 - accuracy: 0.8957\n",
      "Epoch 146/250\n",
      "598842/598842 [==============================] - 17s 28us/step - loss: 0.1009 - mean_absolute_error: 0.1009 - accuracy: 0.8952\n",
      "Epoch 147/250\n",
      "598842/598842 [==============================] - 17s 28us/step - loss: 0.1011 - mean_absolute_error: 0.1011 - accuracy: 0.8945\n",
      "Epoch 148/250\n",
      "598842/598842 [==============================] - 17s 28us/step - loss: 0.1007 - mean_absolute_error: 0.1007 - accuracy: 0.8952\n",
      "Epoch 149/250\n",
      "598842/598842 [==============================] - 18s 29us/step - loss: 0.1008 - mean_absolute_error: 0.1008 - accuracy: 0.8949\n",
      "Epoch 150/250\n",
      "598842/598842 [==============================] - 17s 29us/step - loss: 0.0999 - mean_absolute_error: 0.0999 - accuracy: 0.8963\n",
      "Epoch 151/250\n",
      "598842/598842 [==============================] - 18s 29us/step - loss: 0.1008 - mean_absolute_error: 0.1008 - accuracy: 0.8952\n",
      "Epoch 152/250\n",
      "598842/598842 [==============================] - 17s 28us/step - loss: 0.0996 - mean_absolute_error: 0.0996 - accuracy: 0.8966\n",
      "Epoch 153/250\n",
      "598842/598842 [==============================] - 16s 27us/step - loss: 0.1005 - mean_absolute_error: 0.1005 - accuracy: 0.8953\n",
      "Epoch 154/250\n",
      "598842/598842 [==============================] - 16s 27us/step - loss: 0.0996 - mean_absolute_error: 0.0996 - accuracy: 0.8963\n",
      "Epoch 155/250\n",
      "598842/598842 [==============================] - 18s 30us/step - loss: 0.1004 - mean_absolute_error: 0.1004 - accuracy: 0.8948\n",
      "Epoch 156/250\n",
      "598842/598842 [==============================] - 17s 28us/step - loss: 0.0993 - mean_absolute_error: 0.0993 - accuracy: 0.89681s - loss: 0.0994 - mean\n",
      "Epoch 157/250\n",
      "598842/598842 [==============================] - 17s 29us/step - loss: 0.0999 - mean_absolute_error: 0.0999 - accuracy: 0.8962\n",
      "Epoch 158/250\n",
      "598842/598842 [==============================] - 16s 27us/step - loss: 0.0999 - mean_absolute_error: 0.0999 - accuracy: 0.8956\n",
      "Epoch 159/250\n",
      "598842/598842 [==============================] - 16s 27us/step - loss: 0.1000 - mean_absolute_error: 0.1000 - accuracy: 0.8962\n",
      "Epoch 160/250\n",
      "598842/598842 [==============================] - 18s 29us/step - loss: 0.0995 - mean_absolute_error: 0.0995 - accuracy: 0.8965\n",
      "Epoch 161/250\n",
      "598842/598842 [==============================] - 17s 28us/step - loss: 0.0998 - mean_absolute_error: 0.0998 - accuracy: 0.8961\n",
      "Epoch 162/250\n",
      "598842/598842 [==============================] - 17s 28us/step - loss: 0.0989 - mean_absolute_error: 0.0989 - accuracy: 0.8968\n",
      "Epoch 163/250\n",
      "598842/598842 [==============================] - 18s 29us/step - loss: 0.0988 - mean_absolute_error: 0.0988 - accuracy: 0.8971\n",
      "Epoch 164/250\n",
      "598842/598842 [==============================] - 18s 31us/step - loss: 0.0990 - mean_absolute_error: 0.0990 - accuracy: 0.8967\n",
      "Epoch 165/250\n",
      "598842/598842 [==============================] - 19s 32us/step - loss: 0.0987 - mean_absolute_error: 0.0987 - accuracy: 0.8968\n",
      "Epoch 166/250\n",
      "598842/598842 [==============================] - 16s 27us/step - loss: 0.0991 - mean_absolute_error: 0.0991 - accuracy: 0.8968\n",
      "Epoch 167/250\n",
      "598842/598842 [==============================] - 17s 29us/step - loss: 0.0983 - mean_absolute_error: 0.0983 - accuracy: 0.8975\n",
      "Epoch 168/250\n",
      "598842/598842 [==============================] - 17s 28us/step - loss: 0.0999 - mean_absolute_error: 0.0999 - accuracy: 0.8961\n",
      "Epoch 169/250\n",
      "598842/598842 [==============================] - 16s 26us/step - loss: 0.0979 - mean_absolute_error: 0.0979 - accuracy: 0.8983\n",
      "Epoch 170/250\n",
      "598842/598842 [==============================] - 17s 28us/step - loss: 0.0984 - mean_absolute_error: 0.0984 - accuracy: 0.8977\n",
      "Epoch 171/250\n",
      "598842/598842 [==============================] - 16s 26us/step - loss: 0.0989 - mean_absolute_error: 0.0989 - accuracy: 0.8965\n",
      "Epoch 172/250\n",
      "598842/598842 [==============================] - 17s 29us/step - loss: 0.0981 - mean_absolute_error: 0.0981 - accuracy: 0.89731s - loss: 0.0981 - mean\n",
      "Epoch 173/250\n",
      "598842/598842 [==============================] - 16s 27us/step - loss: 0.0988 - mean_absolute_error: 0.0988 - accuracy: 0.8969\n",
      "Epoch 174/250\n",
      "598842/598842 [==============================] - 17s 29us/step - loss: 0.0980 - mean_absolute_error: 0.0980 - accuracy: 0.8978\n",
      "Epoch 175/250\n",
      "598842/598842 [==============================] - 19s 31us/step - loss: 0.0979 - mean_absolute_error: 0.0979 - accuracy: 0.8975\n",
      "Epoch 176/250\n",
      "598842/598842 [==============================] - 16s 27us/step - loss: 0.0984 - mean_absolute_error: 0.0984 - accuracy: 0.8971\n",
      "Epoch 177/250\n",
      "598842/598842 [==============================] - 17s 29us/step - loss: 0.0979 - mean_absolute_error: 0.0979 - accuracy: 0.8974\n",
      "Epoch 178/250\n",
      "598842/598842 [==============================] - 18s 31us/step - loss: 0.0985 - mean_absolute_error: 0.0985 - accuracy: 0.89718s - loss: 0.0982 - me - E\n",
      "Epoch 179/250\n",
      "598842/598842 [==============================] - 17s 28us/step - loss: 0.0976 - mean_absolute_error: 0.0976 - accuracy: 0.8976\n",
      "Epoch 180/250\n",
      "598842/598842 [==============================] - 18s 30us/step - loss: 0.0981 - mean_absolute_error: 0.0981 - accuracy: 0.8971\n",
      "Epoch 181/250\n",
      "598842/598842 [==============================] - 18s 31us/step - loss: 0.0975 - mean_absolute_error: 0.0975 - accuracy: 0.8977\n",
      "Epoch 182/250\n",
      "598842/598842 [==============================] - 16s 27us/step - loss: 0.0985 - mean_absolute_error: 0.0985 - accuracy: 0.8966\n",
      "Epoch 183/250\n",
      "598842/598842 [==============================] - 17s 28us/step - loss: 0.0977 - mean_absolute_error: 0.0977 - accuracy: 0.8979\n",
      "Epoch 184/250\n",
      "598842/598842 [==============================] - 17s 28us/step - loss: 0.0974 - mean_absolute_error: 0.0974 - accuracy: 0.8978\n",
      "Epoch 185/250\n",
      "598842/598842 [==============================] - 17s 28us/step - loss: 0.0975 - mean_absolute_error: 0.0975 - accuracy: 0.8975\n",
      "Epoch 186/250\n",
      "598842/598842 [==============================] - 17s 28us/step - loss: 0.0976 - mean_absolute_error: 0.0976 - accuracy: 0.89760s - loss: 0.0975 - mean_absolute_error: 0\n",
      "Epoch 187/250\n",
      "598842/598842 [==============================] - 18s 30us/step - loss: 0.0974 - mean_absolute_error: 0.0974 - accuracy: 0.8984\n",
      "Epoch 188/250\n",
      "598842/598842 [==============================] - 18s 31us/step - loss: 0.0987 - mean_absolute_error: 0.0987 - accuracy: 0.8965\n",
      "Epoch 189/250\n",
      "598842/598842 [==============================] - 16s 26us/step - loss: 0.0970 - mean_absolute_error: 0.0970 - accuracy: 0.8981\n",
      "Epoch 190/250\n",
      "598842/598842 [==============================] - 16s 26us/step - loss: 0.0969 - mean_absolute_error: 0.0969 - accuracy: 0.89873s - loss: 0.0968 - mean_absolute_er - ETA: 2s - loss: 0.0970 - mean_absolute_erro - ETA\n",
      "Epoch 191/250\n",
      "598842/598842 [==============================] - 16s 27us/step - loss: 0.0970 - mean_absolute_error: 0.0970 - accuracy: 0.8984\n",
      "Epoch 192/250\n",
      "598842/598842 [==============================] - 16s 26us/step - loss: 0.0973 - mean_absolute_error: 0.0973 - accuracy: 0.8981\n",
      "Epoch 193/250\n",
      "598842/598842 [==============================] - 16s 27us/step - loss: 0.0971 - mean_absolute_error: 0.0971 - accuracy: 0.8980\n",
      "Epoch 194/250\n",
      "598842/598842 [==============================] - 16s 27us/step - loss: 0.0972 - mean_absolute_error: 0.0972 - accuracy: 0.8979\n",
      "Epoch 195/250\n",
      "598842/598842 [==============================] - 17s 29us/step - loss: 0.0970 - mean_absolute_error: 0.0970 - accuracy: 0.8984\n",
      "Epoch 196/250\n",
      "598842/598842 [==============================] - 18s 30us/step - loss: 0.0965 - mean_absolute_error: 0.0965 - accuracy: 0.8987\n",
      "Epoch 197/250\n",
      "598842/598842 [==============================] - 17s 28us/step - loss: 0.0966 - mean_absolute_error: 0.0966 - accuracy: 0.89901s - loss: 0.0965 - mean_abs\n",
      "Epoch 198/250\n",
      "598842/598842 [==============================] - 18s 31us/step - loss: 0.0961 - mean_absolute_error: 0.0961 - accuracy: 0.8989\n",
      "Epoch 199/250\n",
      "598842/598842 [==============================] - 17s 28us/step - loss: 0.0975 - mean_absolute_error: 0.0975 - accuracy: 0.8983\n",
      "Epoch 200/250\n",
      "598842/598842 [==============================] - 16s 27us/step - loss: 0.0967 - mean_absolute_error: 0.0967 - accuracy: 0.8985\n",
      "Epoch 201/250\n",
      "598842/598842 [==============================] - 16s 27us/step - loss: 0.0965 - mean_absolute_error: 0.0965 - accuracy: 0.8986\n",
      "Epoch 202/250\n",
      "598842/598842 [==============================] - 18s 29us/step - loss: 0.0969 - mean_absolute_error: 0.0969 - accuracy: 0.8984\n",
      "Epoch 203/250\n",
      "598842/598842 [==============================] - 16s 27us/step - loss: 0.0967 - mean_absolute_error: 0.0967 - accuracy: 0.8989\n",
      "Epoch 204/250\n",
      "598842/598842 [==============================] - 17s 29us/step - loss: 0.0965 - mean_absolute_error: 0.0965 - accuracy: 0.89911s - loss: 0.0963 - mean_abs\n",
      "Epoch 205/250\n",
      "598842/598842 [==============================] - 19s 32us/step - loss: 0.0966 - mean_absolute_error: 0.0966 - accuracy: 0.8993\n",
      "Epoch 206/250\n",
      "598842/598842 [==============================] - 19s 31us/step - loss: 0.0961 - mean_absolute_error: 0.0961 - accuracy: 0.8995\n",
      "Epoch 207/250\n",
      "598842/598842 [==============================] - 19s 31us/step - loss: 0.0964 - mean_absolute_error: 0.0964 - accuracy: 0.8992\n",
      "Epoch 208/250\n",
      "598842/598842 [==============================] - 19s 31us/step - loss: 0.0966 - mean_absolute_error: 0.0966 - accuracy: 0.8992\n",
      "Epoch 209/250\n",
      "598842/598842 [==============================] - 19s 31us/step - loss: 0.0961 - mean_absolute_error: 0.0961 - accuracy: 0.8993\n",
      "Epoch 210/250\n",
      "598842/598842 [==============================] - 19s 32us/step - loss: 0.0964 - mean_absolute_error: 0.0964 - accuracy: 0.8996\n",
      "Epoch 211/250\n",
      "598842/598842 [==============================] - 17s 28us/step - loss: 0.0960 - mean_absolute_error: 0.0960 - accuracy: 0.8999\n",
      "Epoch 212/250\n",
      "598842/598842 [==============================] - 18s 30us/step - loss: 0.0961 - mean_absolute_error: 0.0961 - accuracy: 0.8994\n",
      "Epoch 213/250\n",
      "598842/598842 [==============================] - 17s 29us/step - loss: 0.0957 - mean_absolute_error: 0.0957 - accuracy: 0.8998\n",
      "Epoch 214/250\n",
      "598842/598842 [==============================] - 18s 30us/step - loss: 0.0958 - mean_absolute_error: 0.0958 - accuracy: 0.9000\n",
      "Epoch 215/250\n",
      "598842/598842 [==============================] - 18s 30us/step - loss: 0.0957 - mean_absolute_error: 0.0957 - accuracy: 0.8999\n",
      "Epoch 216/250\n",
      "598842/598842 [==============================] - 18s 30us/step - loss: 0.0963 - mean_absolute_error: 0.0963 - accuracy: 0.89930s - loss: 0.0964 - mean_absolute_error: 0.096\n",
      "Epoch 217/250\n",
      "598842/598842 [==============================] - 17s 29us/step - loss: 0.0956 - mean_absolute_error: 0.0956 - accuracy: 0.9004\n",
      "Epoch 218/250\n",
      "598842/598842 [==============================] - 16s 27us/step - loss: 0.0950 - mean_absolute_error: 0.0950 - accuracy: 0.90071s - loss: 0.0951 - mean_absol\n",
      "Epoch 219/250\n",
      "598842/598842 [==============================] - 18s 30us/step - loss: 0.0963 - mean_absolute_error: 0.0963 - accuracy: 0.89951s - loss:\n",
      "Epoch 220/250\n",
      "598842/598842 [==============================] - 17s 28us/step - loss: 0.0956 - mean_absolute_error: 0.0956 - accuracy: 0.90000s - loss: 0.0955 - mean_absolute_error: 0.0955 - accuracy\n",
      "Epoch 221/250\n",
      "598842/598842 [==============================] - 18s 30us/step - loss: 0.0956 - mean_absolute_error: 0.0956 - accuracy: 0.9003\n",
      "Epoch 222/250\n",
      "598842/598842 [==============================] - 18s 30us/step - loss: 0.0946 - mean_absolute_error: 0.0946 - accuracy: 0.9012\n",
      "Epoch 223/250\n",
      "598842/598842 [==============================] - 16s 26us/step - loss: 0.0956 - mean_absolute_error: 0.0956 - accuracy: 0.9002\n",
      "Epoch 224/250\n",
      "598842/598842 [==============================] - 17s 29us/step - loss: 0.0952 - mean_absolute_error: 0.0952 - accuracy: 0.9009\n",
      "Epoch 225/250\n",
      "598842/598842 [==============================] - 16s 27us/step - loss: 0.0950 - mean_absolute_error: 0.0950 - accuracy: 0.9007\n",
      "Epoch 226/250\n"
     ]
    },
    {
     "name": "stdout",
     "output_type": "stream",
     "text": [
      "598842/598842 [==============================] - 17s 28us/step - loss: 0.0957 - mean_absolute_error: 0.0957 - accuracy: 0.90030s - loss: 0.0957 - mean_absolute_error: 0.0957 - accura\n",
      "Epoch 227/250\n",
      "598842/598842 [==============================] - 17s 29us/step - loss: 0.0952 - mean_absolute_error: 0.0952 - accuracy: 0.9005\n",
      "Epoch 228/250\n",
      "598842/598842 [==============================] - 16s 27us/step - loss: 0.0954 - mean_absolute_error: 0.0954 - accuracy: 0.9003\n",
      "Epoch 229/250\n",
      "598842/598842 [==============================] - 17s 28us/step - loss: 0.0946 - mean_absolute_error: 0.0946 - accuracy: 0.9013\n",
      "Epoch 230/250\n",
      "598842/598842 [==============================] - 18s 30us/step - loss: 0.0951 - mean_absolute_error: 0.0951 - accuracy: 0.9012\n",
      "Epoch 231/250\n",
      "598842/598842 [==============================] - 18s 31us/step - loss: 0.0958 - mean_absolute_error: 0.0958 - accuracy: 0.9002\n",
      "Epoch 232/250\n",
      "598842/598842 [==============================] - 17s 28us/step - loss: 0.0945 - mean_absolute_error: 0.0945 - accuracy: 0.9015\n",
      "Epoch 233/250\n",
      "598842/598842 [==============================] - 18s 30us/step - loss: 0.0949 - mean_absolute_error: 0.0949 - accuracy: 0.9011\n",
      "Epoch 234/250\n",
      "598842/598842 [==============================] - 18s 30us/step - loss: 0.0945 - mean_absolute_error: 0.0945 - accuracy: 0.9015\n",
      "Epoch 235/250\n",
      "598842/598842 [==============================] - ETA: 0s - loss: 0.0949 - mean_absolute_error: 0.0949 - accuracy: 0.90 - 17s 28us/step - loss: 0.0949 - mean_absolute_error: 0.0949 - accuracy: 0.9007\n",
      "Epoch 236/250\n",
      "598842/598842 [==============================] - 17s 28us/step - loss: 0.0950 - mean_absolute_error: 0.0950 - accuracy: 0.9009\n",
      "Epoch 237/250\n",
      "598842/598842 [==============================] - 17s 28us/step - loss: 0.0951 - mean_absolute_error: 0.0951 - accuracy: 0.9009\n",
      "Epoch 238/250\n",
      "598842/598842 [==============================] - 18s 30us/step - loss: 0.0946 - mean_absolute_error: 0.0946 - accuracy: 0.9013\n",
      "Epoch 239/250\n",
      "598842/598842 [==============================] - 19s 31us/step - loss: 0.0942 - mean_absolute_error: 0.0942 - accuracy: 0.9020\n",
      "Epoch 240/250\n",
      "598842/598842 [==============================] - 18s 30us/step - loss: 0.0941 - mean_absolute_error: 0.0941 - accuracy: 0.9022\n",
      "Epoch 241/250\n",
      "598842/598842 [==============================] - 18s 30us/step - loss: 0.0952 - mean_absolute_error: 0.0952 - accuracy: 0.9009\n",
      "Epoch 242/250\n",
      "598842/598842 [==============================] - 18s 31us/step - loss: 0.0943 - mean_absolute_error: 0.0943 - accuracy: 0.9019\n",
      "Epoch 243/250\n",
      "598842/598842 [==============================] - 20s 33us/step - loss: 0.0936 - mean_absolute_error: 0.0936 - accuracy: 0.9027\n",
      "Epoch 244/250\n",
      "598842/598842 [==============================] - 22s 37us/step - loss: 0.0944 - mean_absolute_error: 0.0944 - accuracy: 0.9016\n",
      "Epoch 245/250\n",
      "598842/598842 [==============================] - 19s 31us/step - loss: 0.0945 - mean_absolute_error: 0.0945 - accuracy: 0.9016\n",
      "Epoch 246/250\n",
      "598842/598842 [==============================] - 19s 32us/step - loss: 0.0945 - mean_absolute_error: 0.0945 - accuracy: 0.90131s - loss: 0.0947 - mean_a\n",
      "Epoch 247/250\n",
      "598842/598842 [==============================] - 20s 33us/step - loss: 0.0935 - mean_absolute_error: 0.0935 - accuracy: 0.9028\n",
      "Epoch 248/250\n",
      "598842/598842 [==============================] - 19s 31us/step - loss: 0.0942 - mean_absolute_error: 0.0942 - accuracy: 0.9022\n",
      "Epoch 249/250\n",
      "598842/598842 [==============================] - 18s 30us/step - loss: 0.0939 - mean_absolute_error: 0.0939 - accuracy: 0.9025\n",
      "Epoch 250/250\n",
      "598842/598842 [==============================] - 19s 32us/step - loss: 0.0943 - mean_absolute_error: 0.0943 - accuracy: 0.90180s - loss: 0.0944 - mean_absolute_error: 0.0944 \n"
     ]
    },
    {
     "data": {
      "text/plain": [
       "<keras.callbacks.callbacks.History at 0x22fb7887f88>"
      ]
     },
     "execution_count": 32,
     "metadata": {},
     "output_type": "execute_result"
    }
   ],
   "source": [
    "model_optimizer.fit(train_X, train_y, epochs=250, batch_size=1000)"
   ]
  },
  {
   "cell_type": "code",
   "execution_count": 38,
   "metadata": {},
   "outputs": [
    {
     "name": "stderr",
     "output_type": "stream",
     "text": [
      "C:\\Users\\DBA\\Anaconda3\\lib\\site-packages\\sklearn\\ensemble\\forest.py:245: FutureWarning: The default value of n_estimators will change from 10 in version 0.20 to 100 in 0.22.\n",
      "  \"10 in version 0.20 to 100 in 0.22.\", FutureWarning)\n"
     ]
    },
    {
     "data": {
      "text/plain": [
       "RandomForestRegressor(bootstrap=True, criterion='mse', max_depth=None,\n",
       "                      max_features='auto', max_leaf_nodes=None,\n",
       "                      min_impurity_decrease=0.0, min_impurity_split=None,\n",
       "                      min_samples_leaf=1, min_samples_split=2,\n",
       "                      min_weight_fraction_leaf=0.0, n_estimators=10,\n",
       "                      n_jobs=None, oob_score=False, random_state=None,\n",
       "                      verbose=0, warm_start=False)"
      ]
     },
     "execution_count": 38,
     "metadata": {},
     "output_type": "execute_result"
    }
   ],
   "source": [
    "from sklearn.ensemble import RandomForestRegressor\n",
    "rf = RandomForestRegressor()\n",
    "rf.fit(train_X, train_y)"
   ]
  },
  {
   "cell_type": "code",
   "execution_count": 39,
   "metadata": {},
   "outputs": [
    {
     "name": "stderr",
     "output_type": "stream",
     "text": [
      "C:\\Users\\DBA\\Anaconda3\\lib\\site-packages\\sklearn\\base.py:420: FutureWarning: The default value of multioutput (not exposed in score method) will change from 'variance_weighted' to 'uniform_average' in 0.23 to keep consistent with 'metrics.r2_score'. To specify the default value manually and avoid the warning, please either call 'metrics.r2_score' directly or make a custom scorer with 'metrics.make_scorer' (the built-in scorer 'r2' uses multioutput='uniform_average').\n",
      "  \"multioutput='uniform_average').\", FutureWarning)\n"
     ]
    },
    {
     "name": "stdout",
     "output_type": "stream",
     "text": [
      "0.9998908072975337\n",
      "0.9994657941294923\n"
     ]
    },
    {
     "name": "stderr",
     "output_type": "stream",
     "text": [
      "C:\\Users\\DBA\\Anaconda3\\lib\\site-packages\\sklearn\\base.py:420: FutureWarning: The default value of multioutput (not exposed in score method) will change from 'variance_weighted' to 'uniform_average' in 0.23 to keep consistent with 'metrics.r2_score'. To specify the default value manually and avoid the warning, please either call 'metrics.r2_score' directly or make a custom scorer with 'metrics.make_scorer' (the built-in scorer 'r2' uses multioutput='uniform_average').\n",
      "  \"multioutput='uniform_average').\", FutureWarning)\n"
     ]
    }
   ],
   "source": [
    "print(rf.score(X_pmtrain,y_pmtrain))\n",
    "print(rf.score(X_pmtest,y_pmtest))"
   ]
  },
  {
   "cell_type": "code",
   "execution_count": 40,
   "metadata": {},
   "outputs": [],
   "source": [
    "random_pred = rf.predict(X_pmtest)"
   ]
  },
  {
   "cell_type": "code",
   "execution_count": 42,
   "metadata": {},
   "outputs": [
    {
     "data": {
      "text/plain": [
       "0.0005347175109157009"
      ]
     },
     "execution_count": 42,
     "metadata": {},
     "output_type": "execute_result"
    }
   ],
   "source": [
    "from sklearn.metrics import mean_squared_error\n",
    "mean_squared_error(y_pmtest , random_pred)"
   ]
  },
  {
   "cell_type": "code",
   "execution_count": 46,
   "metadata": {},
   "outputs": [],
   "source": [
    "import pickle\n",
    "pickle.dump(rf, open('model.pkl','wb'))"
   ]
  },
  {
   "cell_type": "code",
   "execution_count": 48,
   "metadata": {},
   "outputs": [
    {
     "name": "stdout",
     "output_type": "stream",
     "text": [
      "[[-2.4852828  -1.78010448]]\n"
     ]
    }
   ],
   "source": [
    "model = pickle.load(open('model.pkl','rb'))\n",
    "print(model.predict([[-0.752143,-1.118446,0.327935,-1.297858,-1.222428,-0.250182,1.029572,-0.245860,-2.066143,-2.018033,4]]))"
   ]
  },
  {
   "cell_type": "code",
   "execution_count": null,
   "metadata": {},
   "outputs": [],
   "source": []
  }
 ],
 "metadata": {
  "kernelspec": {
   "display_name": "Python 3",
   "language": "python",
   "name": "python3"
  },
  "language_info": {
   "codemirror_mode": {
    "name": "ipython",
    "version": 3
   },
   "file_extension": ".py",
   "mimetype": "text/x-python",
   "name": "python",
   "nbconvert_exporter": "python",
   "pygments_lexer": "ipython3",
   "version": "3.7.4"
  }
 },
 "nbformat": 4,
 "nbformat_minor": 2
}
